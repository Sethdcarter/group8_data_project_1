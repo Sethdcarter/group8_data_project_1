{
 "cells": [
  {
   "cell_type": "markdown",
   "id": "1bfab9c6-835a-433f-8059-989a9f37c0f6",
   "metadata": {},
   "source": [
    "# **United States Median House Price versus Median Household Income**"
   ]
  },
  {
   "cell_type": "markdown",
   "id": "960c5965-92e1-4b87-b45e-427b6746947d",
   "metadata": {},
   "source": [
    "### **Import Modules**"
   ]
  },
  {
   "cell_type": "code",
   "execution_count": 267,
   "id": "4b493c7e-bd31-4762-9037-476756762508",
   "metadata": {},
   "outputs": [],
   "source": [
    "# Import Modules\n",
    "import matplotlib.pyplot as plt     # This is a plotting library for Python that provides an object-oriented API for embedding plots into applications. It is widely used for creating static, animated, and interactive visualizations in Python.\n",
    "import pandas as pd     # A powerful data manipulation and analysis library that provides data structures like DataFrames and Series. It is essential for data cleaning, transformation, and analysis.\n",
    "import numpy as np     # A fundamental package for scientific computing in Python. It provides support for arrays, matrices, and a wide range of mathematical functions, which are useful for numerical computations.\n",
    "import requests     # A library for making HTTP requests in Python. It is often used to retrieve data from APIs or web services.\n",
    "import time     # A standard library module that provides various time-related functions. It can be useful for measuring execution time or introducing delays in code.\n",
    "from scipy.stats import linregress     # Part of the SciPy library, this function performs linear regression on two sets of data. It returns the slope, intercept, and other statistics that describe the relationship between the two variables.\n",
    "from pprint import pprint     # A module that provides a capability to \"pretty-print\" Python data structures in a formatted way, making them easier to read.\n",
    "import matplotlib.ticker as ticker     # A module within Matplotlib that provides support for formatting tick marks on plots, allowing for more control over how axis labels are displayed.\n",
    "import plotly.express as px     # A high-level interface for creating interactive visualizations with Plotly. It simplifies the process of generating complex visualizations with minimal code.\n",
    "import plotly.graph_objs as go     # This module contains the core objects used to create Plotly visualizations. It provides more granular control over the components of the plots compared to Plotly Express.\n",
    "from api_keys import api_ninjas_key\n",
    "import scipy.stats as st"
   ]
  },
  {
   "cell_type": "markdown",
   "id": "5cc84c8c-99c0-4b01-9d2d-93cd7f1f8b08",
   "metadata": {
    "jp-MarkdownHeadingCollapsed": true
   },
   "source": [
    "### **API Inclusion**"
   ]
  },
  {
   "cell_type": "code",
   "execution_count": 2,
   "id": "ffdda450-0d45-4a6a-98e9-294c7fc5a1e2",
   "metadata": {},
   "outputs": [
    {
     "data": {
      "text/plain": [
       "'https://api.api-ninjas.com/v1/inflation?country=United Statesappid=lCC4svfE9LzM4Pcw56MxWg==7LBMxzxCZa8b8Go4'"
      ]
     },
     "execution_count": 2,
     "metadata": {},
     "output_type": "execute_result"
    }
   ],
   "source": [
    "country = 'United States'\n",
    "api_url = 'https://api.api-ninjas.com/v1/inflation?country={}'.format(country)\n",
    "inflation_url = api_url + \"appid=\" + api_ninjas_key\n",
    "inflation_url\n",
    "#response = requests.get(inflation_url)\n"
   ]
  },
  {
   "cell_type": "code",
   "execution_count": 3,
   "id": "0ea61c63-afdd-489b-884d-17bef265a0ee",
   "metadata": {},
   "outputs": [
    {
     "data": {
      "text/plain": [
       "'https://api.api-ninjas.com/v1/inflationhistorical?appid=lCC4svfE9LzM4Pcw56MxWg==7LBMxzxCZa8b8Go4'"
      ]
     },
     "execution_count": 3,
     "metadata": {},
     "output_type": "execute_result"
    }
   ],
   "source": [
    "# API\n",
    "\n",
    "url = \"https://api.api-ninjas.com/v1/inflationhistorical?\"\n",
    "\n",
    "inflation_api_url = url + \"appid=\" + api_ninjas_key\n",
    "\n",
    "inflation_api_url\n"
   ]
  },
  {
   "cell_type": "markdown",
   "id": "9a8a8960-3aa6-4768-aa40-1421caae7d0d",
   "metadata": {
    "jp-MarkdownHeadingCollapsed": true
   },
   "source": [
    "### **Gather and Clean the Data from CSV Files**"
   ]
  },
  {
   "cell_type": "code",
   "execution_count": 45,
   "id": "ec9ebfb2-84e8-499b-9896-a96f99f33de7",
   "metadata": {},
   "outputs": [],
   "source": [
    "##### Read csv files and merge into a single readable dataframe #####\n",
    "\n",
    "# Data file path for median house price and household income\n",
    "median_house_price_path = \"../Datasets/Median_Sales_Price_Houses_US.csv\"\n",
    "median_household_income_path = \"../Datasets/Median_Household_Income_US.csv\"\n",
    "inflation_rate_path = \"../Datasets/US_Inflation_Rate_by_Year.csv\"\n",
    "\n",
    "# Read CSV file for median house price data and household income\n",
    "median_house_price_data = pd.read_csv(median_house_price_path)\n",
    "median_house_price_data = median_house_price_data.rename(columns = {\"DATE\":\"Year\", \"MSPUS\":\"Median House Price\"})\n",
    "median_house_price_data[\"Year\"] = pd.to_datetime(median_house_price_data[\"Year\"])     # Converts to a datetime format\n",
    "median_house_price_data[\"Year\"] = median_house_price_data[\"Year\"].dt.year     # Extracts and only displays the year for the date\n",
    "# Group by \"Year\" and take the maximum \"Median House Price\" and get the maximum price for each year\n",
    "median_house_price_data = median_house_price_data.groupby(\"Year\").agg({\"Median House Price\": \"max\"}).reset_index()\n",
    "# reset_index() converts the grouped DataFrame back into a regular DataFrame\n",
    "#median_house_price_data\n",
    "\n",
    "median_household_income_data = pd.read_csv(median_household_income_path)\n",
    "median_household_income_data = median_household_income_data.rename(columns = {\"DATE\":\"Year\", \"MEHOINUSA672N\":\"Median Household Income\"})\n",
    "median_household_income_data[\"Year\"] = pd.to_datetime(median_household_income_data[\"Year\"])     # Converts to a datetime format\n",
    "median_household_income_data[\"Year\"] = median_household_income_data[\"Year\"].dt.year     # Extracts and only displays the year for the date\n",
    "#median_household_income_data.head()\n",
    "\n",
    "inflation_rate_data = pd.read_csv(inflation_rate_path)\n",
    "inflation_rate_data = inflation_rate_data.rename(columns = {\"Inflation Rate YOY, From Previous Dec.\":\"Inflation Rate\"})\n",
    "inflation_rate_data = inflation_rate_data[[\"Year\", \"Inflation Rate\", \"Events Affecting Inflation\"]]\n",
    "#inflation_rate_data.head()"
   ]
  },
  {
   "cell_type": "code",
   "execution_count": 177,
   "id": "0a3517f9-a7ea-4885-8974-84941a421bc8",
   "metadata": {
    "scrolled": true
   },
   "outputs": [
    {
     "data": {
      "text/html": [
       "<div>\n",
       "<style scoped>\n",
       "    .dataframe tbody tr th:only-of-type {\n",
       "        vertical-align: middle;\n",
       "    }\n",
       "\n",
       "    .dataframe tbody tr th {\n",
       "        vertical-align: top;\n",
       "    }\n",
       "\n",
       "    .dataframe thead th {\n",
       "        text-align: right;\n",
       "    }\n",
       "</style>\n",
       "<table border=\"1\" class=\"dataframe\">\n",
       "  <thead>\n",
       "    <tr style=\"text-align: right;\">\n",
       "      <th></th>\n",
       "      <th>Year</th>\n",
       "      <th>Median House Price</th>\n",
       "      <th>Median Household Income</th>\n",
       "      <th>Inflation Rate</th>\n",
       "      <th>Events Affecting Inflation</th>\n",
       "    </tr>\n",
       "  </thead>\n",
       "  <tbody>\n",
       "    <tr>\n",
       "      <th>0</th>\n",
       "      <td>1984</td>\n",
       "      <td>81000.0</td>\n",
       "      <td>58930.0</td>\n",
       "      <td>0.039</td>\n",
       "      <td>NaN</td>\n",
       "    </tr>\n",
       "    <tr>\n",
       "      <th>1</th>\n",
       "      <td>1985</td>\n",
       "      <td>86800.0</td>\n",
       "      <td>60050.0</td>\n",
       "      <td>0.038</td>\n",
       "      <td>NaN</td>\n",
       "    </tr>\n",
       "    <tr>\n",
       "      <th>2</th>\n",
       "      <td>1986</td>\n",
       "      <td>95000.0</td>\n",
       "      <td>62280.0</td>\n",
       "      <td>0.011</td>\n",
       "      <td>Tax cut</td>\n",
       "    </tr>\n",
       "    <tr>\n",
       "      <th>3</th>\n",
       "      <td>1987</td>\n",
       "      <td>111500.0</td>\n",
       "      <td>63060.0</td>\n",
       "      <td>0.044</td>\n",
       "      <td>Black Monday crash</td>\n",
       "    </tr>\n",
       "    <tr>\n",
       "      <th>4</th>\n",
       "      <td>1988</td>\n",
       "      <td>115000.0</td>\n",
       "      <td>63530.0</td>\n",
       "      <td>0.044</td>\n",
       "      <td>Fed raised rates</td>\n",
       "    </tr>\n",
       "  </tbody>\n",
       "</table>\n",
       "</div>"
      ],
      "text/plain": [
       "   Year  Median House Price  Median Household Income  Inflation Rate  \\\n",
       "0  1984             81000.0                  58930.0           0.039   \n",
       "1  1985             86800.0                  60050.0           0.038   \n",
       "2  1986             95000.0                  62280.0           0.011   \n",
       "3  1987            111500.0                  63060.0           0.044   \n",
       "4  1988            115000.0                  63530.0           0.044   \n",
       "\n",
       "  Events Affecting Inflation  \n",
       "0                        NaN  \n",
       "1                        NaN  \n",
       "2                    Tax cut  \n",
       "3         Black Monday crash  \n",
       "4           Fed raised rates  "
      ]
     },
     "execution_count": 177,
     "metadata": {},
     "output_type": "execute_result"
    }
   ],
   "source": [
    "##### Format dataframe to be able to graph values #####\n",
    "\n",
    "# Combine the data into a single DataFrame\n",
    "combined_data_df = pd.merge(median_house_price_data, median_household_income_data, how = \"inner\", on = \"Year\")\n",
    "combined_data_df = pd.merge(combined_data_df, inflation_rate_data, how = \"inner\", on = \"Year\")\n",
    "\n",
    "# Convert to integer\n",
    "combined_data_df[\"Median House Price\"] = combined_data_df[\"Median House Price\"].astype(float)\n",
    "combined_data_df[\"Median Household Income\"] = combined_data_df[\"Median Household Income\"].astype(float)\n",
    "combined_data_df[\"Inflation Rate\"] = combined_data_df[\"Inflation Rate\"].str.replace('%', '').astype(float) / 100\n",
    "\n",
    "# Display the data table for preview\n",
    "combined_data_df.head()"
   ]
  },
  {
   "cell_type": "code",
   "execution_count": 130,
   "id": "17a8c03a-3bf3-4f9e-9fe3-91cedd46e526",
   "metadata": {},
   "outputs": [],
   "source": [
    "# Show rows with null values in the \"Events Affecting Inflation\" column\n",
    "null_events_df = combined_data_df[combined_data_df[\"Events Affecting Inflation\"].isnull()]\n",
    "#null_events_df\n",
    "\n",
    "# Show rows without null values in the \"Events Affecting Inflation\" column\n",
    "non_null_events_df = combined_data_df[combined_data_df[\"Events Affecting Inflation\"].notnull()]\n",
    "#non_null_events_df"
   ]
  },
  {
   "cell_type": "code",
   "execution_count": 178,
   "id": "db26a408-a996-4133-99c0-7254551bf653",
   "metadata": {},
   "outputs": [
    {
     "data": {
      "text/plain": [
       "Year                            int32\n",
       "Median House Price            float64\n",
       "Median Household Income       float64\n",
       "Inflation Rate                float64\n",
       "Events Affecting Inflation     object\n",
       "dtype: object"
      ]
     },
     "execution_count": 178,
     "metadata": {},
     "output_type": "execute_result"
    }
   ],
   "source": [
    "# Check data types\n",
    "combined_data_df.dtypes"
   ]
  },
  {
   "cell_type": "code",
   "execution_count": 216,
   "id": "d2ee20a0-f32a-4d45-8257-5498f7b186f8",
   "metadata": {},
   "outputs": [
    {
     "data": {
      "text/html": [
       "<div>\n",
       "<style scoped>\n",
       "    .dataframe tbody tr th:only-of-type {\n",
       "        vertical-align: middle;\n",
       "    }\n",
       "\n",
       "    .dataframe tbody tr th {\n",
       "        vertical-align: top;\n",
       "    }\n",
       "\n",
       "    .dataframe thead th {\n",
       "        text-align: right;\n",
       "    }\n",
       "</style>\n",
       "<table border=\"1\" class=\"dataframe\">\n",
       "  <thead>\n",
       "    <tr style=\"text-align: right;\">\n",
       "      <th></th>\n",
       "      <th>Year</th>\n",
       "      <th>Median House Price</th>\n",
       "      <th>Median Household Income</th>\n",
       "      <th>Inflation Rate</th>\n",
       "      <th>Events Affecting Inflation</th>\n",
       "    </tr>\n",
       "  </thead>\n",
       "  <tbody>\n",
       "    <tr>\n",
       "      <th>0</th>\n",
       "      <td>1984</td>\n",
       "      <td>$81,000.00</td>\n",
       "      <td>$58,930.00</td>\n",
       "      <td>3.90%</td>\n",
       "      <td>NaN</td>\n",
       "    </tr>\n",
       "    <tr>\n",
       "      <th>1</th>\n",
       "      <td>1985</td>\n",
       "      <td>$86,800.00</td>\n",
       "      <td>$60,050.00</td>\n",
       "      <td>3.80%</td>\n",
       "      <td>NaN</td>\n",
       "    </tr>\n",
       "    <tr>\n",
       "      <th>2</th>\n",
       "      <td>1986</td>\n",
       "      <td>$95,000.00</td>\n",
       "      <td>$62,280.00</td>\n",
       "      <td>1.10%</td>\n",
       "      <td>Tax cut</td>\n",
       "    </tr>\n",
       "    <tr>\n",
       "      <th>3</th>\n",
       "      <td>1987</td>\n",
       "      <td>$111,500.00</td>\n",
       "      <td>$63,060.00</td>\n",
       "      <td>4.40%</td>\n",
       "      <td>Black Monday crash</td>\n",
       "    </tr>\n",
       "    <tr>\n",
       "      <th>4</th>\n",
       "      <td>1988</td>\n",
       "      <td>$115,000.00</td>\n",
       "      <td>$63,530.00</td>\n",
       "      <td>4.40%</td>\n",
       "      <td>Fed raised rates</td>\n",
       "    </tr>\n",
       "  </tbody>\n",
       "</table>\n",
       "</div>"
      ],
      "text/plain": [
       "   Year Median House Price Median Household Income Inflation Rate  \\\n",
       "0  1984         $81,000.00              $58,930.00          3.90%   \n",
       "1  1985         $86,800.00              $60,050.00          3.80%   \n",
       "2  1986         $95,000.00              $62,280.00          1.10%   \n",
       "3  1987        $111,500.00              $63,060.00          4.40%   \n",
       "4  1988        $115,000.00              $63,530.00          4.40%   \n",
       "\n",
       "  Events Affecting Inflation  \n",
       "0                        NaN  \n",
       "1                        NaN  \n",
       "2                    Tax cut  \n",
       "3         Black Monday crash  \n",
       "4           Fed raised rates  "
      ]
     },
     "execution_count": 216,
     "metadata": {},
     "output_type": "execute_result"
    }
   ],
   "source": [
    "##### Craete new dataframe to format values and write to csv file #####\n",
    "\n",
    "# Create a copy of the combined_data_df \n",
    "combined_data_formatted_df = combined_data_df.copy()\n",
    "\n",
    "# Convert Median House Price and Median Household Income values to $ format (Note: cannot use this df for graphing because it changes the values from numeric to strings, only will use to export to csv)\n",
    "combined_data_formatted_df[\"Median House Price\"] = combined_data_formatted_df[\"Median House Price\"].map(\"${:,.2f}\".format)\n",
    "combined_data_formatted_df[\"Median Household Income\"] = combined_data_formatted_df[\"Median Household Income\"].map(\"${:,.2f}\".format)\n",
    "combined_data_formatted_df[\"Inflation Rate\"] = combined_data_formatted_df[\"Inflation Rate\"] * 100\n",
    "combined_data_formatted_df[\"Inflation Rate\"] = combined_data_formatted_df[\"Inflation Rate\"].map(\"{:.2f}%\".format)\n",
    "\n",
    "# Export the data into a csv\n",
    "combined_data_formatted_df.to_csv(\"../Output/House_Price_vs_Household_Income_Data.csv\")\n",
    "\n",
    "# Display the data table for preview\n",
    "combined_data_formatted_df.head()"
   ]
  },
  {
   "cell_type": "code",
   "execution_count": 231,
   "id": "7a54fe93-0262-4443-92dd-939afc3f5fb8",
   "metadata": {},
   "outputs": [
    {
     "data": {
      "text/html": [
       "<div>\n",
       "<style scoped>\n",
       "    .dataframe tbody tr th:only-of-type {\n",
       "        vertical-align: middle;\n",
       "    }\n",
       "\n",
       "    .dataframe tbody tr th {\n",
       "        vertical-align: top;\n",
       "    }\n",
       "\n",
       "    .dataframe thead th {\n",
       "        text-align: right;\n",
       "    }\n",
       "</style>\n",
       "<table border=\"1\" class=\"dataframe\">\n",
       "  <thead>\n",
       "    <tr style=\"text-align: right;\">\n",
       "      <th></th>\n",
       "      <th>Year</th>\n",
       "      <th>Median House Price</th>\n",
       "      <th>Median House Price % Change</th>\n",
       "      <th>Median Household Income</th>\n",
       "      <th>Median Household Income % Change</th>\n",
       "      <th>Inflation Rate</th>\n",
       "      <th>Events Affecting Inflation</th>\n",
       "    </tr>\n",
       "  </thead>\n",
       "  <tbody>\n",
       "    <tr>\n",
       "      <th>1</th>\n",
       "      <td>1985</td>\n",
       "      <td>86800.0</td>\n",
       "      <td>0.071605</td>\n",
       "      <td>60050.0</td>\n",
       "      <td>0.019006</td>\n",
       "      <td>0.038</td>\n",
       "      <td>NaN</td>\n",
       "    </tr>\n",
       "    <tr>\n",
       "      <th>2</th>\n",
       "      <td>1986</td>\n",
       "      <td>95000.0</td>\n",
       "      <td>0.094470</td>\n",
       "      <td>62280.0</td>\n",
       "      <td>0.037136</td>\n",
       "      <td>0.011</td>\n",
       "      <td>Tax cut</td>\n",
       "    </tr>\n",
       "    <tr>\n",
       "      <th>3</th>\n",
       "      <td>1987</td>\n",
       "      <td>111500.0</td>\n",
       "      <td>0.173684</td>\n",
       "      <td>63060.0</td>\n",
       "      <td>0.012524</td>\n",
       "      <td>0.044</td>\n",
       "      <td>Black Monday crash</td>\n",
       "    </tr>\n",
       "    <tr>\n",
       "      <th>4</th>\n",
       "      <td>1988</td>\n",
       "      <td>115000.0</td>\n",
       "      <td>0.031390</td>\n",
       "      <td>63530.0</td>\n",
       "      <td>0.007453</td>\n",
       "      <td>0.044</td>\n",
       "      <td>Fed raised rates</td>\n",
       "    </tr>\n",
       "    <tr>\n",
       "      <th>5</th>\n",
       "      <td>1989</td>\n",
       "      <td>124800.0</td>\n",
       "      <td>0.085217</td>\n",
       "      <td>64610.0</td>\n",
       "      <td>0.017000</td>\n",
       "      <td>0.046</td>\n",
       "      <td>S&amp;L crisis</td>\n",
       "    </tr>\n",
       "  </tbody>\n",
       "</table>\n",
       "</div>"
      ],
      "text/plain": [
       "   Year  Median House Price  Median House Price % Change  \\\n",
       "1  1985             86800.0                     0.071605   \n",
       "2  1986             95000.0                     0.094470   \n",
       "3  1987            111500.0                     0.173684   \n",
       "4  1988            115000.0                     0.031390   \n",
       "5  1989            124800.0                     0.085217   \n",
       "\n",
       "   Median Household Income  Median Household Income % Change  Inflation Rate  \\\n",
       "1                  60050.0                          0.019006           0.038   \n",
       "2                  62280.0                          0.037136           0.011   \n",
       "3                  63060.0                          0.012524           0.044   \n",
       "4                  63530.0                          0.007453           0.044   \n",
       "5                  64610.0                          0.017000           0.046   \n",
       "\n",
       "  Events Affecting Inflation  \n",
       "1                        NaN  \n",
       "2                    Tax cut  \n",
       "3         Black Monday crash  \n",
       "4           Fed raised rates  \n",
       "5                 S&L crisis  "
      ]
     },
     "execution_count": 231,
     "metadata": {},
     "output_type": "execute_result"
    }
   ],
   "source": [
    "##### Create a new dataframe to calculate the % change of the Median House Price and Median Household Income year over year to then compare with the inflation rate #####\n",
    "\n",
    "# Create a copy of the original DataFrame\n",
    "combined_data_calculations_df = combined_data_df.copy()\n",
    "\n",
    "# Calculate the Median House Price % Change\n",
    "combined_data_calculations_df[\"Median House Price % Change\"] = (combined_data_calculations_df[\"Median House Price\"] / combined_data_calculations_df[\"Median House Price\"].shift(1)) - 1\n",
    "\n",
    "# Calculate the Median Household Income % Change\n",
    "combined_data_calculations_df[\"Median Household Income % Change\"] = (combined_data_calculations_df[\"Median Household Income\"] / combined_data_calculations_df[\"Median Household Income\"].shift(1)) - 1\n",
    "\n",
    "# Adjust DataFrame columns\n",
    "combined_data_calculations_df = combined_data_calculations_df[[\"Year\", \"Median House Price\", \"Median House Price % Change\", \"Median Household Income\", \"Median Household Income % Change\", \"Inflation Rate\", \"Events Affecting Inflation\"]]\n",
    "\n",
    "# Drop rows where Median House Price % Change or Median Household Income % Change are NaN\n",
    "combined_data_calculations_df = combined_data_calculations_df.dropna(subset=[\"Median House Price % Change\", \"Median Household Income % Change\"])\n",
    "\n",
    "# Display the DataFrame\n",
    "combined_data_calculations_df.head()"
   ]
  },
  {
   "cell_type": "code",
   "execution_count": 233,
   "id": "4260a3cc-2636-43f0-a44b-216e2a89b035",
   "metadata": {},
   "outputs": [
    {
     "data": {
      "text/html": [
       "<div>\n",
       "<style scoped>\n",
       "    .dataframe tbody tr th:only-of-type {\n",
       "        vertical-align: middle;\n",
       "    }\n",
       "\n",
       "    .dataframe tbody tr th {\n",
       "        vertical-align: top;\n",
       "    }\n",
       "\n",
       "    .dataframe thead th {\n",
       "        text-align: right;\n",
       "    }\n",
       "</style>\n",
       "<table border=\"1\" class=\"dataframe\">\n",
       "  <thead>\n",
       "    <tr style=\"text-align: right;\">\n",
       "      <th></th>\n",
       "      <th>Year</th>\n",
       "      <th>Median House Price</th>\n",
       "      <th>Median House Price % Change</th>\n",
       "      <th>Median Household Income</th>\n",
       "      <th>Median Household Income % Change</th>\n",
       "      <th>Inflation Rate</th>\n",
       "      <th>Events Affecting Inflation</th>\n",
       "    </tr>\n",
       "  </thead>\n",
       "  <tbody>\n",
       "    <tr>\n",
       "      <th>1</th>\n",
       "      <td>1985</td>\n",
       "      <td>$86,800.00</td>\n",
       "      <td>7.16%</td>\n",
       "      <td>$60,050.00</td>\n",
       "      <td>1.90%</td>\n",
       "      <td>3.80%</td>\n",
       "      <td>NaN</td>\n",
       "    </tr>\n",
       "    <tr>\n",
       "      <th>2</th>\n",
       "      <td>1986</td>\n",
       "      <td>$95,000.00</td>\n",
       "      <td>9.45%</td>\n",
       "      <td>$62,280.00</td>\n",
       "      <td>3.71%</td>\n",
       "      <td>1.10%</td>\n",
       "      <td>Tax cut</td>\n",
       "    </tr>\n",
       "    <tr>\n",
       "      <th>3</th>\n",
       "      <td>1987</td>\n",
       "      <td>$111,500.00</td>\n",
       "      <td>17.37%</td>\n",
       "      <td>$63,060.00</td>\n",
       "      <td>1.25%</td>\n",
       "      <td>4.40%</td>\n",
       "      <td>Black Monday crash</td>\n",
       "    </tr>\n",
       "    <tr>\n",
       "      <th>4</th>\n",
       "      <td>1988</td>\n",
       "      <td>$115,000.00</td>\n",
       "      <td>3.14%</td>\n",
       "      <td>$63,530.00</td>\n",
       "      <td>0.75%</td>\n",
       "      <td>4.40%</td>\n",
       "      <td>Fed raised rates</td>\n",
       "    </tr>\n",
       "    <tr>\n",
       "      <th>5</th>\n",
       "      <td>1989</td>\n",
       "      <td>$124,800.00</td>\n",
       "      <td>8.52%</td>\n",
       "      <td>$64,610.00</td>\n",
       "      <td>1.70%</td>\n",
       "      <td>4.60%</td>\n",
       "      <td>S&amp;L crisis</td>\n",
       "    </tr>\n",
       "  </tbody>\n",
       "</table>\n",
       "</div>"
      ],
      "text/plain": [
       "   Year Median House Price Median House Price % Change  \\\n",
       "1  1985         $86,800.00                       7.16%   \n",
       "2  1986         $95,000.00                       9.45%   \n",
       "3  1987        $111,500.00                      17.37%   \n",
       "4  1988        $115,000.00                       3.14%   \n",
       "5  1989        $124,800.00                       8.52%   \n",
       "\n",
       "  Median Household Income Median Household Income % Change Inflation Rate  \\\n",
       "1              $60,050.00                            1.90%          3.80%   \n",
       "2              $62,280.00                            3.71%          1.10%   \n",
       "3              $63,060.00                            1.25%          4.40%   \n",
       "4              $63,530.00                            0.75%          4.40%   \n",
       "5              $64,610.00                            1.70%          4.60%   \n",
       "\n",
       "  Events Affecting Inflation  \n",
       "1                        NaN  \n",
       "2                    Tax cut  \n",
       "3         Black Monday crash  \n",
       "4           Fed raised rates  \n",
       "5                 S&L crisis  "
      ]
     },
     "execution_count": 233,
     "metadata": {},
     "output_type": "execute_result"
    }
   ],
   "source": [
    "##### Create new formatted dataframe to update csv file with new calculated columns #####\n",
    "\n",
    "# Create a copy of the combined_data_df \n",
    "combined_data_calculations_formatted_df = combined_data_calculations_df.copy()\n",
    "\n",
    "# Convert Median House Price and Median Household Income values to $ format (Note: cannot use this df for graphing because it changes the values from numeric to strings, only will use to export to csv)\n",
    "combined_data_calculations_formatted_df[\"Median House Price\"] = combined_data_calculations_formatted_df[\"Median House Price\"].map(\"${:,.2f}\".format)\n",
    "combined_data_calculations_formatted_df[\"Median Household Income\"] = combined_data_calculations_formatted_df[\"Median Household Income\"].map(\"${:,.2f}\".format)\n",
    "combined_data_calculations_formatted_df[\"Inflation Rate\"] = combined_data_calculations_formatted_df[\"Inflation Rate\"] * 100\n",
    "combined_data_calculations_formatted_df[\"Inflation Rate\"] = combined_data_calculations_formatted_df[\"Inflation Rate\"].map(\"{:.2f}%\".format)\n",
    "combined_data_calculations_formatted_df[\"Median House Price % Change\"] = combined_data_calculations_formatted_df[\"Median House Price % Change\"] * 100\n",
    "combined_data_calculations_formatted_df[\"Median House Price % Change\"] = combined_data_calculations_formatted_df[\"Median House Price % Change\"].map(\"{:.2f}%\".format)\n",
    "combined_data_calculations_formatted_df[\"Median Household Income % Change\"] = combined_data_calculations_formatted_df[\"Median Household Income % Change\"] * 100\n",
    "combined_data_calculations_formatted_df[\"Median Household Income % Change\"] = combined_data_calculations_formatted_df[\"Median Household Income % Change\"].map(\"{:.2f}%\".format)\n",
    "\n",
    "# Export the data into a csv\n",
    "combined_data_calculations_formatted_df.to_csv(\"../Output/House_Price_vs_Household_Income_Data.csv\")\n",
    "\n",
    "# Display the data table for preview\n",
    "combined_data_calculations_formatted_df.head()"
   ]
  },
  {
   "cell_type": "code",
   "execution_count": 202,
   "id": "96273f2c-cd28-4b11-b4b7-e4e42b84e51d",
   "metadata": {},
   "outputs": [
    {
     "data": {
      "text/plain": [
       "Year                                  int32\n",
       "Median House Price                  float64\n",
       "Median House Price % Change         float64\n",
       "Median Household Income             float64\n",
       "Median Household Income % Change    float64\n",
       "Inflation Rate                      float64\n",
       "dtype: object"
      ]
     },
     "execution_count": 202,
     "metadata": {},
     "output_type": "execute_result"
    }
   ],
   "source": [
    "# Check data types\n",
    "combined_data_calculations_df.dtypes"
   ]
  },
  {
   "cell_type": "code",
   "execution_count": 204,
   "id": "27d24b0f-85bd-47f3-a7d7-3633e7755952",
   "metadata": {},
   "outputs": [],
   "source": [
    "# Create dataframe with Median House Price adjusted for Inflation Rate\n",
    "#combined_data_df[\"Median House Price % Increase\"] = ((combined_data_df[\"Median House Price\"] / combined_data_df[\"Median House Price\"].shift(1)) - 1) * 100\n",
    "#combined_data_df[\"Median House Price % Increase\"] = combined_data_df[\"Median House Price % Increase\"].apply(lambda x: f\"{x:.2f}%\")\n",
    "#combined_data_df[\"Median Household Income % Increase\"] = ((combined_data_df[\"Median Household Income\"] / combined_data_df[\"Median Household Income\"].shift(1)) - 1) * 100\n",
    "#combined_data_df[\"Median Household Income % Increase\"] = combined_data_df[\"Median Household Income % Increase\"].apply(lambda x: f\"{x:.2f}%\")\n",
    "#combined_data_calculations_df = combined_data_df[\""
   ]
  },
  {
   "cell_type": "markdown",
   "id": "8f0821a3-b201-49e5-9c0f-ea3bec2a7f15",
   "metadata": {
    "jp-MarkdownHeadingCollapsed": true
   },
   "source": [
    "### **Create Scatter Graph for Median House Price vs Median Household Income**"
   ]
  },
  {
   "cell_type": "code",
   "execution_count": 205,
   "id": "0d0d37c4-9978-4459-b0ba-6a71f765d9d6",
   "metadata": {},
   "outputs": [
    {
     "data": {
      "application/vnd.plotly.v1+json": {
       "config": {
        "plotlyServerURL": "https://plot.ly"
       },
       "data": [
        {
         "hovertemplate": "<b>%{hovertext}</b><br><br>Median Household Income=%{x}<br>Median House Price=%{y}<extra></extra>",
         "hovertext": [
          1984,
          1985,
          1986,
          1987,
          1988,
          1989,
          1990,
          1991,
          1992,
          1993,
          1994,
          1995,
          1996,
          1997,
          1998,
          1999,
          2000,
          2001,
          2002,
          2003,
          2004,
          2005,
          2006,
          2007,
          2008,
          2009,
          2010,
          2011,
          2012,
          2013,
          2014,
          2015,
          2016,
          2017,
          2018,
          2019,
          2020,
          2021,
          2022,
          2023
         ],
         "legendgroup": "",
         "marker": {
          "color": "#636efa",
          "symbol": "circle"
         },
         "mode": "markers",
         "name": "",
         "orientation": "v",
         "showlegend": false,
         "type": "scatter",
         "x": [
          58930,
          60050,
          62280,
          63060,
          63530,
          64610,
          63830,
          61960,
          61450,
          61150,
          61800,
          63770,
          64710,
          66050,
          68470,
          70210,
          70020,
          68870,
          68310,
          68350,
          68250,
          69310,
          70080,
          71210,
          68780,
          68340,
          66730,
          65750,
          65740,
          68220,
          67360,
          71000,
          73520,
          74810,
          75790,
          81210,
          79560,
          79260,
          77540,
          80610
         ],
         "xaxis": "x",
         "y": [
          81000,
          86800,
          95000,
          111500,
          115000,
          124800,
          126800,
          120000,
          126000,
          127000,
          132000,
          138000,
          144100,
          145800,
          153000,
          165300,
          172900,
          179000,
          190100,
          198800,
          228800,
          243600,
          247700,
          257400,
          235300,
          220900,
          224300,
          228100,
          251700,
          273600,
          298900,
          302500,
          310900,
          337900,
          331800,
          327100,
          338600,
          414000,
          442600,
          435400
         ],
         "yaxis": "y"
        },
        {
         "hovertemplate": "<b>OLS trendline</b><br>Median House Price = 15.184 * Median Household Income + -820909<br>R<sup>2</sup>=0.813253<br><br>Median Household Income=%{x}<br>Median House Price=%{y} <b>(trend)</b><extra></extra>",
         "legendgroup": "",
         "marker": {
          "color": "#636efa",
          "symbol": "circle"
         },
         "mode": "lines",
         "name": "",
         "showlegend": false,
         "type": "scatter",
         "x": [
          58930,
          60050,
          61150,
          61450,
          61800,
          61960,
          62280,
          63060,
          63530,
          63770,
          63830,
          64610,
          64710,
          65740,
          65750,
          66050,
          66730,
          67360,
          68220,
          68250,
          68310,
          68340,
          68350,
          68470,
          68780,
          68870,
          69310,
          70020,
          70080,
          70210,
          71000,
          71210,
          73520,
          74810,
          75790,
          77540,
          79260,
          79560,
          80610,
          81210
         ],
         "xaxis": "x",
         "y": [
          73884.40296369186,
          90890.4959111755,
          107592.90862745396,
          112148.11209552991,
          117462.5161416186,
          119891.95799125906,
          124750.84169054008,
          136594.37070753763,
          143730.85614085663,
          147375.01891531737,
          148286.05960893258,
          160129.58862593002,
          161647.98978195537,
          177287.52168901614,
          177439.36180461873,
          181994.5652726947,
          192319.69313366688,
          201885.62041662633,
          214943.87035844417,
          215399.39070525172,
          216310.43139886693,
          216765.95174567448,
          216917.79186127707,
          218739.87324850739,
          223446.91683218593,
          224813.4778726087,
          231494.44295912003,
          242275.09116689977,
          243186.1318605151,
          245160.0533633479,
          257155.42249594792,
          260344.06492360123,
          295419.131627786,
          315006.50654051267,
          329886.8378695608,
          356458.858100004,
          382575.35798363946,
          387130.5614517154,
          403073.77358998125,
          412184.18052613316
         ],
         "yaxis": "y"
        }
       ],
       "layout": {
        "height": 600,
        "legend": {
         "tracegroupgap": 0
        },
        "plot_bgcolor": "white",
        "template": {
         "data": {
          "bar": [
           {
            "error_x": {
             "color": "#2a3f5f"
            },
            "error_y": {
             "color": "#2a3f5f"
            },
            "marker": {
             "line": {
              "color": "#E5ECF6",
              "width": 0.5
             },
             "pattern": {
              "fillmode": "overlay",
              "size": 10,
              "solidity": 0.2
             }
            },
            "type": "bar"
           }
          ],
          "barpolar": [
           {
            "marker": {
             "line": {
              "color": "#E5ECF6",
              "width": 0.5
             },
             "pattern": {
              "fillmode": "overlay",
              "size": 10,
              "solidity": 0.2
             }
            },
            "type": "barpolar"
           }
          ],
          "carpet": [
           {
            "aaxis": {
             "endlinecolor": "#2a3f5f",
             "gridcolor": "white",
             "linecolor": "white",
             "minorgridcolor": "white",
             "startlinecolor": "#2a3f5f"
            },
            "baxis": {
             "endlinecolor": "#2a3f5f",
             "gridcolor": "white",
             "linecolor": "white",
             "minorgridcolor": "white",
             "startlinecolor": "#2a3f5f"
            },
            "type": "carpet"
           }
          ],
          "choropleth": [
           {
            "colorbar": {
             "outlinewidth": 0,
             "ticks": ""
            },
            "type": "choropleth"
           }
          ],
          "contour": [
           {
            "colorbar": {
             "outlinewidth": 0,
             "ticks": ""
            },
            "colorscale": [
             [
              0,
              "#0d0887"
             ],
             [
              0.1111111111111111,
              "#46039f"
             ],
             [
              0.2222222222222222,
              "#7201a8"
             ],
             [
              0.3333333333333333,
              "#9c179e"
             ],
             [
              0.4444444444444444,
              "#bd3786"
             ],
             [
              0.5555555555555556,
              "#d8576b"
             ],
             [
              0.6666666666666666,
              "#ed7953"
             ],
             [
              0.7777777777777778,
              "#fb9f3a"
             ],
             [
              0.8888888888888888,
              "#fdca26"
             ],
             [
              1,
              "#f0f921"
             ]
            ],
            "type": "contour"
           }
          ],
          "contourcarpet": [
           {
            "colorbar": {
             "outlinewidth": 0,
             "ticks": ""
            },
            "type": "contourcarpet"
           }
          ],
          "heatmap": [
           {
            "colorbar": {
             "outlinewidth": 0,
             "ticks": ""
            },
            "colorscale": [
             [
              0,
              "#0d0887"
             ],
             [
              0.1111111111111111,
              "#46039f"
             ],
             [
              0.2222222222222222,
              "#7201a8"
             ],
             [
              0.3333333333333333,
              "#9c179e"
             ],
             [
              0.4444444444444444,
              "#bd3786"
             ],
             [
              0.5555555555555556,
              "#d8576b"
             ],
             [
              0.6666666666666666,
              "#ed7953"
             ],
             [
              0.7777777777777778,
              "#fb9f3a"
             ],
             [
              0.8888888888888888,
              "#fdca26"
             ],
             [
              1,
              "#f0f921"
             ]
            ],
            "type": "heatmap"
           }
          ],
          "heatmapgl": [
           {
            "colorbar": {
             "outlinewidth": 0,
             "ticks": ""
            },
            "colorscale": [
             [
              0,
              "#0d0887"
             ],
             [
              0.1111111111111111,
              "#46039f"
             ],
             [
              0.2222222222222222,
              "#7201a8"
             ],
             [
              0.3333333333333333,
              "#9c179e"
             ],
             [
              0.4444444444444444,
              "#bd3786"
             ],
             [
              0.5555555555555556,
              "#d8576b"
             ],
             [
              0.6666666666666666,
              "#ed7953"
             ],
             [
              0.7777777777777778,
              "#fb9f3a"
             ],
             [
              0.8888888888888888,
              "#fdca26"
             ],
             [
              1,
              "#f0f921"
             ]
            ],
            "type": "heatmapgl"
           }
          ],
          "histogram": [
           {
            "marker": {
             "pattern": {
              "fillmode": "overlay",
              "size": 10,
              "solidity": 0.2
             }
            },
            "type": "histogram"
           }
          ],
          "histogram2d": [
           {
            "colorbar": {
             "outlinewidth": 0,
             "ticks": ""
            },
            "colorscale": [
             [
              0,
              "#0d0887"
             ],
             [
              0.1111111111111111,
              "#46039f"
             ],
             [
              0.2222222222222222,
              "#7201a8"
             ],
             [
              0.3333333333333333,
              "#9c179e"
             ],
             [
              0.4444444444444444,
              "#bd3786"
             ],
             [
              0.5555555555555556,
              "#d8576b"
             ],
             [
              0.6666666666666666,
              "#ed7953"
             ],
             [
              0.7777777777777778,
              "#fb9f3a"
             ],
             [
              0.8888888888888888,
              "#fdca26"
             ],
             [
              1,
              "#f0f921"
             ]
            ],
            "type": "histogram2d"
           }
          ],
          "histogram2dcontour": [
           {
            "colorbar": {
             "outlinewidth": 0,
             "ticks": ""
            },
            "colorscale": [
             [
              0,
              "#0d0887"
             ],
             [
              0.1111111111111111,
              "#46039f"
             ],
             [
              0.2222222222222222,
              "#7201a8"
             ],
             [
              0.3333333333333333,
              "#9c179e"
             ],
             [
              0.4444444444444444,
              "#bd3786"
             ],
             [
              0.5555555555555556,
              "#d8576b"
             ],
             [
              0.6666666666666666,
              "#ed7953"
             ],
             [
              0.7777777777777778,
              "#fb9f3a"
             ],
             [
              0.8888888888888888,
              "#fdca26"
             ],
             [
              1,
              "#f0f921"
             ]
            ],
            "type": "histogram2dcontour"
           }
          ],
          "mesh3d": [
           {
            "colorbar": {
             "outlinewidth": 0,
             "ticks": ""
            },
            "type": "mesh3d"
           }
          ],
          "parcoords": [
           {
            "line": {
             "colorbar": {
              "outlinewidth": 0,
              "ticks": ""
             }
            },
            "type": "parcoords"
           }
          ],
          "pie": [
           {
            "automargin": true,
            "type": "pie"
           }
          ],
          "scatter": [
           {
            "fillpattern": {
             "fillmode": "overlay",
             "size": 10,
             "solidity": 0.2
            },
            "type": "scatter"
           }
          ],
          "scatter3d": [
           {
            "line": {
             "colorbar": {
              "outlinewidth": 0,
              "ticks": ""
             }
            },
            "marker": {
             "colorbar": {
              "outlinewidth": 0,
              "ticks": ""
             }
            },
            "type": "scatter3d"
           }
          ],
          "scattercarpet": [
           {
            "marker": {
             "colorbar": {
              "outlinewidth": 0,
              "ticks": ""
             }
            },
            "type": "scattercarpet"
           }
          ],
          "scattergeo": [
           {
            "marker": {
             "colorbar": {
              "outlinewidth": 0,
              "ticks": ""
             }
            },
            "type": "scattergeo"
           }
          ],
          "scattergl": [
           {
            "marker": {
             "colorbar": {
              "outlinewidth": 0,
              "ticks": ""
             }
            },
            "type": "scattergl"
           }
          ],
          "scattermapbox": [
           {
            "marker": {
             "colorbar": {
              "outlinewidth": 0,
              "ticks": ""
             }
            },
            "type": "scattermapbox"
           }
          ],
          "scatterpolar": [
           {
            "marker": {
             "colorbar": {
              "outlinewidth": 0,
              "ticks": ""
             }
            },
            "type": "scatterpolar"
           }
          ],
          "scatterpolargl": [
           {
            "marker": {
             "colorbar": {
              "outlinewidth": 0,
              "ticks": ""
             }
            },
            "type": "scatterpolargl"
           }
          ],
          "scatterternary": [
           {
            "marker": {
             "colorbar": {
              "outlinewidth": 0,
              "ticks": ""
             }
            },
            "type": "scatterternary"
           }
          ],
          "surface": [
           {
            "colorbar": {
             "outlinewidth": 0,
             "ticks": ""
            },
            "colorscale": [
             [
              0,
              "#0d0887"
             ],
             [
              0.1111111111111111,
              "#46039f"
             ],
             [
              0.2222222222222222,
              "#7201a8"
             ],
             [
              0.3333333333333333,
              "#9c179e"
             ],
             [
              0.4444444444444444,
              "#bd3786"
             ],
             [
              0.5555555555555556,
              "#d8576b"
             ],
             [
              0.6666666666666666,
              "#ed7953"
             ],
             [
              0.7777777777777778,
              "#fb9f3a"
             ],
             [
              0.8888888888888888,
              "#fdca26"
             ],
             [
              1,
              "#f0f921"
             ]
            ],
            "type": "surface"
           }
          ],
          "table": [
           {
            "cells": {
             "fill": {
              "color": "#EBF0F8"
             },
             "line": {
              "color": "white"
             }
            },
            "header": {
             "fill": {
              "color": "#C8D4E3"
             },
             "line": {
              "color": "white"
             }
            },
            "type": "table"
           }
          ]
         },
         "layout": {
          "annotationdefaults": {
           "arrowcolor": "#2a3f5f",
           "arrowhead": 0,
           "arrowwidth": 1
          },
          "autotypenumbers": "strict",
          "coloraxis": {
           "colorbar": {
            "outlinewidth": 0,
            "ticks": ""
           }
          },
          "colorscale": {
           "diverging": [
            [
             0,
             "#8e0152"
            ],
            [
             0.1,
             "#c51b7d"
            ],
            [
             0.2,
             "#de77ae"
            ],
            [
             0.3,
             "#f1b6da"
            ],
            [
             0.4,
             "#fde0ef"
            ],
            [
             0.5,
             "#f7f7f7"
            ],
            [
             0.6,
             "#e6f5d0"
            ],
            [
             0.7,
             "#b8e186"
            ],
            [
             0.8,
             "#7fbc41"
            ],
            [
             0.9,
             "#4d9221"
            ],
            [
             1,
             "#276419"
            ]
           ],
           "sequential": [
            [
             0,
             "#0d0887"
            ],
            [
             0.1111111111111111,
             "#46039f"
            ],
            [
             0.2222222222222222,
             "#7201a8"
            ],
            [
             0.3333333333333333,
             "#9c179e"
            ],
            [
             0.4444444444444444,
             "#bd3786"
            ],
            [
             0.5555555555555556,
             "#d8576b"
            ],
            [
             0.6666666666666666,
             "#ed7953"
            ],
            [
             0.7777777777777778,
             "#fb9f3a"
            ],
            [
             0.8888888888888888,
             "#fdca26"
            ],
            [
             1,
             "#f0f921"
            ]
           ],
           "sequentialminus": [
            [
             0,
             "#0d0887"
            ],
            [
             0.1111111111111111,
             "#46039f"
            ],
            [
             0.2222222222222222,
             "#7201a8"
            ],
            [
             0.3333333333333333,
             "#9c179e"
            ],
            [
             0.4444444444444444,
             "#bd3786"
            ],
            [
             0.5555555555555556,
             "#d8576b"
            ],
            [
             0.6666666666666666,
             "#ed7953"
            ],
            [
             0.7777777777777778,
             "#fb9f3a"
            ],
            [
             0.8888888888888888,
             "#fdca26"
            ],
            [
             1,
             "#f0f921"
            ]
           ]
          },
          "colorway": [
           "#636efa",
           "#EF553B",
           "#00cc96",
           "#ab63fa",
           "#FFA15A",
           "#19d3f3",
           "#FF6692",
           "#B6E880",
           "#FF97FF",
           "#FECB52"
          ],
          "font": {
           "color": "#2a3f5f"
          },
          "geo": {
           "bgcolor": "white",
           "lakecolor": "white",
           "landcolor": "#E5ECF6",
           "showlakes": true,
           "showland": true,
           "subunitcolor": "white"
          },
          "hoverlabel": {
           "align": "left"
          },
          "hovermode": "closest",
          "mapbox": {
           "style": "light"
          },
          "paper_bgcolor": "white",
          "plot_bgcolor": "#E5ECF6",
          "polar": {
           "angularaxis": {
            "gridcolor": "white",
            "linecolor": "white",
            "ticks": ""
           },
           "bgcolor": "#E5ECF6",
           "radialaxis": {
            "gridcolor": "white",
            "linecolor": "white",
            "ticks": ""
           }
          },
          "scene": {
           "xaxis": {
            "backgroundcolor": "#E5ECF6",
            "gridcolor": "white",
            "gridwidth": 2,
            "linecolor": "white",
            "showbackground": true,
            "ticks": "",
            "zerolinecolor": "white"
           },
           "yaxis": {
            "backgroundcolor": "#E5ECF6",
            "gridcolor": "white",
            "gridwidth": 2,
            "linecolor": "white",
            "showbackground": true,
            "ticks": "",
            "zerolinecolor": "white"
           },
           "zaxis": {
            "backgroundcolor": "#E5ECF6",
            "gridcolor": "white",
            "gridwidth": 2,
            "linecolor": "white",
            "showbackground": true,
            "ticks": "",
            "zerolinecolor": "white"
           }
          },
          "shapedefaults": {
           "line": {
            "color": "#2a3f5f"
           }
          },
          "ternary": {
           "aaxis": {
            "gridcolor": "white",
            "linecolor": "white",
            "ticks": ""
           },
           "baxis": {
            "gridcolor": "white",
            "linecolor": "white",
            "ticks": ""
           },
           "bgcolor": "#E5ECF6",
           "caxis": {
            "gridcolor": "white",
            "linecolor": "white",
            "ticks": ""
           }
          },
          "title": {
           "x": 0.05
          },
          "xaxis": {
           "automargin": true,
           "gridcolor": "white",
           "linecolor": "white",
           "ticks": "",
           "title": {
            "standoff": 15
           },
           "zerolinecolor": "white",
           "zerolinewidth": 2
          },
          "yaxis": {
           "automargin": true,
           "gridcolor": "white",
           "linecolor": "white",
           "ticks": "",
           "title": {
            "standoff": 15
           },
           "zerolinecolor": "white",
           "zerolinewidth": 2
          }
         }
        },
        "title": {
         "font": {
          "family": "Arial, bold",
          "size": 20
         },
         "text": "Median House Price vs Median Household Income by Year",
         "x": 0.5
        },
        "width": 800,
        "xaxis": {
         "anchor": "y",
         "domain": [
          0,
          1
         ],
         "dtick": 5000,
         "range": [
          55000,
          85000
         ],
         "tickformat": "$,.0f",
         "title": {
          "text": "Median Household Income"
         },
         "type": "linear"
        },
        "yaxis": {
         "anchor": "x",
         "domain": [
          0,
          1
         ],
         "dtick": 50000,
         "range": [
          50000,
          450000
         ],
         "tickformat": "$,.0f",
         "title": {
          "text": "Median House Price"
         },
         "type": "linear"
        }
       }
      },
      "image/png": "[encoded data removed]",
      "text/html": [
       "<div>                            <div id=\"09fbfb5f-c9e7-428b-98f3-8cd58ac70e5e\" class=\"plotly-graph-div\" style=\"height:600px; width:800px;\"></div>            <script type=\"text/javascript\">                require([\"plotly\"], function(Plotly) {                    window.PLOTLYENV=window.PLOTLYENV || {};                                    if (document.getElementById(\"09fbfb5f-c9e7-428b-98f3-8cd58ac70e5e\")) {                    Plotly.newPlot(                        \"09fbfb5f-c9e7-428b-98f3-8cd58ac70e5e\",                        [{\"hovertemplate\":\"\\u003cb\\u003e%{hovertext}\\u003c\\u002fb\\u003e\\u003cbr\\u003e\\u003cbr\\u003eMedian Household Income=%{x}\\u003cbr\\u003eMedian House Price=%{y}\\u003cextra\\u003e\\u003c\\u002fextra\\u003e\",\"hovertext\":[1984.0,1985.0,1986.0,1987.0,1988.0,1989.0,1990.0,1991.0,1992.0,1993.0,1994.0,1995.0,1996.0,1997.0,1998.0,1999.0,2000.0,2001.0,2002.0,2003.0,2004.0,2005.0,2006.0,2007.0,2008.0,2009.0,2010.0,2011.0,2012.0,2013.0,2014.0,2015.0,2016.0,2017.0,2018.0,2019.0,2020.0,2021.0,2022.0,2023.0],\"legendgroup\":\"\",\"marker\":{\"color\":\"#636efa\",\"symbol\":\"circle\"},\"mode\":\"markers\",\"name\":\"\",\"orientation\":\"v\",\"showlegend\":false,\"x\":[58930.0,60050.0,62280.0,63060.0,63530.0,64610.0,63830.0,61960.0,61450.0,61150.0,61800.0,63770.0,64710.0,66050.0,68470.0,70210.0,70020.0,68870.0,68310.0,68350.0,68250.0,69310.0,70080.0,71210.0,68780.0,68340.0,66730.0,65750.0,65740.0,68220.0,67360.0,71000.0,73520.0,74810.0,75790.0,81210.0,79560.0,79260.0,77540.0,80610.0],\"xaxis\":\"x\",\"y\":[81000.0,86800.0,95000.0,111500.0,115000.0,124800.0,126800.0,120000.0,126000.0,127000.0,132000.0,138000.0,144100.0,145800.0,153000.0,165300.0,172900.0,179000.0,190100.0,198800.0,228800.0,243600.0,247700.0,257400.0,235300.0,220900.0,224300.0,228100.0,251700.0,273600.0,298900.0,302500.0,310900.0,337900.0,331800.0,327100.0,338600.0,414000.0,442600.0,435400.0],\"yaxis\":\"y\",\"type\":\"scatter\"},{\"hovertemplate\":\"\\u003cb\\u003eOLS trendline\\u003c\\u002fb\\u003e\\u003cbr\\u003eMedian House Price = 15.184 * Median Household Income + -820909\\u003cbr\\u003eR\\u003csup\\u003e2\\u003c\\u002fsup\\u003e=0.813253\\u003cbr\\u003e\\u003cbr\\u003eMedian Household Income=%{x}\\u003cbr\\u003eMedian House Price=%{y} \\u003cb\\u003e(trend)\\u003c\\u002fb\\u003e\\u003cextra\\u003e\\u003c\\u002fextra\\u003e\",\"legendgroup\":\"\",\"marker\":{\"color\":\"#636efa\",\"symbol\":\"circle\"},\"mode\":\"lines\",\"name\":\"\",\"showlegend\":false,\"x\":[58930.0,60050.0,61150.0,61450.0,61800.0,61960.0,62280.0,63060.0,63530.0,63770.0,63830.0,64610.0,64710.0,65740.0,65750.0,66050.0,66730.0,67360.0,68220.0,68250.0,68310.0,68340.0,68350.0,68470.0,68780.0,68870.0,69310.0,70020.0,70080.0,70210.0,71000.0,71210.0,73520.0,74810.0,75790.0,77540.0,79260.0,79560.0,80610.0,81210.0],\"xaxis\":\"x\",\"y\":[73884.40296369186,90890.4959111755,107592.90862745396,112148.11209552991,117462.5161416186,119891.95799125906,124750.84169054008,136594.37070753763,143730.85614085663,147375.01891531737,148286.05960893258,160129.58862593002,161647.98978195537,177287.52168901614,177439.36180461873,181994.5652726947,192319.69313366688,201885.62041662633,214943.87035844417,215399.39070525172,216310.43139886693,216765.95174567448,216917.79186127707,218739.87324850739,223446.91683218593,224813.4778726087,231494.44295912003,242275.09116689977,243186.1318605151,245160.0533633479,257155.42249594792,260344.06492360123,295419.131627786,315006.50654051267,329886.8378695608,356458.858100004,382575.35798363946,387130.5614517154,403073.77358998125,412184.18052613316],\"yaxis\":\"y\",\"type\":\"scatter\"}],                        {\"template\":{\"data\":{\"histogram2dcontour\":[{\"type\":\"histogram2dcontour\",\"colorbar\":{\"outlinewidth\":0,\"ticks\":\"\"},\"colorscale\":[[0.0,\"#0d0887\"],[0.1111111111111111,\"#46039f\"],[0.2222222222222222,\"#7201a8\"],[0.3333333333333333,\"#9c179e\"],[0.4444444444444444,\"#bd3786\"],[0.5555555555555556,\"#d8576b\"],[0.6666666666666666,\"#ed7953\"],[0.7777777777777778,\"#fb9f3a\"],[0.8888888888888888,\"#fdca26\"],[1.0,\"#f0f921\"]]}],\"choropleth\":[{\"type\":\"choropleth\",\"colorbar\":{\"outlinewidth\":0,\"ticks\":\"\"}}],\"histogram2d\":[{\"type\":\"histogram2d\",\"colorbar\":{\"outlinewidth\":0,\"ticks\":\"\"},\"colorscale\":[[0.0,\"#0d0887\"],[0.1111111111111111,\"#46039f\"],[0.2222222222222222,\"#7201a8\"],[0.3333333333333333,\"#9c179e\"],[0.4444444444444444,\"#bd3786\"],[0.5555555555555556,\"#d8576b\"],[0.6666666666666666,\"#ed7953\"],[0.7777777777777778,\"#fb9f3a\"],[0.8888888888888888,\"#fdca26\"],[1.0,\"#f0f921\"]]}],\"heatmap\":[{\"type\":\"heatmap\",\"colorbar\":{\"outlinewidth\":0,\"ticks\":\"\"},\"colorscale\":[[0.0,\"#0d0887\"],[0.1111111111111111,\"#46039f\"],[0.2222222222222222,\"#7201a8\"],[0.3333333333333333,\"#9c179e\"],[0.4444444444444444,\"#bd3786\"],[0.5555555555555556,\"#d8576b\"],[0.6666666666666666,\"#ed7953\"],[0.7777777777777778,\"#fb9f3a\"],[0.8888888888888888,\"#fdca26\"],[1.0,\"#f0f921\"]]}],\"heatmapgl\":[{\"type\":\"heatmapgl\",\"colorbar\":{\"outlinewidth\":0,\"ticks\":\"\"},\"colorscale\":[[0.0,\"#0d0887\"],[0.1111111111111111,\"#46039f\"],[0.2222222222222222,\"#7201a8\"],[0.3333333333333333,\"#9c179e\"],[0.4444444444444444,\"#bd3786\"],[0.5555555555555556,\"#d8576b\"],[0.6666666666666666,\"#ed7953\"],[0.7777777777777778,\"#fb9f3a\"],[0.8888888888888888,\"#fdca26\"],[1.0,\"#f0f921\"]]}],\"contourcarpet\":[{\"type\":\"contourcarpet\",\"colorbar\":{\"outlinewidth\":0,\"ticks\":\"\"}}],\"contour\":[{\"type\":\"contour\",\"colorbar\":{\"outlinewidth\":0,\"ticks\":\"\"},\"colorscale\":[[0.0,\"#0d0887\"],[0.1111111111111111,\"#46039f\"],[0.2222222222222222,\"#7201a8\"],[0.3333333333333333,\"#9c179e\"],[0.4444444444444444,\"#bd3786\"],[0.5555555555555556,\"#d8576b\"],[0.6666666666666666,\"#ed7953\"],[0.7777777777777778,\"#fb9f3a\"],[0.8888888888888888,\"#fdca26\"],[1.0,\"#f0f921\"]]}],\"surface\":[{\"type\":\"surface\",\"colorbar\":{\"outlinewidth\":0,\"ticks\":\"\"},\"colorscale\":[[0.0,\"#0d0887\"],[0.1111111111111111,\"#46039f\"],[0.2222222222222222,\"#7201a8\"],[0.3333333333333333,\"#9c179e\"],[0.4444444444444444,\"#bd3786\"],[0.5555555555555556,\"#d8576b\"],[0.6666666666666666,\"#ed7953\"],[0.7777777777777778,\"#fb9f3a\"],[0.8888888888888888,\"#fdca26\"],[1.0,\"#f0f921\"]]}],\"mesh3d\":[{\"type\":\"mesh3d\",\"colorbar\":{\"outlinewidth\":0,\"ticks\":\"\"}}],\"scatter\":[{\"fillpattern\":{\"fillmode\":\"overlay\",\"size\":10,\"solidity\":0.2},\"type\":\"scatter\"}],\"parcoords\":[{\"type\":\"parcoords\",\"line\":{\"colorbar\":{\"outlinewidth\":0,\"ticks\":\"\"}}}],\"scatterpolargl\":[{\"type\":\"scatterpolargl\",\"marker\":{\"colorbar\":{\"outlinewidth\":0,\"ticks\":\"\"}}}],\"bar\":[{\"error_x\":{\"color\":\"#2a3f5f\"},\"error_y\":{\"color\":\"#2a3f5f\"},\"marker\":{\"line\":{\"color\":\"#E5ECF6\",\"width\":0.5},\"pattern\":{\"fillmode\":\"overlay\",\"size\":10,\"solidity\":0.2}},\"type\":\"bar\"}],\"scattergeo\":[{\"type\":\"scattergeo\",\"marker\":{\"colorbar\":{\"outlinewidth\":0,\"ticks\":\"\"}}}],\"scatterpolar\":[{\"type\":\"scatterpolar\",\"marker\":{\"colorbar\":{\"outlinewidth\":0,\"ticks\":\"\"}}}],\"histogram\":[{\"marker\":{\"pattern\":{\"fillmode\":\"overlay\",\"size\":10,\"solidity\":0.2}},\"type\":\"histogram\"}],\"scattergl\":[{\"type\":\"scattergl\",\"marker\":{\"colorbar\":{\"outlinewidth\":0,\"ticks\":\"\"}}}],\"scatter3d\":[{\"type\":\"scatter3d\",\"line\":{\"colorbar\":{\"outlinewidth\":0,\"ticks\":\"\"}},\"marker\":{\"colorbar\":{\"outlinewidth\":0,\"ticks\":\"\"}}}],\"scattermapbox\":[{\"type\":\"scattermapbox\",\"marker\":{\"colorbar\":{\"outlinewidth\":0,\"ticks\":\"\"}}}],\"scatterternary\":[{\"type\":\"scatterternary\",\"marker\":{\"colorbar\":{\"outlinewidth\":0,\"ticks\":\"\"}}}],\"scattercarpet\":[{\"type\":\"scattercarpet\",\"marker\":{\"colorbar\":{\"outlinewidth\":0,\"ticks\":\"\"}}}],\"carpet\":[{\"aaxis\":{\"endlinecolor\":\"#2a3f5f\",\"gridcolor\":\"white\",\"linecolor\":\"white\",\"minorgridcolor\":\"white\",\"startlinecolor\":\"#2a3f5f\"},\"baxis\":{\"endlinecolor\":\"#2a3f5f\",\"gridcolor\":\"white\",\"linecolor\":\"white\",\"minorgridcolor\":\"white\",\"startlinecolor\":\"#2a3f5f\"},\"type\":\"carpet\"}],\"table\":[{\"cells\":{\"fill\":{\"color\":\"#EBF0F8\"},\"line\":{\"color\":\"white\"}},\"header\":{\"fill\":{\"color\":\"#C8D4E3\"},\"line\":{\"color\":\"white\"}},\"type\":\"table\"}],\"barpolar\":[{\"marker\":{\"line\":{\"color\":\"#E5ECF6\",\"width\":0.5},\"pattern\":{\"fillmode\":\"overlay\",\"size\":10,\"solidity\":0.2}},\"type\":\"barpolar\"}],\"pie\":[{\"automargin\":true,\"type\":\"pie\"}]},\"layout\":{\"autotypenumbers\":\"strict\",\"colorway\":[\"#636efa\",\"#EF553B\",\"#00cc96\",\"#ab63fa\",\"#FFA15A\",\"#19d3f3\",\"#FF6692\",\"#B6E880\",\"#FF97FF\",\"#FECB52\"],\"font\":{\"color\":\"#2a3f5f\"},\"hovermode\":\"closest\",\"hoverlabel\":{\"align\":\"left\"},\"paper_bgcolor\":\"white\",\"plot_bgcolor\":\"#E5ECF6\",\"polar\":{\"bgcolor\":\"#E5ECF6\",\"angularaxis\":{\"gridcolor\":\"white\",\"linecolor\":\"white\",\"ticks\":\"\"},\"radialaxis\":{\"gridcolor\":\"white\",\"linecolor\":\"white\",\"ticks\":\"\"}},\"ternary\":{\"bgcolor\":\"#E5ECF6\",\"aaxis\":{\"gridcolor\":\"white\",\"linecolor\":\"white\",\"ticks\":\"\"},\"baxis\":{\"gridcolor\":\"white\",\"linecolor\":\"white\",\"ticks\":\"\"},\"caxis\":{\"gridcolor\":\"white\",\"linecolor\":\"white\",\"ticks\":\"\"}},\"coloraxis\":{\"colorbar\":{\"outlinewidth\":0,\"ticks\":\"\"}},\"colorscale\":{\"sequential\":[[0.0,\"#0d0887\"],[0.1111111111111111,\"#46039f\"],[0.2222222222222222,\"#7201a8\"],[0.3333333333333333,\"#9c179e\"],[0.4444444444444444,\"#bd3786\"],[0.5555555555555556,\"#d8576b\"],[0.6666666666666666,\"#ed7953\"],[0.7777777777777778,\"#fb9f3a\"],[0.8888888888888888,\"#fdca26\"],[1.0,\"#f0f921\"]],\"sequentialminus\":[[0.0,\"#0d0887\"],[0.1111111111111111,\"#46039f\"],[0.2222222222222222,\"#7201a8\"],[0.3333333333333333,\"#9c179e\"],[0.4444444444444444,\"#bd3786\"],[0.5555555555555556,\"#d8576b\"],[0.6666666666666666,\"#ed7953\"],[0.7777777777777778,\"#fb9f3a\"],[0.8888888888888888,\"#fdca26\"],[1.0,\"#f0f921\"]],\"diverging\":[[0,\"#8e0152\"],[0.1,\"#c51b7d\"],[0.2,\"#de77ae\"],[0.3,\"#f1b6da\"],[0.4,\"#fde0ef\"],[0.5,\"#f7f7f7\"],[0.6,\"#e6f5d0\"],[0.7,\"#b8e186\"],[0.8,\"#7fbc41\"],[0.9,\"#4d9221\"],[1,\"#276419\"]]},\"xaxis\":{\"gridcolor\":\"white\",\"linecolor\":\"white\",\"ticks\":\"\",\"title\":{\"standoff\":15},\"zerolinecolor\":\"white\",\"automargin\":true,\"zerolinewidth\":2},\"yaxis\":{\"gridcolor\":\"white\",\"linecolor\":\"white\",\"ticks\":\"\",\"title\":{\"standoff\":15},\"zerolinecolor\":\"white\",\"automargin\":true,\"zerolinewidth\":2},\"scene\":{\"xaxis\":{\"backgroundcolor\":\"#E5ECF6\",\"gridcolor\":\"white\",\"linecolor\":\"white\",\"showbackground\":true,\"ticks\":\"\",\"zerolinecolor\":\"white\",\"gridwidth\":2},\"yaxis\":{\"backgroundcolor\":\"#E5ECF6\",\"gridcolor\":\"white\",\"linecolor\":\"white\",\"showbackground\":true,\"ticks\":\"\",\"zerolinecolor\":\"white\",\"gridwidth\":2},\"zaxis\":{\"backgroundcolor\":\"#E5ECF6\",\"gridcolor\":\"white\",\"linecolor\":\"white\",\"showbackground\":true,\"ticks\":\"\",\"zerolinecolor\":\"white\",\"gridwidth\":2}},\"shapedefaults\":{\"line\":{\"color\":\"#2a3f5f\"}},\"annotationdefaults\":{\"arrowcolor\":\"#2a3f5f\",\"arrowhead\":0,\"arrowwidth\":1},\"geo\":{\"bgcolor\":\"white\",\"landcolor\":\"#E5ECF6\",\"subunitcolor\":\"white\",\"showland\":true,\"showlakes\":true,\"lakecolor\":\"white\"},\"title\":{\"x\":0.05},\"mapbox\":{\"style\":\"light\"}}},\"xaxis\":{\"anchor\":\"y\",\"domain\":[0.0,1.0],\"title\":{\"text\":\"Median Household Income\"},\"tickformat\":\"$,.0f\",\"range\":[55000,85000],\"dtick\":5000},\"yaxis\":{\"anchor\":\"x\",\"domain\":[0.0,1.0],\"title\":{\"text\":\"Median House Price\"},\"tickformat\":\"$,.0f\",\"range\":[50000,450000],\"dtick\":50000},\"legend\":{\"tracegroupgap\":0},\"title\":{\"text\":\"Median House Price vs Median Household Income by Year\",\"font\":{\"size\":20,\"family\":\"Arial, bold\"},\"x\":0.5},\"height\":600,\"width\":800,\"plot_bgcolor\":\"white\"},                        {\"responsive\": true}                    ).then(function(){\n",
       "                            \n",
       "var gd = document.getElementById('09fbfb5f-c9e7-428b-98f3-8cd58ac70e5e');\n",
       "var x = new MutationObserver(function (mutations, observer) {{\n",
       "        var display = window.getComputedStyle(gd).display;\n",
       "        if (!display || display === 'none') {{\n",
       "            console.log([gd, 'removed!']);\n",
       "            Plotly.purge(gd);\n",
       "            observer.disconnect();\n",
       "        }}\n",
       "}});\n",
       "\n",
       "// Listen for the removal of the full notebook cells\n",
       "var notebookContainer = gd.closest('#notebook-container');\n",
       "if (notebookContainer) {{\n",
       "    x.observe(notebookContainer, {childList: true});\n",
       "}}\n",
       "\n",
       "// Listen for the clearing of the current output cell\n",
       "var outputEl = gd.closest('.output');\n",
       "if (outputEl) {{\n",
       "    x.observe(outputEl, {childList: true});\n",
       "}}\n",
       "\n",
       "                        })                };                });            </script>        </div>"
      ]
     },
     "metadata": {},
     "output_type": "display_data"
    }
   ],
   "source": [
    "scatter_fig = px.scatter(combined_data_df,\n",
    "                         x = \"Median Household Income\", \n",
    "                         y = \"Median House Price\", \n",
    "                         hover_name = \"Year\",     # Display the year when hovering\n",
    "                         title = \"Median House Price vs Median Household Income by Year\",\n",
    "                         width = 800, height = 600,     # Changes to graph's figure size\n",
    "                         trendline = \"ols\"  # Add linear regression line (OLS = Ordinary Least Squares regression)\n",
    "                         )\n",
    "\n",
    "scatter_fig.update_layout(yaxis_tickformat = \"$,.0f\",     # Format for y-axis\n",
    "                          xaxis_tickformat = \"$,.0f\",     # Format for x-axis\n",
    "                          plot_bgcolor = \"white\",     # Set plot area background color\n",
    "                          title_x = 0.5,    # Center the title\n",
    "                          title_font = dict(size = 20, family = \"Arial, bold\")     # Set the title font size and style\n",
    "                          )\n",
    "\n",
    "scatter_fig.update_xaxes(range = [55000, 85000], dtick = 5000)     # Set x-axis range and increment\n",
    "scatter_fig.update_yaxes(range = [50000, 450000], dtick = 50000)     # Set y-axis range and increment\n",
    "\n",
    "scatter_fig.show()     # Display graph"
   ]
  },
  {
   "cell_type": "markdown",
   "id": "bb28a58e-469b-4953-8388-d6452824cdec",
   "metadata": {},
   "source": [
    "Graph Analysis: \n",
    "\n",
    "can look at the outliers here, but graph doesn't tell us much"
   ]
  },
  {
   "cell_type": "markdown",
   "id": "84dbeedb-b2d5-4c2a-b929-0ebf40e3b7cd",
   "metadata": {
    "jp-MarkdownHeadingCollapsed": true
   },
   "source": [
    "### **Create Combo Graph (Bar Chart for Median House Price and Line Chart for Median Household Income)**"
   ]
  },
  {
   "cell_type": "code",
   "execution_count": 206,
   "id": "405ee32c-25e7-469c-a4b8-34baa1d7f09d",
   "metadata": {},
   "outputs": [
    {
     "data": {
      "application/vnd.plotly.v1+json": {
       "config": {
        "plotlyServerURL": "https://plot.ly"
       },
       "data": [
        {
         "marker": {
          "color": "lightgreen"
         },
         "name": "Median House Price",
         "type": "bar",
         "x": [
          1984,
          1985,
          1986,
          1987,
          1988,
          1989,
          1990,
          1991,
          1992,
          1993,
          1994,
          1995,
          1996,
          1997,
          1998,
          1999,
          2000,
          2001,
          2002,
          2003,
          2004,
          2005,
          2006,
          2007,
          2008,
          2009,
          2010,
          2011,
          2012,
          2013,
          2014,
          2015,
          2016,
          2017,
          2018,
          2019,
          2020,
          2021,
          2022,
          2023
         ],
         "y": [
          81000,
          86800,
          95000,
          111500,
          115000,
          124800,
          126800,
          120000,
          126000,
          127000,
          132000,
          138000,
          144100,
          145800,
          153000,
          165300,
          172900,
          179000,
          190100,
          198800,
          228800,
          243600,
          247700,
          257400,
          235300,
          220900,
          224300,
          228100,
          251700,
          273600,
          298900,
          302500,
          310900,
          337900,
          331800,
          327100,
          338600,
          414000,
          442600,
          435400
         ]
        },
        {
         "marker": {
          "color": "blue"
         },
         "mode": "lines+markers",
         "name": "Median Household Income",
         "type": "scatter",
         "x": [
          1984,
          1985,
          1986,
          1987,
          1988,
          1989,
          1990,
          1991,
          1992,
          1993,
          1994,
          1995,
          1996,
          1997,
          1998,
          1999,
          2000,
          2001,
          2002,
          2003,
          2004,
          2005,
          2006,
          2007,
          2008,
          2009,
          2010,
          2011,
          2012,
          2013,
          2014,
          2015,
          2016,
          2017,
          2018,
          2019,
          2020,
          2021,
          2022,
          2023
         ],
         "y": [
          58930,
          60050,
          62280,
          63060,
          63530,
          64610,
          63830,
          61960,
          61450,
          61150,
          61800,
          63770,
          64710,
          66050,
          68470,
          70210,
          70020,
          68870,
          68310,
          68350,
          68250,
          69310,
          70080,
          71210,
          68780,
          68340,
          66730,
          65750,
          65740,
          68220,
          67360,
          71000,
          73520,
          74810,
          75790,
          81210,
          79560,
          79260,
          77540,
          80610
         ]
        }
       ],
       "layout": {
        "height": 600,
        "legend": {
         "bordercolor": "Black",
         "borderwidth": 1,
         "orientation": "h",
         "x": 0.5,
         "xanchor": "center",
         "y": 1.1,
         "yanchor": "top"
        },
        "plot_bgcolor": "white",
        "template": {
         "data": {
          "bar": [
           {
            "error_x": {
             "color": "#2a3f5f"
            },
            "error_y": {
             "color": "#2a3f5f"
            },
            "marker": {
             "line": {
              "color": "#E5ECF6",
              "width": 0.5
             },
             "pattern": {
              "fillmode": "overlay",
              "size": 10,
              "solidity": 0.2
             }
            },
            "type": "bar"
           }
          ],
          "barpolar": [
           {
            "marker": {
             "line": {
              "color": "#E5ECF6",
              "width": 0.5
             },
             "pattern": {
              "fillmode": "overlay",
              "size": 10,
              "solidity": 0.2
             }
            },
            "type": "barpolar"
           }
          ],
          "carpet": [
           {
            "aaxis": {
             "endlinecolor": "#2a3f5f",
             "gridcolor": "white",
             "linecolor": "white",
             "minorgridcolor": "white",
             "startlinecolor": "#2a3f5f"
            },
            "baxis": {
             "endlinecolor": "#2a3f5f",
             "gridcolor": "white",
             "linecolor": "white",
             "minorgridcolor": "white",
             "startlinecolor": "#2a3f5f"
            },
            "type": "carpet"
           }
          ],
          "choropleth": [
           {
            "colorbar": {
             "outlinewidth": 0,
             "ticks": ""
            },
            "type": "choropleth"
           }
          ],
          "contour": [
           {
            "colorbar": {
             "outlinewidth": 0,
             "ticks": ""
            },
            "colorscale": [
             [
              0,
              "#0d0887"
             ],
             [
              0.1111111111111111,
              "#46039f"
             ],
             [
              0.2222222222222222,
              "#7201a8"
             ],
             [
              0.3333333333333333,
              "#9c179e"
             ],
             [
              0.4444444444444444,
              "#bd3786"
             ],
             [
              0.5555555555555556,
              "#d8576b"
             ],
             [
              0.6666666666666666,
              "#ed7953"
             ],
             [
              0.7777777777777778,
              "#fb9f3a"
             ],
             [
              0.8888888888888888,
              "#fdca26"
             ],
             [
              1,
              "#f0f921"
             ]
            ],
            "type": "contour"
           }
          ],
          "contourcarpet": [
           {
            "colorbar": {
             "outlinewidth": 0,
             "ticks": ""
            },
            "type": "contourcarpet"
           }
          ],
          "heatmap": [
           {
            "colorbar": {
             "outlinewidth": 0,
             "ticks": ""
            },
            "colorscale": [
             [
              0,
              "#0d0887"
             ],
             [
              0.1111111111111111,
              "#46039f"
             ],
             [
              0.2222222222222222,
              "#7201a8"
             ],
             [
              0.3333333333333333,
              "#9c179e"
             ],
             [
              0.4444444444444444,
              "#bd3786"
             ],
             [
              0.5555555555555556,
              "#d8576b"
             ],
             [
              0.6666666666666666,
              "#ed7953"
             ],
             [
              0.7777777777777778,
              "#fb9f3a"
             ],
             [
              0.8888888888888888,
              "#fdca26"
             ],
             [
              1,
              "#f0f921"
             ]
            ],
            "type": "heatmap"
           }
          ],
          "heatmapgl": [
           {
            "colorbar": {
             "outlinewidth": 0,
             "ticks": ""
            },
            "colorscale": [
             [
              0,
              "#0d0887"
             ],
             [
              0.1111111111111111,
              "#46039f"
             ],
             [
              0.2222222222222222,
              "#7201a8"
             ],
             [
              0.3333333333333333,
              "#9c179e"
             ],
             [
              0.4444444444444444,
              "#bd3786"
             ],
             [
              0.5555555555555556,
              "#d8576b"
             ],
             [
              0.6666666666666666,
              "#ed7953"
             ],
             [
              0.7777777777777778,
              "#fb9f3a"
             ],
             [
              0.8888888888888888,
              "#fdca26"
             ],
             [
              1,
              "#f0f921"
             ]
            ],
            "type": "heatmapgl"
           }
          ],
          "histogram": [
           {
            "marker": {
             "pattern": {
              "fillmode": "overlay",
              "size": 10,
              "solidity": 0.2
             }
            },
            "type": "histogram"
           }
          ],
          "histogram2d": [
           {
            "colorbar": {
             "outlinewidth": 0,
             "ticks": ""
            },
            "colorscale": [
             [
              0,
              "#0d0887"
             ],
             [
              0.1111111111111111,
              "#46039f"
             ],
             [
              0.2222222222222222,
              "#7201a8"
             ],
             [
              0.3333333333333333,
              "#9c179e"
             ],
             [
              0.4444444444444444,
              "#bd3786"
             ],
             [
              0.5555555555555556,
              "#d8576b"
             ],
             [
              0.6666666666666666,
              "#ed7953"
             ],
             [
              0.7777777777777778,
              "#fb9f3a"
             ],
             [
              0.8888888888888888,
              "#fdca26"
             ],
             [
              1,
              "#f0f921"
             ]
            ],
            "type": "histogram2d"
           }
          ],
          "histogram2dcontour": [
           {
            "colorbar": {
             "outlinewidth": 0,
             "ticks": ""
            },
            "colorscale": [
             [
              0,
              "#0d0887"
             ],
             [
              0.1111111111111111,
              "#46039f"
             ],
             [
              0.2222222222222222,
              "#7201a8"
             ],
             [
              0.3333333333333333,
              "#9c179e"
             ],
             [
              0.4444444444444444,
              "#bd3786"
             ],
             [
              0.5555555555555556,
              "#d8576b"
             ],
             [
              0.6666666666666666,
              "#ed7953"
             ],
             [
              0.7777777777777778,
              "#fb9f3a"
             ],
             [
              0.8888888888888888,
              "#fdca26"
             ],
             [
              1,
              "#f0f921"
             ]
            ],
            "type": "histogram2dcontour"
           }
          ],
          "mesh3d": [
           {
            "colorbar": {
             "outlinewidth": 0,
             "ticks": ""
            },
            "type": "mesh3d"
           }
          ],
          "parcoords": [
           {
            "line": {
             "colorbar": {
              "outlinewidth": 0,
              "ticks": ""
             }
            },
            "type": "parcoords"
           }
          ],
          "pie": [
           {
            "automargin": true,
            "type": "pie"
           }
          ],
          "scatter": [
           {
            "fillpattern": {
             "fillmode": "overlay",
             "size": 10,
             "solidity": 0.2
            },
            "type": "scatter"
           }
          ],
          "scatter3d": [
           {
            "line": {
             "colorbar": {
              "outlinewidth": 0,
              "ticks": ""
             }
            },
            "marker": {
             "colorbar": {
              "outlinewidth": 0,
              "ticks": ""
             }
            },
            "type": "scatter3d"
           }
          ],
          "scattercarpet": [
           {
            "marker": {
             "colorbar": {
              "outlinewidth": 0,
              "ticks": ""
             }
            },
            "type": "scattercarpet"
           }
          ],
          "scattergeo": [
           {
            "marker": {
             "colorbar": {
              "outlinewidth": 0,
              "ticks": ""
             }
            },
            "type": "scattergeo"
           }
          ],
          "scattergl": [
           {
            "marker": {
             "colorbar": {
              "outlinewidth": 0,
              "ticks": ""
             }
            },
            "type": "scattergl"
           }
          ],
          "scattermapbox": [
           {
            "marker": {
             "colorbar": {
              "outlinewidth": 0,
              "ticks": ""
             }
            },
            "type": "scattermapbox"
           }
          ],
          "scatterpolar": [
           {
            "marker": {
             "colorbar": {
              "outlinewidth": 0,
              "ticks": ""
             }
            },
            "type": "scatterpolar"
           }
          ],
          "scatterpolargl": [
           {
            "marker": {
             "colorbar": {
              "outlinewidth": 0,
              "ticks": ""
             }
            },
            "type": "scatterpolargl"
           }
          ],
          "scatterternary": [
           {
            "marker": {
             "colorbar": {
              "outlinewidth": 0,
              "ticks": ""
             }
            },
            "type": "scatterternary"
           }
          ],
          "surface": [
           {
            "colorbar": {
             "outlinewidth": 0,
             "ticks": ""
            },
            "colorscale": [
             [
              0,
              "#0d0887"
             ],
             [
              0.1111111111111111,
              "#46039f"
             ],
             [
              0.2222222222222222,
              "#7201a8"
             ],
             [
              0.3333333333333333,
              "#9c179e"
             ],
             [
              0.4444444444444444,
              "#bd3786"
             ],
             [
              0.5555555555555556,
              "#d8576b"
             ],
             [
              0.6666666666666666,
              "#ed7953"
             ],
             [
              0.7777777777777778,
              "#fb9f3a"
             ],
             [
              0.8888888888888888,
              "#fdca26"
             ],
             [
              1,
              "#f0f921"
             ]
            ],
            "type": "surface"
           }
          ],
          "table": [
           {
            "cells": {
             "fill": {
              "color": "#EBF0F8"
             },
             "line": {
              "color": "white"
             }
            },
            "header": {
             "fill": {
              "color": "#C8D4E3"
             },
             "line": {
              "color": "white"
             }
            },
            "type": "table"
           }
          ]
         },
         "layout": {
          "annotationdefaults": {
           "arrowcolor": "#2a3f5f",
           "arrowhead": 0,
           "arrowwidth": 1
          },
          "autotypenumbers": "strict",
          "coloraxis": {
           "colorbar": {
            "outlinewidth": 0,
            "ticks": ""
           }
          },
          "colorscale": {
           "diverging": [
            [
             0,
             "#8e0152"
            ],
            [
             0.1,
             "#c51b7d"
            ],
            [
             0.2,
             "#de77ae"
            ],
            [
             0.3,
             "#f1b6da"
            ],
            [
             0.4,
             "#fde0ef"
            ],
            [
             0.5,
             "#f7f7f7"
            ],
            [
             0.6,
             "#e6f5d0"
            ],
            [
             0.7,
             "#b8e186"
            ],
            [
             0.8,
             "#7fbc41"
            ],
            [
             0.9,
             "#4d9221"
            ],
            [
             1,
             "#276419"
            ]
           ],
           "sequential": [
            [
             0,
             "#0d0887"
            ],
            [
             0.1111111111111111,
             "#46039f"
            ],
            [
             0.2222222222222222,
             "#7201a8"
            ],
            [
             0.3333333333333333,
             "#9c179e"
            ],
            [
             0.4444444444444444,
             "#bd3786"
            ],
            [
             0.5555555555555556,
             "#d8576b"
            ],
            [
             0.6666666666666666,
             "#ed7953"
            ],
            [
             0.7777777777777778,
             "#fb9f3a"
            ],
            [
             0.8888888888888888,
             "#fdca26"
            ],
            [
             1,
             "#f0f921"
            ]
           ],
           "sequentialminus": [
            [
             0,
             "#0d0887"
            ],
            [
             0.1111111111111111,
             "#46039f"
            ],
            [
             0.2222222222222222,
             "#7201a8"
            ],
            [
             0.3333333333333333,
             "#9c179e"
            ],
            [
             0.4444444444444444,
             "#bd3786"
            ],
            [
             0.5555555555555556,
             "#d8576b"
            ],
            [
             0.6666666666666666,
             "#ed7953"
            ],
            [
             0.7777777777777778,
             "#fb9f3a"
            ],
            [
             0.8888888888888888,
             "#fdca26"
            ],
            [
             1,
             "#f0f921"
            ]
           ]
          },
          "colorway": [
           "#636efa",
           "#EF553B",
           "#00cc96",
           "#ab63fa",
           "#FFA15A",
           "#19d3f3",
           "#FF6692",
           "#B6E880",
           "#FF97FF",
           "#FECB52"
          ],
          "font": {
           "color": "#2a3f5f"
          },
          "geo": {
           "bgcolor": "white",
           "lakecolor": "white",
           "landcolor": "#E5ECF6",
           "showlakes": true,
           "showland": true,
           "subunitcolor": "white"
          },
          "hoverlabel": {
           "align": "left"
          },
          "hovermode": "closest",
          "mapbox": {
           "style": "light"
          },
          "paper_bgcolor": "white",
          "plot_bgcolor": "#E5ECF6",
          "polar": {
           "angularaxis": {
            "gridcolor": "white",
            "linecolor": "white",
            "ticks": ""
           },
           "bgcolor": "#E5ECF6",
           "radialaxis": {
            "gridcolor": "white",
            "linecolor": "white",
            "ticks": ""
           }
          },
          "scene": {
           "xaxis": {
            "backgroundcolor": "#E5ECF6",
            "gridcolor": "white",
            "gridwidth": 2,
            "linecolor": "white",
            "showbackground": true,
            "ticks": "",
            "zerolinecolor": "white"
           },
           "yaxis": {
            "backgroundcolor": "#E5ECF6",
            "gridcolor": "white",
            "gridwidth": 2,
            "linecolor": "white",
            "showbackground": true,
            "ticks": "",
            "zerolinecolor": "white"
           },
           "zaxis": {
            "backgroundcolor": "#E5ECF6",
            "gridcolor": "white",
            "gridwidth": 2,
            "linecolor": "white",
            "showbackground": true,
            "ticks": "",
            "zerolinecolor": "white"
           }
          },
          "shapedefaults": {
           "line": {
            "color": "#2a3f5f"
           }
          },
          "ternary": {
           "aaxis": {
            "gridcolor": "white",
            "linecolor": "white",
            "ticks": ""
           },
           "baxis": {
            "gridcolor": "white",
            "linecolor": "white",
            "ticks": ""
           },
           "bgcolor": "#E5ECF6",
           "caxis": {
            "gridcolor": "white",
            "linecolor": "white",
            "ticks": ""
           }
          },
          "title": {
           "x": 0.05
          },
          "xaxis": {
           "automargin": true,
           "gridcolor": "white",
           "linecolor": "white",
           "ticks": "",
           "title": {
            "standoff": 15
           },
           "zerolinecolor": "white",
           "zerolinewidth": 2
          },
          "yaxis": {
           "automargin": true,
           "gridcolor": "white",
           "linecolor": "white",
           "ticks": "",
           "title": {
            "standoff": 15
           },
           "zerolinecolor": "white",
           "zerolinewidth": 2
          }
         }
        },
        "title": {
         "font": {
          "family": "Arial, bold",
          "size": 20
         },
         "text": "Median House Price and Median Household Income",
         "x": 0.5
        },
        "width": 1200,
        "xaxis": {
         "dtick": 1,
         "range": [
          1983,
          2024
         ],
         "tickangle": -90,
         "title": {
          "text": "Year"
         },
         "type": "linear"
        },
        "yaxis": {
         "autorange": true,
         "range": [
          0,
          465894.7368421053
         ],
         "side": "left",
         "tickformat": "$,.0f",
         "title": {
          "text": "Median House Price and Household Income $"
         },
         "type": "linear"
        }
       }
      },
      "image/png": "[encoded data removed]",
      "text/html": [
       "<div>                            <div id=\"58f27ab5-5ec3-4e63-b280-f0c6a4c82900\" class=\"plotly-graph-div\" style=\"height:600px; width:1200px;\"></div>            <script type=\"text/javascript\">                require([\"plotly\"], function(Plotly) {                    window.PLOTLYENV=window.PLOTLYENV || {};                                    if (document.getElementById(\"58f27ab5-5ec3-4e63-b280-f0c6a4c82900\")) {                    Plotly.newPlot(                        \"58f27ab5-5ec3-4e63-b280-f0c6a4c82900\",                        [{\"marker\":{\"color\":\"lightgreen\"},\"name\":\"Median House Price\",\"x\":[1984,1985,1986,1987,1988,1989,1990,1991,1992,1993,1994,1995,1996,1997,1998,1999,2000,2001,2002,2003,2004,2005,2006,2007,2008,2009,2010,2011,2012,2013,2014,2015,2016,2017,2018,2019,2020,2021,2022,2023],\"y\":[81000.0,86800.0,95000.0,111500.0,115000.0,124800.0,126800.0,120000.0,126000.0,127000.0,132000.0,138000.0,144100.0,145800.0,153000.0,165300.0,172900.0,179000.0,190100.0,198800.0,228800.0,243600.0,247700.0,257400.0,235300.0,220900.0,224300.0,228100.0,251700.0,273600.0,298900.0,302500.0,310900.0,337900.0,331800.0,327100.0,338600.0,414000.0,442600.0,435400.0],\"type\":\"bar\"},{\"marker\":{\"color\":\"blue\"},\"mode\":\"lines+markers\",\"name\":\"Median Household Income\",\"x\":[1984,1985,1986,1987,1988,1989,1990,1991,1992,1993,1994,1995,1996,1997,1998,1999,2000,2001,2002,2003,2004,2005,2006,2007,2008,2009,2010,2011,2012,2013,2014,2015,2016,2017,2018,2019,2020,2021,2022,2023],\"y\":[58930.0,60050.0,62280.0,63060.0,63530.0,64610.0,63830.0,61960.0,61450.0,61150.0,61800.0,63770.0,64710.0,66050.0,68470.0,70210.0,70020.0,68870.0,68310.0,68350.0,68250.0,69310.0,70080.0,71210.0,68780.0,68340.0,66730.0,65750.0,65740.0,68220.0,67360.0,71000.0,73520.0,74810.0,75790.0,81210.0,79560.0,79260.0,77540.0,80610.0],\"type\":\"scatter\"}],                        {\"height\":600,\"legend\":{\"bordercolor\":\"Black\",\"borderwidth\":1,\"orientation\":\"h\",\"x\":0.5,\"xanchor\":\"center\",\"y\":1.1,\"yanchor\":\"top\"},\"plot_bgcolor\":\"white\",\"title\":{\"font\":{\"family\":\"Arial, bold\",\"size\":20},\"text\":\"Median House Price and Median Household Income\",\"x\":0.5},\"width\":1200,\"xaxis\":{\"dtick\":1,\"range\":[1983,2024],\"tickangle\":-90,\"title\":{\"text\":\"Year\"}},\"yaxis\":{\"side\":\"left\",\"tickformat\":\"$,.0f\",\"title\":{\"text\":\"Median House Price and Household Income $\"}},\"template\":{\"data\":{\"histogram2dcontour\":[{\"type\":\"histogram2dcontour\",\"colorbar\":{\"outlinewidth\":0,\"ticks\":\"\"},\"colorscale\":[[0.0,\"#0d0887\"],[0.1111111111111111,\"#46039f\"],[0.2222222222222222,\"#7201a8\"],[0.3333333333333333,\"#9c179e\"],[0.4444444444444444,\"#bd3786\"],[0.5555555555555556,\"#d8576b\"],[0.6666666666666666,\"#ed7953\"],[0.7777777777777778,\"#fb9f3a\"],[0.8888888888888888,\"#fdca26\"],[1.0,\"#f0f921\"]]}],\"choropleth\":[{\"type\":\"choropleth\",\"colorbar\":{\"outlinewidth\":0,\"ticks\":\"\"}}],\"histogram2d\":[{\"type\":\"histogram2d\",\"colorbar\":{\"outlinewidth\":0,\"ticks\":\"\"},\"colorscale\":[[0.0,\"#0d0887\"],[0.1111111111111111,\"#46039f\"],[0.2222222222222222,\"#7201a8\"],[0.3333333333333333,\"#9c179e\"],[0.4444444444444444,\"#bd3786\"],[0.5555555555555556,\"#d8576b\"],[0.6666666666666666,\"#ed7953\"],[0.7777777777777778,\"#fb9f3a\"],[0.8888888888888888,\"#fdca26\"],[1.0,\"#f0f921\"]]}],\"heatmap\":[{\"type\":\"heatmap\",\"colorbar\":{\"outlinewidth\":0,\"ticks\":\"\"},\"colorscale\":[[0.0,\"#0d0887\"],[0.1111111111111111,\"#46039f\"],[0.2222222222222222,\"#7201a8\"],[0.3333333333333333,\"#9c179e\"],[0.4444444444444444,\"#bd3786\"],[0.5555555555555556,\"#d8576b\"],[0.6666666666666666,\"#ed7953\"],[0.7777777777777778,\"#fb9f3a\"],[0.8888888888888888,\"#fdca26\"],[1.0,\"#f0f921\"]]}],\"heatmapgl\":[{\"type\":\"heatmapgl\",\"colorbar\":{\"outlinewidth\":0,\"ticks\":\"\"},\"colorscale\":[[0.0,\"#0d0887\"],[0.1111111111111111,\"#46039f\"],[0.2222222222222222,\"#7201a8\"],[0.3333333333333333,\"#9c179e\"],[0.4444444444444444,\"#bd3786\"],[0.5555555555555556,\"#d8576b\"],[0.6666666666666666,\"#ed7953\"],[0.7777777777777778,\"#fb9f3a\"],[0.8888888888888888,\"#fdca26\"],[1.0,\"#f0f921\"]]}],\"contourcarpet\":[{\"type\":\"contourcarpet\",\"colorbar\":{\"outlinewidth\":0,\"ticks\":\"\"}}],\"contour\":[{\"type\":\"contour\",\"colorbar\":{\"outlinewidth\":0,\"ticks\":\"\"},\"colorscale\":[[0.0,\"#0d0887\"],[0.1111111111111111,\"#46039f\"],[0.2222222222222222,\"#7201a8\"],[0.3333333333333333,\"#9c179e\"],[0.4444444444444444,\"#bd3786\"],[0.5555555555555556,\"#d8576b\"],[0.6666666666666666,\"#ed7953\"],[0.7777777777777778,\"#fb9f3a\"],[0.8888888888888888,\"#fdca26\"],[1.0,\"#f0f921\"]]}],\"surface\":[{\"type\":\"surface\",\"colorbar\":{\"outlinewidth\":0,\"ticks\":\"\"},\"colorscale\":[[0.0,\"#0d0887\"],[0.1111111111111111,\"#46039f\"],[0.2222222222222222,\"#7201a8\"],[0.3333333333333333,\"#9c179e\"],[0.4444444444444444,\"#bd3786\"],[0.5555555555555556,\"#d8576b\"],[0.6666666666666666,\"#ed7953\"],[0.7777777777777778,\"#fb9f3a\"],[0.8888888888888888,\"#fdca26\"],[1.0,\"#f0f921\"]]}],\"mesh3d\":[{\"type\":\"mesh3d\",\"colorbar\":{\"outlinewidth\":0,\"ticks\":\"\"}}],\"scatter\":[{\"fillpattern\":{\"fillmode\":\"overlay\",\"size\":10,\"solidity\":0.2},\"type\":\"scatter\"}],\"parcoords\":[{\"type\":\"parcoords\",\"line\":{\"colorbar\":{\"outlinewidth\":0,\"ticks\":\"\"}}}],\"scatterpolargl\":[{\"type\":\"scatterpolargl\",\"marker\":{\"colorbar\":{\"outlinewidth\":0,\"ticks\":\"\"}}}],\"bar\":[{\"error_x\":{\"color\":\"#2a3f5f\"},\"error_y\":{\"color\":\"#2a3f5f\"},\"marker\":{\"line\":{\"color\":\"#E5ECF6\",\"width\":0.5},\"pattern\":{\"fillmode\":\"overlay\",\"size\":10,\"solidity\":0.2}},\"type\":\"bar\"}],\"scattergeo\":[{\"type\":\"scattergeo\",\"marker\":{\"colorbar\":{\"outlinewidth\":0,\"ticks\":\"\"}}}],\"scatterpolar\":[{\"type\":\"scatterpolar\",\"marker\":{\"colorbar\":{\"outlinewidth\":0,\"ticks\":\"\"}}}],\"histogram\":[{\"marker\":{\"pattern\":{\"fillmode\":\"overlay\",\"size\":10,\"solidity\":0.2}},\"type\":\"histogram\"}],\"scattergl\":[{\"type\":\"scattergl\",\"marker\":{\"colorbar\":{\"outlinewidth\":0,\"ticks\":\"\"}}}],\"scatter3d\":[{\"type\":\"scatter3d\",\"line\":{\"colorbar\":{\"outlinewidth\":0,\"ticks\":\"\"}},\"marker\":{\"colorbar\":{\"outlinewidth\":0,\"ticks\":\"\"}}}],\"scattermapbox\":[{\"type\":\"scattermapbox\",\"marker\":{\"colorbar\":{\"outlinewidth\":0,\"ticks\":\"\"}}}],\"scatterternary\":[{\"type\":\"scatterternary\",\"marker\":{\"colorbar\":{\"outlinewidth\":0,\"ticks\":\"\"}}}],\"scattercarpet\":[{\"type\":\"scattercarpet\",\"marker\":{\"colorbar\":{\"outlinewidth\":0,\"ticks\":\"\"}}}],\"carpet\":[{\"aaxis\":{\"endlinecolor\":\"#2a3f5f\",\"gridcolor\":\"white\",\"linecolor\":\"white\",\"minorgridcolor\":\"white\",\"startlinecolor\":\"#2a3f5f\"},\"baxis\":{\"endlinecolor\":\"#2a3f5f\",\"gridcolor\":\"white\",\"linecolor\":\"white\",\"minorgridcolor\":\"white\",\"startlinecolor\":\"#2a3f5f\"},\"type\":\"carpet\"}],\"table\":[{\"cells\":{\"fill\":{\"color\":\"#EBF0F8\"},\"line\":{\"color\":\"white\"}},\"header\":{\"fill\":{\"color\":\"#C8D4E3\"},\"line\":{\"color\":\"white\"}},\"type\":\"table\"}],\"barpolar\":[{\"marker\":{\"line\":{\"color\":\"#E5ECF6\",\"width\":0.5},\"pattern\":{\"fillmode\":\"overlay\",\"size\":10,\"solidity\":0.2}},\"type\":\"barpolar\"}],\"pie\":[{\"automargin\":true,\"type\":\"pie\"}]},\"layout\":{\"autotypenumbers\":\"strict\",\"colorway\":[\"#636efa\",\"#EF553B\",\"#00cc96\",\"#ab63fa\",\"#FFA15A\",\"#19d3f3\",\"#FF6692\",\"#B6E880\",\"#FF97FF\",\"#FECB52\"],\"font\":{\"color\":\"#2a3f5f\"},\"hovermode\":\"closest\",\"hoverlabel\":{\"align\":\"left\"},\"paper_bgcolor\":\"white\",\"plot_bgcolor\":\"#E5ECF6\",\"polar\":{\"bgcolor\":\"#E5ECF6\",\"angularaxis\":{\"gridcolor\":\"white\",\"linecolor\":\"white\",\"ticks\":\"\"},\"radialaxis\":{\"gridcolor\":\"white\",\"linecolor\":\"white\",\"ticks\":\"\"}},\"ternary\":{\"bgcolor\":\"#E5ECF6\",\"aaxis\":{\"gridcolor\":\"white\",\"linecolor\":\"white\",\"ticks\":\"\"},\"baxis\":{\"gridcolor\":\"white\",\"linecolor\":\"white\",\"ticks\":\"\"},\"caxis\":{\"gridcolor\":\"white\",\"linecolor\":\"white\",\"ticks\":\"\"}},\"coloraxis\":{\"colorbar\":{\"outlinewidth\":0,\"ticks\":\"\"}},\"colorscale\":{\"sequential\":[[0.0,\"#0d0887\"],[0.1111111111111111,\"#46039f\"],[0.2222222222222222,\"#7201a8\"],[0.3333333333333333,\"#9c179e\"],[0.4444444444444444,\"#bd3786\"],[0.5555555555555556,\"#d8576b\"],[0.6666666666666666,\"#ed7953\"],[0.7777777777777778,\"#fb9f3a\"],[0.8888888888888888,\"#fdca26\"],[1.0,\"#f0f921\"]],\"sequentialminus\":[[0.0,\"#0d0887\"],[0.1111111111111111,\"#46039f\"],[0.2222222222222222,\"#7201a8\"],[0.3333333333333333,\"#9c179e\"],[0.4444444444444444,\"#bd3786\"],[0.5555555555555556,\"#d8576b\"],[0.6666666666666666,\"#ed7953\"],[0.7777777777777778,\"#fb9f3a\"],[0.8888888888888888,\"#fdca26\"],[1.0,\"#f0f921\"]],\"diverging\":[[0,\"#8e0152\"],[0.1,\"#c51b7d\"],[0.2,\"#de77ae\"],[0.3,\"#f1b6da\"],[0.4,\"#fde0ef\"],[0.5,\"#f7f7f7\"],[0.6,\"#e6f5d0\"],[0.7,\"#b8e186\"],[0.8,\"#7fbc41\"],[0.9,\"#4d9221\"],[1,\"#276419\"]]},\"xaxis\":{\"gridcolor\":\"white\",\"linecolor\":\"white\",\"ticks\":\"\",\"title\":{\"standoff\":15},\"zerolinecolor\":\"white\",\"automargin\":true,\"zerolinewidth\":2},\"yaxis\":{\"gridcolor\":\"white\",\"linecolor\":\"white\",\"ticks\":\"\",\"title\":{\"standoff\":15},\"zerolinecolor\":\"white\",\"automargin\":true,\"zerolinewidth\":2},\"scene\":{\"xaxis\":{\"backgroundcolor\":\"#E5ECF6\",\"gridcolor\":\"white\",\"linecolor\":\"white\",\"showbackground\":true,\"ticks\":\"\",\"zerolinecolor\":\"white\",\"gridwidth\":2},\"yaxis\":{\"backgroundcolor\":\"#E5ECF6\",\"gridcolor\":\"white\",\"linecolor\":\"white\",\"showbackground\":true,\"ticks\":\"\",\"zerolinecolor\":\"white\",\"gridwidth\":2},\"zaxis\":{\"backgroundcolor\":\"#E5ECF6\",\"gridcolor\":\"white\",\"linecolor\":\"white\",\"showbackground\":true,\"ticks\":\"\",\"zerolinecolor\":\"white\",\"gridwidth\":2}},\"shapedefaults\":{\"line\":{\"color\":\"#2a3f5f\"}},\"annotationdefaults\":{\"arrowcolor\":\"#2a3f5f\",\"arrowhead\":0,\"arrowwidth\":1},\"geo\":{\"bgcolor\":\"white\",\"landcolor\":\"#E5ECF6\",\"subunitcolor\":\"white\",\"showland\":true,\"showlakes\":true,\"lakecolor\":\"white\"},\"title\":{\"x\":0.05},\"mapbox\":{\"style\":\"light\"}}}},                        {\"responsive\": true}                    ).then(function(){\n",
       "                            \n",
       "var gd = document.getElementById('58f27ab5-5ec3-4e63-b280-f0c6a4c82900');\n",
       "var x = new MutationObserver(function (mutations, observer) {{\n",
       "        var display = window.getComputedStyle(gd).display;\n",
       "        if (!display || display === 'none') {{\n",
       "            console.log([gd, 'removed!']);\n",
       "            Plotly.purge(gd);\n",
       "            observer.disconnect();\n",
       "        }}\n",
       "}});\n",
       "\n",
       "// Listen for the removal of the full notebook cells\n",
       "var notebookContainer = gd.closest('#notebook-container');\n",
       "if (notebookContainer) {{\n",
       "    x.observe(notebookContainer, {childList: true});\n",
       "}}\n",
       "\n",
       "// Listen for the clearing of the current output cell\n",
       "var outputEl = gd.closest('.output');\n",
       "if (outputEl) {{\n",
       "    x.observe(outputEl, {childList: true});\n",
       "}}\n",
       "\n",
       "                        })                };                });            </script>        </div>"
      ]
     },
     "metadata": {},
     "output_type": "display_data"
    }
   ],
   "source": [
    "# Create the bar chart for Median House Price\n",
    "bar_chart = go.Bar(x = combined_data_df[\"Year\"],     # x-axis\n",
    "                   y = combined_data_df[\"Median House Price\"],     # y-axis\n",
    "                   name = \"Median House Price\",     # bar_chart legend title\n",
    "                   marker = dict(color = \"lightgreen\")     # Changes the color of the bars\n",
    "                   )\n",
    "\n",
    "# Create the line chart for Median Household Income\n",
    "line_chart = go.Scatter(x = combined_data_df[\"Year\"],     # x-axis\n",
    "                        y = combined_data_df[\"Median Household Income\"],     # y-axis\n",
    "                        name = \"Median Household Income\",     # line_chart legend title\n",
    "                        mode = \"lines+markers\",     # Creates a line chart with markers at each data point\n",
    "                        marker = dict(color = \"blue\"),     # Changes the color of the line\n",
    "                        )\n",
    "        # Notes:\n",
    "            # In Plotly, the go.Scatter() function is used for both line charts and scatter plots\n",
    "            # go.Scatter() is a versatile function that can represent data in multiple ways, depending on the parameters you provide\n",
    "\n",
    "# Create the layout\n",
    "layout = go.Layout(title = \"Median House Price and Median Household Income\",\n",
    "                   xaxis = dict(title = \"Year\", \n",
    "                                tickangle = -90,     # Rotate tick labels to vertical\n",
    "                                dtick = 1,     # Set the increment for x-axis ticks (1 year)\n",
    "                                range=[1983, 2024]),     # Set the beginning and end values for the x-axis range\n",
    "                   plot_bgcolor = \"white\",     # Set plot area background color\n",
    "                   title_x = 0.5,    # Center the title\n",
    "                   title_font = dict(size = 20, family = \"Arial, bold\"),     # Set the title font size and style\n",
    "                   width = 1200,\n",
    "                   height = 600,\n",
    "                   yaxis = dict(title = \"Median House Price and Household Income $\", side = \"left\", tickformat = \"$,.0f\"),     # Format the y-axis\n",
    "                   legend = dict(x = 0.5, y = 1.1,     # Position the legend\n",
    "                                 xanchor = \"center\",     # Center the legend horizontally\n",
    "                                 yanchor = \"top\",     # Anchor the legend to the bottom\n",
    "                                 orientation = \"h\",     # Horizontal orientation\n",
    "                                 bordercolor = \"Black\",     # Border color of the legend\n",
    "                                 borderwidth = 1  # Border width of the legend\n",
    "                                 )\n",
    "                   )\n",
    "\n",
    "\n",
    "# Create the figure\n",
    "combo_fig = go.Figure(data = [bar_chart, line_chart], layout = layout)\n",
    "\n",
    "# Show the figure\n",
    "combo_fig.show()"
   ]
  },
  {
   "cell_type": "markdown",
   "id": "1c578233-68aa-4d39-8f6c-2e03c19a5e6e",
   "metadata": {},
   "source": [
    "Graph Analysis: "
   ]
  },
  {
   "cell_type": "markdown",
   "id": "c5175c26-c1af-477c-91ef-ef228a60cb21",
   "metadata": {},
   "source": [
    "##### **Second y-axis (not using)**"
   ]
  },
  {
   "cell_type": "code",
   "execution_count": 207,
   "id": "8a27128b-0e9d-49fc-af74-693d24bcaf40",
   "metadata": {},
   "outputs": [
    {
     "data": {
      "application/vnd.plotly.v1+json": {
       "config": {
        "plotlyServerURL": "https://plot.ly"
       },
       "data": [
        {
         "marker": {
          "color": "lightgreen"
         },
         "name": "Median House Price",
         "type": "bar",
         "x": [
          1984,
          1985,
          1986,
          1987,
          1988,
          1989,
          1990,
          1991,
          1992,
          1993,
          1994,
          1995,
          1996,
          1997,
          1998,
          1999,
          2000,
          2001,
          2002,
          2003,
          2004,
          2005,
          2006,
          2007,
          2008,
          2009,
          2010,
          2011,
          2012,
          2013,
          2014,
          2015,
          2016,
          2017,
          2018,
          2019,
          2020,
          2021,
          2022,
          2023
         ],
         "y": [
          81000,
          86800,
          95000,
          111500,
          115000,
          124800,
          126800,
          120000,
          126000,
          127000,
          132000,
          138000,
          144100,
          145800,
          153000,
          165300,
          172900,
          179000,
          190100,
          198800,
          228800,
          243600,
          247700,
          257400,
          235300,
          220900,
          224300,
          228100,
          251700,
          273600,
          298900,
          302500,
          310900,
          337900,
          331800,
          327100,
          338600,
          414000,
          442600,
          435400
         ]
        },
        {
         "marker": {
          "color": "blue"
         },
         "mode": "lines+markers",
         "name": "Median Household Income",
         "type": "scatter",
         "x": [
          1984,
          1985,
          1986,
          1987,
          1988,
          1989,
          1990,
          1991,
          1992,
          1993,
          1994,
          1995,
          1996,
          1997,
          1998,
          1999,
          2000,
          2001,
          2002,
          2003,
          2004,
          2005,
          2006,
          2007,
          2008,
          2009,
          2010,
          2011,
          2012,
          2013,
          2014,
          2015,
          2016,
          2017,
          2018,
          2019,
          2020,
          2021,
          2022,
          2023
         ],
         "y": [
          58930,
          60050,
          62280,
          63060,
          63530,
          64610,
          63830,
          61960,
          61450,
          61150,
          61800,
          63770,
          64710,
          66050,
          68470,
          70210,
          70020,
          68870,
          68310,
          68350,
          68250,
          69310,
          70080,
          71210,
          68780,
          68340,
          66730,
          65750,
          65740,
          68220,
          67360,
          71000,
          73520,
          74810,
          75790,
          81210,
          79560,
          79260,
          77540,
          80610
         ],
         "yaxis": "y2"
        }
       ],
       "layout": {
        "height": 600,
        "legend": {
         "bordercolor": "Black",
         "borderwidth": 1,
         "orientation": "h",
         "x": 0.5,
         "xanchor": "center",
         "y": 1.1,
         "yanchor": "top"
        },
        "plot_bgcolor": "white",
        "template": {
         "data": {
          "bar": [
           {
            "error_x": {
             "color": "#2a3f5f"
            },
            "error_y": {
             "color": "#2a3f5f"
            },
            "marker": {
             "line": {
              "color": "#E5ECF6",
              "width": 0.5
             },
             "pattern": {
              "fillmode": "overlay",
              "size": 10,
              "solidity": 0.2
             }
            },
            "type": "bar"
           }
          ],
          "barpolar": [
           {
            "marker": {
             "line": {
              "color": "#E5ECF6",
              "width": 0.5
             },
             "pattern": {
              "fillmode": "overlay",
              "size": 10,
              "solidity": 0.2
             }
            },
            "type": "barpolar"
           }
          ],
          "carpet": [
           {
            "aaxis": {
             "endlinecolor": "#2a3f5f",
             "gridcolor": "white",
             "linecolor": "white",
             "minorgridcolor": "white",
             "startlinecolor": "#2a3f5f"
            },
            "baxis": {
             "endlinecolor": "#2a3f5f",
             "gridcolor": "white",
             "linecolor": "white",
             "minorgridcolor": "white",
             "startlinecolor": "#2a3f5f"
            },
            "type": "carpet"
           }
          ],
          "choropleth": [
           {
            "colorbar": {
             "outlinewidth": 0,
             "ticks": ""
            },
            "type": "choropleth"
           }
          ],
          "contour": [
           {
            "colorbar": {
             "outlinewidth": 0,
             "ticks": ""
            },
            "colorscale": [
             [
              0,
              "#0d0887"
             ],
             [
              0.1111111111111111,
              "#46039f"
             ],
             [
              0.2222222222222222,
              "#7201a8"
             ],
             [
              0.3333333333333333,
              "#9c179e"
             ],
             [
              0.4444444444444444,
              "#bd3786"
             ],
             [
              0.5555555555555556,
              "#d8576b"
             ],
             [
              0.6666666666666666,
              "#ed7953"
             ],
             [
              0.7777777777777778,
              "#fb9f3a"
             ],
             [
              0.8888888888888888,
              "#fdca26"
             ],
             [
              1,
              "#f0f921"
             ]
            ],
            "type": "contour"
           }
          ],
          "contourcarpet": [
           {
            "colorbar": {
             "outlinewidth": 0,
             "ticks": ""
            },
            "type": "contourcarpet"
           }
          ],
          "heatmap": [
           {
            "colorbar": {
             "outlinewidth": 0,
             "ticks": ""
            },
            "colorscale": [
             [
              0,
              "#0d0887"
             ],
             [
              0.1111111111111111,
              "#46039f"
             ],
             [
              0.2222222222222222,
              "#7201a8"
             ],
             [
              0.3333333333333333,
              "#9c179e"
             ],
             [
              0.4444444444444444,
              "#bd3786"
             ],
             [
              0.5555555555555556,
              "#d8576b"
             ],
             [
              0.6666666666666666,
              "#ed7953"
             ],
             [
              0.7777777777777778,
              "#fb9f3a"
             ],
             [
              0.8888888888888888,
              "#fdca26"
             ],
             [
              1,
              "#f0f921"
             ]
            ],
            "type": "heatmap"
           }
          ],
          "heatmapgl": [
           {
            "colorbar": {
             "outlinewidth": 0,
             "ticks": ""
            },
            "colorscale": [
             [
              0,
              "#0d0887"
             ],
             [
              0.1111111111111111,
              "#46039f"
             ],
             [
              0.2222222222222222,
              "#7201a8"
             ],
             [
              0.3333333333333333,
              "#9c179e"
             ],
             [
              0.4444444444444444,
              "#bd3786"
             ],
             [
              0.5555555555555556,
              "#d8576b"
             ],
             [
              0.6666666666666666,
              "#ed7953"
             ],
             [
              0.7777777777777778,
              "#fb9f3a"
             ],
             [
              0.8888888888888888,
              "#fdca26"
             ],
             [
              1,
              "#f0f921"
             ]
            ],
            "type": "heatmapgl"
           }
          ],
          "histogram": [
           {
            "marker": {
             "pattern": {
              "fillmode": "overlay",
              "size": 10,
              "solidity": 0.2
             }
            },
            "type": "histogram"
           }
          ],
          "histogram2d": [
           {
            "colorbar": {
             "outlinewidth": 0,
             "ticks": ""
            },
            "colorscale": [
             [
              0,
              "#0d0887"
             ],
             [
              0.1111111111111111,
              "#46039f"
             ],
             [
              0.2222222222222222,
              "#7201a8"
             ],
             [
              0.3333333333333333,
              "#9c179e"
             ],
             [
              0.4444444444444444,
              "#bd3786"
             ],
             [
              0.5555555555555556,
              "#d8576b"
             ],
             [
              0.6666666666666666,
              "#ed7953"
             ],
             [
              0.7777777777777778,
              "#fb9f3a"
             ],
             [
              0.8888888888888888,
              "#fdca26"
             ],
             [
              1,
              "#f0f921"
             ]
            ],
            "type": "histogram2d"
           }
          ],
          "histogram2dcontour": [
           {
            "colorbar": {
             "outlinewidth": 0,
             "ticks": ""
            },
            "colorscale": [
             [
              0,
              "#0d0887"
             ],
             [
              0.1111111111111111,
              "#46039f"
             ],
             [
              0.2222222222222222,
              "#7201a8"
             ],
             [
              0.3333333333333333,
              "#9c179e"
             ],
             [
              0.4444444444444444,
              "#bd3786"
             ],
             [
              0.5555555555555556,
              "#d8576b"
             ],
             [
              0.6666666666666666,
              "#ed7953"
             ],
             [
              0.7777777777777778,
              "#fb9f3a"
             ],
             [
              0.8888888888888888,
              "#fdca26"
             ],
             [
              1,
              "#f0f921"
             ]
            ],
            "type": "histogram2dcontour"
           }
          ],
          "mesh3d": [
           {
            "colorbar": {
             "outlinewidth": 0,
             "ticks": ""
            },
            "type": "mesh3d"
           }
          ],
          "parcoords": [
           {
            "line": {
             "colorbar": {
              "outlinewidth": 0,
              "ticks": ""
             }
            },
            "type": "parcoords"
           }
          ],
          "pie": [
           {
            "automargin": true,
            "type": "pie"
           }
          ],
          "scatter": [
           {
            "fillpattern": {
             "fillmode": "overlay",
             "size": 10,
             "solidity": 0.2
            },
            "type": "scatter"
           }
          ],
          "scatter3d": [
           {
            "line": {
             "colorbar": {
              "outlinewidth": 0,
              "ticks": ""
             }
            },
            "marker": {
             "colorbar": {
              "outlinewidth": 0,
              "ticks": ""
             }
            },
            "type": "scatter3d"
           }
          ],
          "scattercarpet": [
           {
            "marker": {
             "colorbar": {
              "outlinewidth": 0,
              "ticks": ""
             }
            },
            "type": "scattercarpet"
           }
          ],
          "scattergeo": [
           {
            "marker": {
             "colorbar": {
              "outlinewidth": 0,
              "ticks": ""
             }
            },
            "type": "scattergeo"
           }
          ],
          "scattergl": [
           {
            "marker": {
             "colorbar": {
              "outlinewidth": 0,
              "ticks": ""
             }
            },
            "type": "scattergl"
           }
          ],
          "scattermapbox": [
           {
            "marker": {
             "colorbar": {
              "outlinewidth": 0,
              "ticks": ""
             }
            },
            "type": "scattermapbox"
           }
          ],
          "scatterpolar": [
           {
            "marker": {
             "colorbar": {
              "outlinewidth": 0,
              "ticks": ""
             }
            },
            "type": "scatterpolar"
           }
          ],
          "scatterpolargl": [
           {
            "marker": {
             "colorbar": {
              "outlinewidth": 0,
              "ticks": ""
             }
            },
            "type": "scatterpolargl"
           }
          ],
          "scatterternary": [
           {
            "marker": {
             "colorbar": {
              "outlinewidth": 0,
              "ticks": ""
             }
            },
            "type": "scatterternary"
           }
          ],
          "surface": [
           {
            "colorbar": {
             "outlinewidth": 0,
             "ticks": ""
            },
            "colorscale": [
             [
              0,
              "#0d0887"
             ],
             [
              0.1111111111111111,
              "#46039f"
             ],
             [
              0.2222222222222222,
              "#7201a8"
             ],
             [
              0.3333333333333333,
              "#9c179e"
             ],
             [
              0.4444444444444444,
              "#bd3786"
             ],
             [
              0.5555555555555556,
              "#d8576b"
             ],
             [
              0.6666666666666666,
              "#ed7953"
             ],
             [
              0.7777777777777778,
              "#fb9f3a"
             ],
             [
              0.8888888888888888,
              "#fdca26"
             ],
             [
              1,
              "#f0f921"
             ]
            ],
            "type": "surface"
           }
          ],
          "table": [
           {
            "cells": {
             "fill": {
              "color": "#EBF0F8"
             },
             "line": {
              "color": "white"
             }
            },
            "header": {
             "fill": {
              "color": "#C8D4E3"
             },
             "line": {
              "color": "white"
             }
            },
            "type": "table"
           }
          ]
         },
         "layout": {
          "annotationdefaults": {
           "arrowcolor": "#2a3f5f",
           "arrowhead": 0,
           "arrowwidth": 1
          },
          "autotypenumbers": "strict",
          "coloraxis": {
           "colorbar": {
            "outlinewidth": 0,
            "ticks": ""
           }
          },
          "colorscale": {
           "diverging": [
            [
             0,
             "#8e0152"
            ],
            [
             0.1,
             "#c51b7d"
            ],
            [
             0.2,
             "#de77ae"
            ],
            [
             0.3,
             "#f1b6da"
            ],
            [
             0.4,
             "#fde0ef"
            ],
            [
             0.5,
             "#f7f7f7"
            ],
            [
             0.6,
             "#e6f5d0"
            ],
            [
             0.7,
             "#b8e186"
            ],
            [
             0.8,
             "#7fbc41"
            ],
            [
             0.9,
             "#4d9221"
            ],
            [
             1,
             "#276419"
            ]
           ],
           "sequential": [
            [
             0,
             "#0d0887"
            ],
            [
             0.1111111111111111,
             "#46039f"
            ],
            [
             0.2222222222222222,
             "#7201a8"
            ],
            [
             0.3333333333333333,
             "#9c179e"
            ],
            [
             0.4444444444444444,
             "#bd3786"
            ],
            [
             0.5555555555555556,
             "#d8576b"
            ],
            [
             0.6666666666666666,
             "#ed7953"
            ],
            [
             0.7777777777777778,
             "#fb9f3a"
            ],
            [
             0.8888888888888888,
             "#fdca26"
            ],
            [
             1,
             "#f0f921"
            ]
           ],
           "sequentialminus": [
            [
             0,
             "#0d0887"
            ],
            [
             0.1111111111111111,
             "#46039f"
            ],
            [
             0.2222222222222222,
             "#7201a8"
            ],
            [
             0.3333333333333333,
             "#9c179e"
            ],
            [
             0.4444444444444444,
             "#bd3786"
            ],
            [
             0.5555555555555556,
             "#d8576b"
            ],
            [
             0.6666666666666666,
             "#ed7953"
            ],
            [
             0.7777777777777778,
             "#fb9f3a"
            ],
            [
             0.8888888888888888,
             "#fdca26"
            ],
            [
             1,
             "#f0f921"
            ]
           ]
          },
          "colorway": [
           "#636efa",
           "#EF553B",
           "#00cc96",
           "#ab63fa",
           "#FFA15A",
           "#19d3f3",
           "#FF6692",
           "#B6E880",
           "#FF97FF",
           "#FECB52"
          ],
          "font": {
           "color": "#2a3f5f"
          },
          "geo": {
           "bgcolor": "white",
           "lakecolor": "white",
           "landcolor": "#E5ECF6",
           "showlakes": true,
           "showland": true,
           "subunitcolor": "white"
          },
          "hoverlabel": {
           "align": "left"
          },
          "hovermode": "closest",
          "mapbox": {
           "style": "light"
          },
          "paper_bgcolor": "white",
          "plot_bgcolor": "#E5ECF6",
          "polar": {
           "angularaxis": {
            "gridcolor": "white",
            "linecolor": "white",
            "ticks": ""
           },
           "bgcolor": "#E5ECF6",
           "radialaxis": {
            "gridcolor": "white",
            "linecolor": "white",
            "ticks": ""
           }
          },
          "scene": {
           "xaxis": {
            "backgroundcolor": "#E5ECF6",
            "gridcolor": "white",
            "gridwidth": 2,
            "linecolor": "white",
            "showbackground": true,
            "ticks": "",
            "zerolinecolor": "white"
           },
           "yaxis": {
            "backgroundcolor": "#E5ECF6",
            "gridcolor": "white",
            "gridwidth": 2,
            "linecolor": "white",
            "showbackground": true,
            "ticks": "",
            "zerolinecolor": "white"
           },
           "zaxis": {
            "backgroundcolor": "#E5ECF6",
            "gridcolor": "white",
            "gridwidth": 2,
            "linecolor": "white",
            "showbackground": true,
            "ticks": "",
            "zerolinecolor": "white"
           }
          },
          "shapedefaults": {
           "line": {
            "color": "#2a3f5f"
           }
          },
          "ternary": {
           "aaxis": {
            "gridcolor": "white",
            "linecolor": "white",
            "ticks": ""
           },
           "baxis": {
            "gridcolor": "white",
            "linecolor": "white",
            "ticks": ""
           },
           "bgcolor": "#E5ECF6",
           "caxis": {
            "gridcolor": "white",
            "linecolor": "white",
            "ticks": ""
           }
          },
          "title": {
           "x": 0.05
          },
          "xaxis": {
           "automargin": true,
           "gridcolor": "white",
           "linecolor": "white",
           "ticks": "",
           "title": {
            "standoff": 15
           },
           "zerolinecolor": "white",
           "zerolinewidth": 2
          },
          "yaxis": {
           "automargin": true,
           "gridcolor": "white",
           "linecolor": "white",
           "ticks": "",
           "title": {
            "standoff": 15
           },
           "zerolinecolor": "white",
           "zerolinewidth": 2
          }
         }
        },
        "title": {
         "font": {
          "family": "Arial, bold",
          "size": 20
         },
         "text": "Median House Price and Median Household Income",
         "x": 0.5
        },
        "width": 1200,
        "xaxis": {
         "dtick": 1,
         "range": [
          1983,
          2024
         ],
         "tickangle": -90,
         "title": {
          "text": "Year"
         },
         "type": "linear"
        },
        "yaxis": {
         "autorange": true,
         "range": [
          0,
          465894.7368421053
         ],
         "side": "left",
         "tickformat": "$,.0f",
         "title": {
          "text": "Median House Price"
         },
         "type": "linear"
        },
        "yaxis2": {
         "autorange": true,
         "overlaying": "y",
         "range": [
          57441.65991902834,
          82698.34008097165
         ],
         "side": "right",
         "tickformat": "$,.0f",
         "title": {
          "text": "Median Household Income"
         },
         "type": "linear"
        }
       }
      },
      "image/png": "[encoded data removed]",
      "text/html": [
       "<div>                            <div id=\"ad4e6f69-cb18-40c7-b2ed-f4d0b3fb1c76\" class=\"plotly-graph-div\" style=\"height:600px; width:1200px;\"></div>            <script type=\"text/javascript\">                require([\"plotly\"], function(Plotly) {                    window.PLOTLYENV=window.PLOTLYENV || {};                                    if (document.getElementById(\"ad4e6f69-cb18-40c7-b2ed-f4d0b3fb1c76\")) {                    Plotly.newPlot(                        \"ad4e6f69-cb18-40c7-b2ed-f4d0b3fb1c76\",                        [{\"marker\":{\"color\":\"lightgreen\"},\"name\":\"Median House Price\",\"x\":[1984,1985,1986,1987,1988,1989,1990,1991,1992,1993,1994,1995,1996,1997,1998,1999,2000,2001,2002,2003,2004,2005,2006,2007,2008,2009,2010,2011,2012,2013,2014,2015,2016,2017,2018,2019,2020,2021,2022,2023],\"y\":[81000.0,86800.0,95000.0,111500.0,115000.0,124800.0,126800.0,120000.0,126000.0,127000.0,132000.0,138000.0,144100.0,145800.0,153000.0,165300.0,172900.0,179000.0,190100.0,198800.0,228800.0,243600.0,247700.0,257400.0,235300.0,220900.0,224300.0,228100.0,251700.0,273600.0,298900.0,302500.0,310900.0,337900.0,331800.0,327100.0,338600.0,414000.0,442600.0,435400.0],\"type\":\"bar\"},{\"marker\":{\"color\":\"blue\"},\"mode\":\"lines+markers\",\"name\":\"Median Household Income\",\"x\":[1984,1985,1986,1987,1988,1989,1990,1991,1992,1993,1994,1995,1996,1997,1998,1999,2000,2001,2002,2003,2004,2005,2006,2007,2008,2009,2010,2011,2012,2013,2014,2015,2016,2017,2018,2019,2020,2021,2022,2023],\"y\":[58930.0,60050.0,62280.0,63060.0,63530.0,64610.0,63830.0,61960.0,61450.0,61150.0,61800.0,63770.0,64710.0,66050.0,68470.0,70210.0,70020.0,68870.0,68310.0,68350.0,68250.0,69310.0,70080.0,71210.0,68780.0,68340.0,66730.0,65750.0,65740.0,68220.0,67360.0,71000.0,73520.0,74810.0,75790.0,81210.0,79560.0,79260.0,77540.0,80610.0],\"yaxis\":\"y2\",\"type\":\"scatter\"}],                        {\"height\":600,\"legend\":{\"bordercolor\":\"Black\",\"borderwidth\":1,\"orientation\":\"h\",\"x\":0.5,\"xanchor\":\"center\",\"y\":1.1,\"yanchor\":\"top\"},\"plot_bgcolor\":\"white\",\"title\":{\"font\":{\"family\":\"Arial, bold\",\"size\":20},\"text\":\"Median House Price and Median Household Income\",\"x\":0.5},\"width\":1200,\"xaxis\":{\"dtick\":1,\"range\":[1983,2024],\"tickangle\":-90,\"title\":{\"text\":\"Year\"}},\"yaxis\":{\"side\":\"left\",\"tickformat\":\"$,.0f\",\"title\":{\"text\":\"Median House Price\"}},\"yaxis2\":{\"overlaying\":\"y\",\"side\":\"right\",\"tickformat\":\"$,.0f\",\"title\":{\"text\":\"Median Household Income\"}},\"template\":{\"data\":{\"histogram2dcontour\":[{\"type\":\"histogram2dcontour\",\"colorbar\":{\"outlinewidth\":0,\"ticks\":\"\"},\"colorscale\":[[0.0,\"#0d0887\"],[0.1111111111111111,\"#46039f\"],[0.2222222222222222,\"#7201a8\"],[0.3333333333333333,\"#9c179e\"],[0.4444444444444444,\"#bd3786\"],[0.5555555555555556,\"#d8576b\"],[0.6666666666666666,\"#ed7953\"],[0.7777777777777778,\"#fb9f3a\"],[0.8888888888888888,\"#fdca26\"],[1.0,\"#f0f921\"]]}],\"choropleth\":[{\"type\":\"choropleth\",\"colorbar\":{\"outlinewidth\":0,\"ticks\":\"\"}}],\"histogram2d\":[{\"type\":\"histogram2d\",\"colorbar\":{\"outlinewidth\":0,\"ticks\":\"\"},\"colorscale\":[[0.0,\"#0d0887\"],[0.1111111111111111,\"#46039f\"],[0.2222222222222222,\"#7201a8\"],[0.3333333333333333,\"#9c179e\"],[0.4444444444444444,\"#bd3786\"],[0.5555555555555556,\"#d8576b\"],[0.6666666666666666,\"#ed7953\"],[0.7777777777777778,\"#fb9f3a\"],[0.8888888888888888,\"#fdca26\"],[1.0,\"#f0f921\"]]}],\"heatmap\":[{\"type\":\"heatmap\",\"colorbar\":{\"outlinewidth\":0,\"ticks\":\"\"},\"colorscale\":[[0.0,\"#0d0887\"],[0.1111111111111111,\"#46039f\"],[0.2222222222222222,\"#7201a8\"],[0.3333333333333333,\"#9c179e\"],[0.4444444444444444,\"#bd3786\"],[0.5555555555555556,\"#d8576b\"],[0.6666666666666666,\"#ed7953\"],[0.7777777777777778,\"#fb9f3a\"],[0.8888888888888888,\"#fdca26\"],[1.0,\"#f0f921\"]]}],\"heatmapgl\":[{\"type\":\"heatmapgl\",\"colorbar\":{\"outlinewidth\":0,\"ticks\":\"\"},\"colorscale\":[[0.0,\"#0d0887\"],[0.1111111111111111,\"#46039f\"],[0.2222222222222222,\"#7201a8\"],[0.3333333333333333,\"#9c179e\"],[0.4444444444444444,\"#bd3786\"],[0.5555555555555556,\"#d8576b\"],[0.6666666666666666,\"#ed7953\"],[0.7777777777777778,\"#fb9f3a\"],[0.8888888888888888,\"#fdca26\"],[1.0,\"#f0f921\"]]}],\"contourcarpet\":[{\"type\":\"contourcarpet\",\"colorbar\":{\"outlinewidth\":0,\"ticks\":\"\"}}],\"contour\":[{\"type\":\"contour\",\"colorbar\":{\"outlinewidth\":0,\"ticks\":\"\"},\"colorscale\":[[0.0,\"#0d0887\"],[0.1111111111111111,\"#46039f\"],[0.2222222222222222,\"#7201a8\"],[0.3333333333333333,\"#9c179e\"],[0.4444444444444444,\"#bd3786\"],[0.5555555555555556,\"#d8576b\"],[0.6666666666666666,\"#ed7953\"],[0.7777777777777778,\"#fb9f3a\"],[0.8888888888888888,\"#fdca26\"],[1.0,\"#f0f921\"]]}],\"surface\":[{\"type\":\"surface\",\"colorbar\":{\"outlinewidth\":0,\"ticks\":\"\"},\"colorscale\":[[0.0,\"#0d0887\"],[0.1111111111111111,\"#46039f\"],[0.2222222222222222,\"#7201a8\"],[0.3333333333333333,\"#9c179e\"],[0.4444444444444444,\"#bd3786\"],[0.5555555555555556,\"#d8576b\"],[0.6666666666666666,\"#ed7953\"],[0.7777777777777778,\"#fb9f3a\"],[0.8888888888888888,\"#fdca26\"],[1.0,\"#f0f921\"]]}],\"mesh3d\":[{\"type\":\"mesh3d\",\"colorbar\":{\"outlinewidth\":0,\"ticks\":\"\"}}],\"scatter\":[{\"fillpattern\":{\"fillmode\":\"overlay\",\"size\":10,\"solidity\":0.2},\"type\":\"scatter\"}],\"parcoords\":[{\"type\":\"parcoords\",\"line\":{\"colorbar\":{\"outlinewidth\":0,\"ticks\":\"\"}}}],\"scatterpolargl\":[{\"type\":\"scatterpolargl\",\"marker\":{\"colorbar\":{\"outlinewidth\":0,\"ticks\":\"\"}}}],\"bar\":[{\"error_x\":{\"color\":\"#2a3f5f\"},\"error_y\":{\"color\":\"#2a3f5f\"},\"marker\":{\"line\":{\"color\":\"#E5ECF6\",\"width\":0.5},\"pattern\":{\"fillmode\":\"overlay\",\"size\":10,\"solidity\":0.2}},\"type\":\"bar\"}],\"scattergeo\":[{\"type\":\"scattergeo\",\"marker\":{\"colorbar\":{\"outlinewidth\":0,\"ticks\":\"\"}}}],\"scatterpolar\":[{\"type\":\"scatterpolar\",\"marker\":{\"colorbar\":{\"outlinewidth\":0,\"ticks\":\"\"}}}],\"histogram\":[{\"marker\":{\"pattern\":{\"fillmode\":\"overlay\",\"size\":10,\"solidity\":0.2}},\"type\":\"histogram\"}],\"scattergl\":[{\"type\":\"scattergl\",\"marker\":{\"colorbar\":{\"outlinewidth\":0,\"ticks\":\"\"}}}],\"scatter3d\":[{\"type\":\"scatter3d\",\"line\":{\"colorbar\":{\"outlinewidth\":0,\"ticks\":\"\"}},\"marker\":{\"colorbar\":{\"outlinewidth\":0,\"ticks\":\"\"}}}],\"scattermapbox\":[{\"type\":\"scattermapbox\",\"marker\":{\"colorbar\":{\"outlinewidth\":0,\"ticks\":\"\"}}}],\"scatterternary\":[{\"type\":\"scatterternary\",\"marker\":{\"colorbar\":{\"outlinewidth\":0,\"ticks\":\"\"}}}],\"scattercarpet\":[{\"type\":\"scattercarpet\",\"marker\":{\"colorbar\":{\"outlinewidth\":0,\"ticks\":\"\"}}}],\"carpet\":[{\"aaxis\":{\"endlinecolor\":\"#2a3f5f\",\"gridcolor\":\"white\",\"linecolor\":\"white\",\"minorgridcolor\":\"white\",\"startlinecolor\":\"#2a3f5f\"},\"baxis\":{\"endlinecolor\":\"#2a3f5f\",\"gridcolor\":\"white\",\"linecolor\":\"white\",\"minorgridcolor\":\"white\",\"startlinecolor\":\"#2a3f5f\"},\"type\":\"carpet\"}],\"table\":[{\"cells\":{\"fill\":{\"color\":\"#EBF0F8\"},\"line\":{\"color\":\"white\"}},\"header\":{\"fill\":{\"color\":\"#C8D4E3\"},\"line\":{\"color\":\"white\"}},\"type\":\"table\"}],\"barpolar\":[{\"marker\":{\"line\":{\"color\":\"#E5ECF6\",\"width\":0.5},\"pattern\":{\"fillmode\":\"overlay\",\"size\":10,\"solidity\":0.2}},\"type\":\"barpolar\"}],\"pie\":[{\"automargin\":true,\"type\":\"pie\"}]},\"layout\":{\"autotypenumbers\":\"strict\",\"colorway\":[\"#636efa\",\"#EF553B\",\"#00cc96\",\"#ab63fa\",\"#FFA15A\",\"#19d3f3\",\"#FF6692\",\"#B6E880\",\"#FF97FF\",\"#FECB52\"],\"font\":{\"color\":\"#2a3f5f\"},\"hovermode\":\"closest\",\"hoverlabel\":{\"align\":\"left\"},\"paper_bgcolor\":\"white\",\"plot_bgcolor\":\"#E5ECF6\",\"polar\":{\"bgcolor\":\"#E5ECF6\",\"angularaxis\":{\"gridcolor\":\"white\",\"linecolor\":\"white\",\"ticks\":\"\"},\"radialaxis\":{\"gridcolor\":\"white\",\"linecolor\":\"white\",\"ticks\":\"\"}},\"ternary\":{\"bgcolor\":\"#E5ECF6\",\"aaxis\":{\"gridcolor\":\"white\",\"linecolor\":\"white\",\"ticks\":\"\"},\"baxis\":{\"gridcolor\":\"white\",\"linecolor\":\"white\",\"ticks\":\"\"},\"caxis\":{\"gridcolor\":\"white\",\"linecolor\":\"white\",\"ticks\":\"\"}},\"coloraxis\":{\"colorbar\":{\"outlinewidth\":0,\"ticks\":\"\"}},\"colorscale\":{\"sequential\":[[0.0,\"#0d0887\"],[0.1111111111111111,\"#46039f\"],[0.2222222222222222,\"#7201a8\"],[0.3333333333333333,\"#9c179e\"],[0.4444444444444444,\"#bd3786\"],[0.5555555555555556,\"#d8576b\"],[0.6666666666666666,\"#ed7953\"],[0.7777777777777778,\"#fb9f3a\"],[0.8888888888888888,\"#fdca26\"],[1.0,\"#f0f921\"]],\"sequentialminus\":[[0.0,\"#0d0887\"],[0.1111111111111111,\"#46039f\"],[0.2222222222222222,\"#7201a8\"],[0.3333333333333333,\"#9c179e\"],[0.4444444444444444,\"#bd3786\"],[0.5555555555555556,\"#d8576b\"],[0.6666666666666666,\"#ed7953\"],[0.7777777777777778,\"#fb9f3a\"],[0.8888888888888888,\"#fdca26\"],[1.0,\"#f0f921\"]],\"diverging\":[[0,\"#8e0152\"],[0.1,\"#c51b7d\"],[0.2,\"#de77ae\"],[0.3,\"#f1b6da\"],[0.4,\"#fde0ef\"],[0.5,\"#f7f7f7\"],[0.6,\"#e6f5d0\"],[0.7,\"#b8e186\"],[0.8,\"#7fbc41\"],[0.9,\"#4d9221\"],[1,\"#276419\"]]},\"xaxis\":{\"gridcolor\":\"white\",\"linecolor\":\"white\",\"ticks\":\"\",\"title\":{\"standoff\":15},\"zerolinecolor\":\"white\",\"automargin\":true,\"zerolinewidth\":2},\"yaxis\":{\"gridcolor\":\"white\",\"linecolor\":\"white\",\"ticks\":\"\",\"title\":{\"standoff\":15},\"zerolinecolor\":\"white\",\"automargin\":true,\"zerolinewidth\":2},\"scene\":{\"xaxis\":{\"backgroundcolor\":\"#E5ECF6\",\"gridcolor\":\"white\",\"linecolor\":\"white\",\"showbackground\":true,\"ticks\":\"\",\"zerolinecolor\":\"white\",\"gridwidth\":2},\"yaxis\":{\"backgroundcolor\":\"#E5ECF6\",\"gridcolor\":\"white\",\"linecolor\":\"white\",\"showbackground\":true,\"ticks\":\"\",\"zerolinecolor\":\"white\",\"gridwidth\":2},\"zaxis\":{\"backgroundcolor\":\"#E5ECF6\",\"gridcolor\":\"white\",\"linecolor\":\"white\",\"showbackground\":true,\"ticks\":\"\",\"zerolinecolor\":\"white\",\"gridwidth\":2}},\"shapedefaults\":{\"line\":{\"color\":\"#2a3f5f\"}},\"annotationdefaults\":{\"arrowcolor\":\"#2a3f5f\",\"arrowhead\":0,\"arrowwidth\":1},\"geo\":{\"bgcolor\":\"white\",\"landcolor\":\"#E5ECF6\",\"subunitcolor\":\"white\",\"showland\":true,\"showlakes\":true,\"lakecolor\":\"white\"},\"title\":{\"x\":0.05},\"mapbox\":{\"style\":\"light\"}}}},                        {\"responsive\": true}                    ).then(function(){\n",
       "                            \n",
       "var gd = document.getElementById('ad4e6f69-cb18-40c7-b2ed-f4d0b3fb1c76');\n",
       "var x = new MutationObserver(function (mutations, observer) {{\n",
       "        var display = window.getComputedStyle(gd).display;\n",
       "        if (!display || display === 'none') {{\n",
       "            console.log([gd, 'removed!']);\n",
       "            Plotly.purge(gd);\n",
       "            observer.disconnect();\n",
       "        }}\n",
       "}});\n",
       "\n",
       "// Listen for the removal of the full notebook cells\n",
       "var notebookContainer = gd.closest('#notebook-container');\n",
       "if (notebookContainer) {{\n",
       "    x.observe(notebookContainer, {childList: true});\n",
       "}}\n",
       "\n",
       "// Listen for the clearing of the current output cell\n",
       "var outputEl = gd.closest('.output');\n",
       "if (outputEl) {{\n",
       "    x.observe(outputEl, {childList: true});\n",
       "}}\n",
       "\n",
       "                        })                };                });            </script>        </div>"
      ]
     },
     "metadata": {},
     "output_type": "display_data"
    }
   ],
   "source": [
    "# Create the bar chart for Median House Price\n",
    "bar_chart = go.Bar(x = combined_data_df[\"Year\"],     # x-axis\n",
    "                   y = combined_data_df[\"Median House Price\"],     # y-axis\n",
    "                   name = \"Median House Price\",     # bar_chart legend title\n",
    "                   marker = dict(color = \"lightgreen\")     # Changes the color of the bars\n",
    "                   )\n",
    "\n",
    "# Create the line chart for Median Household Income\n",
    "line_chart = go.Scatter(x = combined_data_df[\"Year\"],     # x-axis\n",
    "                        y = combined_data_df[\"Median Household Income\"],     # y-axis\n",
    "                        name = \"Median Household Income\",     # line_chart legend title\n",
    "                        mode = \"lines+markers\",     # Creates a line chart with markers at each data point\n",
    "                        marker = dict(color = \"blue\"),     # Changes the color of the line\n",
    "                        yaxis = \"y2\"  # Use a secondary y-axis for inflation\n",
    "                        )\n",
    "        # Notes:\n",
    "            # In Plotly, the go.Scatter() function is used for both line charts and scatter plots\n",
    "            # go.Scatter() is a versatile function that can represent data in multiple ways, depending on the parameters you provide\n",
    "\n",
    "# Create the layout\n",
    "layout = go.Layout(title = \"Median House Price and Median Household Income\",\n",
    "                   xaxis = dict(title = \"Year\", \n",
    "                                tickangle = -90,     # Rotate tick labels to vertical\n",
    "                                dtick = 1,     # Set the increment for x-axis ticks (1 year)\n",
    "                                range=[1983, 2024]),     # Set the beginning and end values for the x-axis range\n",
    "                   plot_bgcolor = \"white\",     # Set plot area background color\n",
    "                   title_x = 0.5,    # Center the title\n",
    "                   title_font = dict(size = 20, family = \"Arial, bold\"),     # Set the title font size and style\n",
    "                   width = 1200,\n",
    "                   height = 600,\n",
    "                   yaxis = dict(title = \"Median House Price\", side = \"left\", tickformat = \"$,.0f\"),     # Format the y-axis\n",
    "                   yaxis_tickformat = \"$,.0f\",     # Format for y-axis\n",
    "                   yaxis2 = dict(title = \"Median Household Income\", overlaying = \"y\", side = \"right\", tickformat = \"$,.0f\"),     # Secondary y-axis for \n",
    "                   legend = dict(x = 0.5, y = 1.1,     # Position the legend\n",
    "                                 xanchor = \"center\",     # Center the legend horizontally\n",
    "                                 yanchor = \"top\",     # Anchor the legend to the bottom\n",
    "                                 orientation = \"h\",     # Horizontal orientation\n",
    "                                 bordercolor = \"Black\",     # Border color of the legend\n",
    "                                 borderwidth = 1  # Border width of the legend\n",
    "                                 )\n",
    "                   )\n",
    "\n",
    "\n",
    "# Create the figure\n",
    "combo_fig = go.Figure(data = [bar_chart, line_chart], layout = layout)\n",
    "\n",
    "# Show the figure\n",
    "combo_fig.show()"
   ]
  },
  {
   "cell_type": "markdown",
   "id": "c06690e5-516b-4ce2-881a-c46911f3c768",
   "metadata": {},
   "source": [
    "Graph Analysis:"
   ]
  },
  {
   "cell_type": "markdown",
   "id": "6cf0c66e-d004-4c67-8fcb-4ae87a623884",
   "metadata": {
    "jp-MarkdownHeadingCollapsed": true
   },
   "source": [
    "### **Create the same graph as above, but include a line for the Inflation Rate**"
   ]
  },
  {
   "cell_type": "code",
   "execution_count": 208,
   "id": "d8e74815-d312-48ae-bd60-bf7548adf405",
   "metadata": {},
   "outputs": [
    {
     "data": {
      "application/vnd.plotly.v1+json": {
       "config": {
        "plotlyServerURL": "https://plot.ly"
       },
       "data": [
        {
         "marker": {
          "color": "lightgreen"
         },
         "name": "Median House Price",
         "type": "bar",
         "x": [
          1984,
          1985,
          1986,
          1987,
          1988,
          1989,
          1990,
          1991,
          1992,
          1993,
          1994,
          1995,
          1996,
          1997,
          1998,
          1999,
          2000,
          2001,
          2002,
          2003,
          2004,
          2005,
          2006,
          2007,
          2008,
          2009,
          2010,
          2011,
          2012,
          2013,
          2014,
          2015,
          2016,
          2017,
          2018,
          2019,
          2020,
          2021,
          2022,
          2023
         ],
         "y": [
          81000,
          86800,
          95000,
          111500,
          115000,
          124800,
          126800,
          120000,
          126000,
          127000,
          132000,
          138000,
          144100,
          145800,
          153000,
          165300,
          172900,
          179000,
          190100,
          198800,
          228800,
          243600,
          247700,
          257400,
          235300,
          220900,
          224300,
          228100,
          251700,
          273600,
          298900,
          302500,
          310900,
          337900,
          331800,
          327100,
          338600,
          414000,
          442600,
          435400
         ]
        },
        {
         "marker": {
          "color": "blue"
         },
         "mode": "lines+markers",
         "name": "Median Household Income",
         "type": "scatter",
         "x": [
          1984,
          1985,
          1986,
          1987,
          1988,
          1989,
          1990,
          1991,
          1992,
          1993,
          1994,
          1995,
          1996,
          1997,
          1998,
          1999,
          2000,
          2001,
          2002,
          2003,
          2004,
          2005,
          2006,
          2007,
          2008,
          2009,
          2010,
          2011,
          2012,
          2013,
          2014,
          2015,
          2016,
          2017,
          2018,
          2019,
          2020,
          2021,
          2022,
          2023
         ],
         "y": [
          58930,
          60050,
          62280,
          63060,
          63530,
          64610,
          63830,
          61960,
          61450,
          61150,
          61800,
          63770,
          64710,
          66050,
          68470,
          70210,
          70020,
          68870,
          68310,
          68350,
          68250,
          69310,
          70080,
          71210,
          68780,
          68340,
          66730,
          65750,
          65740,
          68220,
          67360,
          71000,
          73520,
          74810,
          75790,
          81210,
          79560,
          79260,
          77540,
          80610
         ]
        },
        {
         "marker": {
          "color": "red"
         },
         "mode": "lines+markers",
         "name": "Inflation Rate",
         "type": "scatter",
         "x": [
          1984,
          1985,
          1986,
          1987,
          1988,
          1989,
          1990,
          1991,
          1992,
          1993,
          1994,
          1995,
          1996,
          1997,
          1998,
          1999,
          2000,
          2001,
          2002,
          2003,
          2004,
          2005,
          2006,
          2007,
          2008,
          2009,
          2010,
          2011,
          2012,
          2013,
          2014,
          2015,
          2016,
          2017,
          2018,
          2019,
          2020,
          2021,
          2022,
          2023
         ],
         "y": [
          0.039,
          0.038,
          0.011000000000000001,
          0.044000000000000004,
          0.044000000000000004,
          0.046,
          0.061,
          0.031,
          0.028999999999999998,
          0.027000000000000003,
          0.027000000000000003,
          0.025,
          0.033,
          0.017,
          0.016,
          0.027000000000000003,
          0.034,
          0.016,
          0.024,
          0.019,
          0.033,
          0.034,
          0.025,
          0.040999999999999995,
          0.001,
          0.027000000000000003,
          0.015,
          0.03,
          0.017,
          0.015,
          0.008,
          0.006999999999999999,
          0.021,
          0.021,
          0.019,
          0.023,
          0.013999999999999999,
          0.07,
          0.065,
          0.034
         ],
         "yaxis": "y2"
        }
       ],
       "layout": {
        "height": 600,
        "legend": {
         "bordercolor": "Black",
         "borderwidth": 1,
         "orientation": "h",
         "x": 0.5,
         "xanchor": "center",
         "y": 1.1,
         "yanchor": "top"
        },
        "plot_bgcolor": "white",
        "template": {
         "data": {
          "bar": [
           {
            "error_x": {
             "color": "#2a3f5f"
            },
            "error_y": {
             "color": "#2a3f5f"
            },
            "marker": {
             "line": {
              "color": "#E5ECF6",
              "width": 0.5
             },
             "pattern": {
              "fillmode": "overlay",
              "size": 10,
              "solidity": 0.2
             }
            },
            "type": "bar"
           }
          ],
          "barpolar": [
           {
            "marker": {
             "line": {
              "color": "#E5ECF6",
              "width": 0.5
             },
             "pattern": {
              "fillmode": "overlay",
              "size": 10,
              "solidity": 0.2
             }
            },
            "type": "barpolar"
           }
          ],
          "carpet": [
           {
            "aaxis": {
             "endlinecolor": "#2a3f5f",
             "gridcolor": "white",
             "linecolor": "white",
             "minorgridcolor": "white",
             "startlinecolor": "#2a3f5f"
            },
            "baxis": {
             "endlinecolor": "#2a3f5f",
             "gridcolor": "white",
             "linecolor": "white",
             "minorgridcolor": "white",
             "startlinecolor": "#2a3f5f"
            },
            "type": "carpet"
           }
          ],
          "choropleth": [
           {
            "colorbar": {
             "outlinewidth": 0,
             "ticks": ""
            },
            "type": "choropleth"
           }
          ],
          "contour": [
           {
            "colorbar": {
             "outlinewidth": 0,
             "ticks": ""
            },
            "colorscale": [
             [
              0,
              "#0d0887"
             ],
             [
              0.1111111111111111,
              "#46039f"
             ],
             [
              0.2222222222222222,
              "#7201a8"
             ],
             [
              0.3333333333333333,
              "#9c179e"
             ],
             [
              0.4444444444444444,
              "#bd3786"
             ],
             [
              0.5555555555555556,
              "#d8576b"
             ],
             [
              0.6666666666666666,
              "#ed7953"
             ],
             [
              0.7777777777777778,
              "#fb9f3a"
             ],
             [
              0.8888888888888888,
              "#fdca26"
             ],
             [
              1,
              "#f0f921"
             ]
            ],
            "type": "contour"
           }
          ],
          "contourcarpet": [
           {
            "colorbar": {
             "outlinewidth": 0,
             "ticks": ""
            },
            "type": "contourcarpet"
           }
          ],
          "heatmap": [
           {
            "colorbar": {
             "outlinewidth": 0,
             "ticks": ""
            },
            "colorscale": [
             [
              0,
              "#0d0887"
             ],
             [
              0.1111111111111111,
              "#46039f"
             ],
             [
              0.2222222222222222,
              "#7201a8"
             ],
             [
              0.3333333333333333,
              "#9c179e"
             ],
             [
              0.4444444444444444,
              "#bd3786"
             ],
             [
              0.5555555555555556,
              "#d8576b"
             ],
             [
              0.6666666666666666,
              "#ed7953"
             ],
             [
              0.7777777777777778,
              "#fb9f3a"
             ],
             [
              0.8888888888888888,
              "#fdca26"
             ],
             [
              1,
              "#f0f921"
             ]
            ],
            "type": "heatmap"
           }
          ],
          "heatmapgl": [
           {
            "colorbar": {
             "outlinewidth": 0,
             "ticks": ""
            },
            "colorscale": [
             [
              0,
              "#0d0887"
             ],
             [
              0.1111111111111111,
              "#46039f"
             ],
             [
              0.2222222222222222,
              "#7201a8"
             ],
             [
              0.3333333333333333,
              "#9c179e"
             ],
             [
              0.4444444444444444,
              "#bd3786"
             ],
             [
              0.5555555555555556,
              "#d8576b"
             ],
             [
              0.6666666666666666,
              "#ed7953"
             ],
             [
              0.7777777777777778,
              "#fb9f3a"
             ],
             [
              0.8888888888888888,
              "#fdca26"
             ],
             [
              1,
              "#f0f921"
             ]
            ],
            "type": "heatmapgl"
           }
          ],
          "histogram": [
           {
            "marker": {
             "pattern": {
              "fillmode": "overlay",
              "size": 10,
              "solidity": 0.2
             }
            },
            "type": "histogram"
           }
          ],
          "histogram2d": [
           {
            "colorbar": {
             "outlinewidth": 0,
             "ticks": ""
            },
            "colorscale": [
             [
              0,
              "#0d0887"
             ],
             [
              0.1111111111111111,
              "#46039f"
             ],
             [
              0.2222222222222222,
              "#7201a8"
             ],
             [
              0.3333333333333333,
              "#9c179e"
             ],
             [
              0.4444444444444444,
              "#bd3786"
             ],
             [
              0.5555555555555556,
              "#d8576b"
             ],
             [
              0.6666666666666666,
              "#ed7953"
             ],
             [
              0.7777777777777778,
              "#fb9f3a"
             ],
             [
              0.8888888888888888,
              "#fdca26"
             ],
             [
              1,
              "#f0f921"
             ]
            ],
            "type": "histogram2d"
           }
          ],
          "histogram2dcontour": [
           {
            "colorbar": {
             "outlinewidth": 0,
             "ticks": ""
            },
            "colorscale": [
             [
              0,
              "#0d0887"
             ],
             [
              0.1111111111111111,
              "#46039f"
             ],
             [
              0.2222222222222222,
              "#7201a8"
             ],
             [
              0.3333333333333333,
              "#9c179e"
             ],
             [
              0.4444444444444444,
              "#bd3786"
             ],
             [
              0.5555555555555556,
              "#d8576b"
             ],
             [
              0.6666666666666666,
              "#ed7953"
             ],
             [
              0.7777777777777778,
              "#fb9f3a"
             ],
             [
              0.8888888888888888,
              "#fdca26"
             ],
             [
              1,
              "#f0f921"
             ]
            ],
            "type": "histogram2dcontour"
           }
          ],
          "mesh3d": [
           {
            "colorbar": {
             "outlinewidth": 0,
             "ticks": ""
            },
            "type": "mesh3d"
           }
          ],
          "parcoords": [
           {
            "line": {
             "colorbar": {
              "outlinewidth": 0,
              "ticks": ""
             }
            },
            "type": "parcoords"
           }
          ],
          "pie": [
           {
            "automargin": true,
            "type": "pie"
           }
          ],
          "scatter": [
           {
            "fillpattern": {
             "fillmode": "overlay",
             "size": 10,
             "solidity": 0.2
            },
            "type": "scatter"
           }
          ],
          "scatter3d": [
           {
            "line": {
             "colorbar": {
              "outlinewidth": 0,
              "ticks": ""
             }
            },
            "marker": {
             "colorbar": {
              "outlinewidth": 0,
              "ticks": ""
             }
            },
            "type": "scatter3d"
           }
          ],
          "scattercarpet": [
           {
            "marker": {
             "colorbar": {
              "outlinewidth": 0,
              "ticks": ""
             }
            },
            "type": "scattercarpet"
           }
          ],
          "scattergeo": [
           {
            "marker": {
             "colorbar": {
              "outlinewidth": 0,
              "ticks": ""
             }
            },
            "type": "scattergeo"
           }
          ],
          "scattergl": [
           {
            "marker": {
             "colorbar": {
              "outlinewidth": 0,
              "ticks": ""
             }
            },
            "type": "scattergl"
           }
          ],
          "scattermapbox": [
           {
            "marker": {
             "colorbar": {
              "outlinewidth": 0,
              "ticks": ""
             }
            },
            "type": "scattermapbox"
           }
          ],
          "scatterpolar": [
           {
            "marker": {
             "colorbar": {
              "outlinewidth": 0,
              "ticks": ""
             }
            },
            "type": "scatterpolar"
           }
          ],
          "scatterpolargl": [
           {
            "marker": {
             "colorbar": {
              "outlinewidth": 0,
              "ticks": ""
             }
            },
            "type": "scatterpolargl"
           }
          ],
          "scatterternary": [
           {
            "marker": {
             "colorbar": {
              "outlinewidth": 0,
              "ticks": ""
             }
            },
            "type": "scatterternary"
           }
          ],
          "surface": [
           {
            "colorbar": {
             "outlinewidth": 0,
             "ticks": ""
            },
            "colorscale": [
             [
              0,
              "#0d0887"
             ],
             [
              0.1111111111111111,
              "#46039f"
             ],
             [
              0.2222222222222222,
              "#7201a8"
             ],
             [
              0.3333333333333333,
              "#9c179e"
             ],
             [
              0.4444444444444444,
              "#bd3786"
             ],
             [
              0.5555555555555556,
              "#d8576b"
             ],
             [
              0.6666666666666666,
              "#ed7953"
             ],
             [
              0.7777777777777778,
              "#fb9f3a"
             ],
             [
              0.8888888888888888,
              "#fdca26"
             ],
             [
              1,
              "#f0f921"
             ]
            ],
            "type": "surface"
           }
          ],
          "table": [
           {
            "cells": {
             "fill": {
              "color": "#EBF0F8"
             },
             "line": {
              "color": "white"
             }
            },
            "header": {
             "fill": {
              "color": "#C8D4E3"
             },
             "line": {
              "color": "white"
             }
            },
            "type": "table"
           }
          ]
         },
         "layout": {
          "annotationdefaults": {
           "arrowcolor": "#2a3f5f",
           "arrowhead": 0,
           "arrowwidth": 1
          },
          "autotypenumbers": "strict",
          "coloraxis": {
           "colorbar": {
            "outlinewidth": 0,
            "ticks": ""
           }
          },
          "colorscale": {
           "diverging": [
            [
             0,
             "#8e0152"
            ],
            [
             0.1,
             "#c51b7d"
            ],
            [
             0.2,
             "#de77ae"
            ],
            [
             0.3,
             "#f1b6da"
            ],
            [
             0.4,
             "#fde0ef"
            ],
            [
             0.5,
             "#f7f7f7"
            ],
            [
             0.6,
             "#e6f5d0"
            ],
            [
             0.7,
             "#b8e186"
            ],
            [
             0.8,
             "#7fbc41"
            ],
            [
             0.9,
             "#4d9221"
            ],
            [
             1,
             "#276419"
            ]
           ],
           "sequential": [
            [
             0,
             "#0d0887"
            ],
            [
             0.1111111111111111,
             "#46039f"
            ],
            [
             0.2222222222222222,
             "#7201a8"
            ],
            [
             0.3333333333333333,
             "#9c179e"
            ],
            [
             0.4444444444444444,
             "#bd3786"
            ],
            [
             0.5555555555555556,
             "#d8576b"
            ],
            [
             0.6666666666666666,
             "#ed7953"
            ],
            [
             0.7777777777777778,
             "#fb9f3a"
            ],
            [
             0.8888888888888888,
             "#fdca26"
            ],
            [
             1,
             "#f0f921"
            ]
           ],
           "sequentialminus": [
            [
             0,
             "#0d0887"
            ],
            [
             0.1111111111111111,
             "#46039f"
            ],
            [
             0.2222222222222222,
             "#7201a8"
            ],
            [
             0.3333333333333333,
             "#9c179e"
            ],
            [
             0.4444444444444444,
             "#bd3786"
            ],
            [
             0.5555555555555556,
             "#d8576b"
            ],
            [
             0.6666666666666666,
             "#ed7953"
            ],
            [
             0.7777777777777778,
             "#fb9f3a"
            ],
            [
             0.8888888888888888,
             "#fdca26"
            ],
            [
             1,
             "#f0f921"
            ]
           ]
          },
          "colorway": [
           "#636efa",
           "#EF553B",
           "#00cc96",
           "#ab63fa",
           "#FFA15A",
           "#19d3f3",
           "#FF6692",
           "#B6E880",
           "#FF97FF",
           "#FECB52"
          ],
          "font": {
           "color": "#2a3f5f"
          },
          "geo": {
           "bgcolor": "white",
           "lakecolor": "white",
           "landcolor": "#E5ECF6",
           "showlakes": true,
           "showland": true,
           "subunitcolor": "white"
          },
          "hoverlabel": {
           "align": "left"
          },
          "hovermode": "closest",
          "mapbox": {
           "style": "light"
          },
          "paper_bgcolor": "white",
          "plot_bgcolor": "#E5ECF6",
          "polar": {
           "angularaxis": {
            "gridcolor": "white",
            "linecolor": "white",
            "ticks": ""
           },
           "bgcolor": "#E5ECF6",
           "radialaxis": {
            "gridcolor": "white",
            "linecolor": "white",
            "ticks": ""
           }
          },
          "scene": {
           "xaxis": {
            "backgroundcolor": "#E5ECF6",
            "gridcolor": "white",
            "gridwidth": 2,
            "linecolor": "white",
            "showbackground": true,
            "ticks": "",
            "zerolinecolor": "white"
           },
           "yaxis": {
            "backgroundcolor": "#E5ECF6",
            "gridcolor": "white",
            "gridwidth": 2,
            "linecolor": "white",
            "showbackground": true,
            "ticks": "",
            "zerolinecolor": "white"
           },
           "zaxis": {
            "backgroundcolor": "#E5ECF6",
            "gridcolor": "white",
            "gridwidth": 2,
            "linecolor": "white",
            "showbackground": true,
            "ticks": "",
            "zerolinecolor": "white"
           }
          },
          "shapedefaults": {
           "line": {
            "color": "#2a3f5f"
           }
          },
          "ternary": {
           "aaxis": {
            "gridcolor": "white",
            "linecolor": "white",
            "ticks": ""
           },
           "baxis": {
            "gridcolor": "white",
            "linecolor": "white",
            "ticks": ""
           },
           "bgcolor": "#E5ECF6",
           "caxis": {
            "gridcolor": "white",
            "linecolor": "white",
            "ticks": ""
           }
          },
          "title": {
           "x": 0.05
          },
          "xaxis": {
           "automargin": true,
           "gridcolor": "white",
           "linecolor": "white",
           "ticks": "",
           "title": {
            "standoff": 15
           },
           "zerolinecolor": "white",
           "zerolinewidth": 2
          },
          "yaxis": {
           "automargin": true,
           "gridcolor": "white",
           "linecolor": "white",
           "ticks": "",
           "title": {
            "standoff": 15
           },
           "zerolinecolor": "white",
           "zerolinewidth": 2
          }
         }
        },
        "title": {
         "font": {
          "family": "Arial, bold",
          "size": 20
         },
         "text": "Median House Price, Median Household Income, and Inflation Rate Comparison",
         "x": 0.5
        },
        "width": 1200,
        "xaxis": {
         "dtick": 1,
         "range": [
          1983,
          2024
         ],
         "tickangle": -90,
         "title": {
          "text": "Year"
         },
         "type": "linear"
        },
        "yaxis": {
         "autorange": true,
         "range": [
          0,
          465894.7368421053
         ],
         "side": "left",
         "tickformat": "$,.0f",
         "title": {
          "text": "Median House Price & Household Income $"
         },
         "type": "linear"
        },
        "yaxis2": {
         "autorange": true,
         "overlaying": "y",
         "range": [
          -0.0036093117408906887,
          0.0746093117408907
         ],
         "side": "right",
         "tickformat": ".2%",
         "title": {
          "text": "Inflation Rate"
         },
         "type": "linear"
        }
       }
      },
      "image/png": "[encoded data removed]",
      "text/html": [
       "<div>                            <div id=\"26b907c7-6272-440c-a939-a8cd923754ae\" class=\"plotly-graph-div\" style=\"height:600px; width:1200px;\"></div>            <script type=\"text/javascript\">                require([\"plotly\"], function(Plotly) {                    window.PLOTLYENV=window.PLOTLYENV || {};                                    if (document.getElementById(\"26b907c7-6272-440c-a939-a8cd923754ae\")) {                    Plotly.newPlot(                        \"26b907c7-6272-440c-a939-a8cd923754ae\",                        [{\"marker\":{\"color\":\"lightgreen\"},\"name\":\"Median House Price\",\"x\":[1984,1985,1986,1987,1988,1989,1990,1991,1992,1993,1994,1995,1996,1997,1998,1999,2000,2001,2002,2003,2004,2005,2006,2007,2008,2009,2010,2011,2012,2013,2014,2015,2016,2017,2018,2019,2020,2021,2022,2023],\"y\":[81000.0,86800.0,95000.0,111500.0,115000.0,124800.0,126800.0,120000.0,126000.0,127000.0,132000.0,138000.0,144100.0,145800.0,153000.0,165300.0,172900.0,179000.0,190100.0,198800.0,228800.0,243600.0,247700.0,257400.0,235300.0,220900.0,224300.0,228100.0,251700.0,273600.0,298900.0,302500.0,310900.0,337900.0,331800.0,327100.0,338600.0,414000.0,442600.0,435400.0],\"type\":\"bar\"},{\"marker\":{\"color\":\"blue\"},\"mode\":\"lines+markers\",\"name\":\"Median Household Income\",\"x\":[1984,1985,1986,1987,1988,1989,1990,1991,1992,1993,1994,1995,1996,1997,1998,1999,2000,2001,2002,2003,2004,2005,2006,2007,2008,2009,2010,2011,2012,2013,2014,2015,2016,2017,2018,2019,2020,2021,2022,2023],\"y\":[58930.0,60050.0,62280.0,63060.0,63530.0,64610.0,63830.0,61960.0,61450.0,61150.0,61800.0,63770.0,64710.0,66050.0,68470.0,70210.0,70020.0,68870.0,68310.0,68350.0,68250.0,69310.0,70080.0,71210.0,68780.0,68340.0,66730.0,65750.0,65740.0,68220.0,67360.0,71000.0,73520.0,74810.0,75790.0,81210.0,79560.0,79260.0,77540.0,80610.0],\"type\":\"scatter\"},{\"marker\":{\"color\":\"red\"},\"mode\":\"lines+markers\",\"name\":\"Inflation Rate\",\"x\":[1984,1985,1986,1987,1988,1989,1990,1991,1992,1993,1994,1995,1996,1997,1998,1999,2000,2001,2002,2003,2004,2005,2006,2007,2008,2009,2010,2011,2012,2013,2014,2015,2016,2017,2018,2019,2020,2021,2022,2023],\"y\":[0.039,0.038,0.011000000000000001,0.044000000000000004,0.044000000000000004,0.046,0.061,0.031,0.028999999999999998,0.027000000000000003,0.027000000000000003,0.025,0.033,0.017,0.016,0.027000000000000003,0.034,0.016,0.024,0.019,0.033,0.034,0.025,0.040999999999999995,0.001,0.027000000000000003,0.015,0.03,0.017,0.015,0.008,0.006999999999999999,0.021,0.021,0.019,0.023,0.013999999999999999,0.07,0.065,0.034],\"yaxis\":\"y2\",\"type\":\"scatter\"}],                        {\"height\":600,\"legend\":{\"bordercolor\":\"Black\",\"borderwidth\":1,\"orientation\":\"h\",\"x\":0.5,\"xanchor\":\"center\",\"y\":1.1,\"yanchor\":\"top\"},\"plot_bgcolor\":\"white\",\"title\":{\"font\":{\"family\":\"Arial, bold\",\"size\":20},\"text\":\"Median House Price, Median Household Income, and Inflation Rate Comparison\",\"x\":0.5},\"width\":1200,\"xaxis\":{\"dtick\":1,\"range\":[1983,2024],\"tickangle\":-90,\"title\":{\"text\":\"Year\"}},\"yaxis\":{\"side\":\"left\",\"tickformat\":\"$,.0f\",\"title\":{\"text\":\"Median House Price & Household Income $\"}},\"yaxis2\":{\"overlaying\":\"y\",\"side\":\"right\",\"tickformat\":\".2%\",\"title\":{\"text\":\"Inflation Rate\"}},\"template\":{\"data\":{\"histogram2dcontour\":[{\"type\":\"histogram2dcontour\",\"colorbar\":{\"outlinewidth\":0,\"ticks\":\"\"},\"colorscale\":[[0.0,\"#0d0887\"],[0.1111111111111111,\"#46039f\"],[0.2222222222222222,\"#7201a8\"],[0.3333333333333333,\"#9c179e\"],[0.4444444444444444,\"#bd3786\"],[0.5555555555555556,\"#d8576b\"],[0.6666666666666666,\"#ed7953\"],[0.7777777777777778,\"#fb9f3a\"],[0.8888888888888888,\"#fdca26\"],[1.0,\"#f0f921\"]]}],\"choropleth\":[{\"type\":\"choropleth\",\"colorbar\":{\"outlinewidth\":0,\"ticks\":\"\"}}],\"histogram2d\":[{\"type\":\"histogram2d\",\"colorbar\":{\"outlinewidth\":0,\"ticks\":\"\"},\"colorscale\":[[0.0,\"#0d0887\"],[0.1111111111111111,\"#46039f\"],[0.2222222222222222,\"#7201a8\"],[0.3333333333333333,\"#9c179e\"],[0.4444444444444444,\"#bd3786\"],[0.5555555555555556,\"#d8576b\"],[0.6666666666666666,\"#ed7953\"],[0.7777777777777778,\"#fb9f3a\"],[0.8888888888888888,\"#fdca26\"],[1.0,\"#f0f921\"]]}],\"heatmap\":[{\"type\":\"heatmap\",\"colorbar\":{\"outlinewidth\":0,\"ticks\":\"\"},\"colorscale\":[[0.0,\"#0d0887\"],[0.1111111111111111,\"#46039f\"],[0.2222222222222222,\"#7201a8\"],[0.3333333333333333,\"#9c179e\"],[0.4444444444444444,\"#bd3786\"],[0.5555555555555556,\"#d8576b\"],[0.6666666666666666,\"#ed7953\"],[0.7777777777777778,\"#fb9f3a\"],[0.8888888888888888,\"#fdca26\"],[1.0,\"#f0f921\"]]}],\"heatmapgl\":[{\"type\":\"heatmapgl\",\"colorbar\":{\"outlinewidth\":0,\"ticks\":\"\"},\"colorscale\":[[0.0,\"#0d0887\"],[0.1111111111111111,\"#46039f\"],[0.2222222222222222,\"#7201a8\"],[0.3333333333333333,\"#9c179e\"],[0.4444444444444444,\"#bd3786\"],[0.5555555555555556,\"#d8576b\"],[0.6666666666666666,\"#ed7953\"],[0.7777777777777778,\"#fb9f3a\"],[0.8888888888888888,\"#fdca26\"],[1.0,\"#f0f921\"]]}],\"contourcarpet\":[{\"type\":\"contourcarpet\",\"colorbar\":{\"outlinewidth\":0,\"ticks\":\"\"}}],\"contour\":[{\"type\":\"contour\",\"colorbar\":{\"outlinewidth\":0,\"ticks\":\"\"},\"colorscale\":[[0.0,\"#0d0887\"],[0.1111111111111111,\"#46039f\"],[0.2222222222222222,\"#7201a8\"],[0.3333333333333333,\"#9c179e\"],[0.4444444444444444,\"#bd3786\"],[0.5555555555555556,\"#d8576b\"],[0.6666666666666666,\"#ed7953\"],[0.7777777777777778,\"#fb9f3a\"],[0.8888888888888888,\"#fdca26\"],[1.0,\"#f0f921\"]]}],\"surface\":[{\"type\":\"surface\",\"colorbar\":{\"outlinewidth\":0,\"ticks\":\"\"},\"colorscale\":[[0.0,\"#0d0887\"],[0.1111111111111111,\"#46039f\"],[0.2222222222222222,\"#7201a8\"],[0.3333333333333333,\"#9c179e\"],[0.4444444444444444,\"#bd3786\"],[0.5555555555555556,\"#d8576b\"],[0.6666666666666666,\"#ed7953\"],[0.7777777777777778,\"#fb9f3a\"],[0.8888888888888888,\"#fdca26\"],[1.0,\"#f0f921\"]]}],\"mesh3d\":[{\"type\":\"mesh3d\",\"colorbar\":{\"outlinewidth\":0,\"ticks\":\"\"}}],\"scatter\":[{\"fillpattern\":{\"fillmode\":\"overlay\",\"size\":10,\"solidity\":0.2},\"type\":\"scatter\"}],\"parcoords\":[{\"type\":\"parcoords\",\"line\":{\"colorbar\":{\"outlinewidth\":0,\"ticks\":\"\"}}}],\"scatterpolargl\":[{\"type\":\"scatterpolargl\",\"marker\":{\"colorbar\":{\"outlinewidth\":0,\"ticks\":\"\"}}}],\"bar\":[{\"error_x\":{\"color\":\"#2a3f5f\"},\"error_y\":{\"color\":\"#2a3f5f\"},\"marker\":{\"line\":{\"color\":\"#E5ECF6\",\"width\":0.5},\"pattern\":{\"fillmode\":\"overlay\",\"size\":10,\"solidity\":0.2}},\"type\":\"bar\"}],\"scattergeo\":[{\"type\":\"scattergeo\",\"marker\":{\"colorbar\":{\"outlinewidth\":0,\"ticks\":\"\"}}}],\"scatterpolar\":[{\"type\":\"scatterpolar\",\"marker\":{\"colorbar\":{\"outlinewidth\":0,\"ticks\":\"\"}}}],\"histogram\":[{\"marker\":{\"pattern\":{\"fillmode\":\"overlay\",\"size\":10,\"solidity\":0.2}},\"type\":\"histogram\"}],\"scattergl\":[{\"type\":\"scattergl\",\"marker\":{\"colorbar\":{\"outlinewidth\":0,\"ticks\":\"\"}}}],\"scatter3d\":[{\"type\":\"scatter3d\",\"line\":{\"colorbar\":{\"outlinewidth\":0,\"ticks\":\"\"}},\"marker\":{\"colorbar\":{\"outlinewidth\":0,\"ticks\":\"\"}}}],\"scattermapbox\":[{\"type\":\"scattermapbox\",\"marker\":{\"colorbar\":{\"outlinewidth\":0,\"ticks\":\"\"}}}],\"scatterternary\":[{\"type\":\"scatterternary\",\"marker\":{\"colorbar\":{\"outlinewidth\":0,\"ticks\":\"\"}}}],\"scattercarpet\":[{\"type\":\"scattercarpet\",\"marker\":{\"colorbar\":{\"outlinewidth\":0,\"ticks\":\"\"}}}],\"carpet\":[{\"aaxis\":{\"endlinecolor\":\"#2a3f5f\",\"gridcolor\":\"white\",\"linecolor\":\"white\",\"minorgridcolor\":\"white\",\"startlinecolor\":\"#2a3f5f\"},\"baxis\":{\"endlinecolor\":\"#2a3f5f\",\"gridcolor\":\"white\",\"linecolor\":\"white\",\"minorgridcolor\":\"white\",\"startlinecolor\":\"#2a3f5f\"},\"type\":\"carpet\"}],\"table\":[{\"cells\":{\"fill\":{\"color\":\"#EBF0F8\"},\"line\":{\"color\":\"white\"}},\"header\":{\"fill\":{\"color\":\"#C8D4E3\"},\"line\":{\"color\":\"white\"}},\"type\":\"table\"}],\"barpolar\":[{\"marker\":{\"line\":{\"color\":\"#E5ECF6\",\"width\":0.5},\"pattern\":{\"fillmode\":\"overlay\",\"size\":10,\"solidity\":0.2}},\"type\":\"barpolar\"}],\"pie\":[{\"automargin\":true,\"type\":\"pie\"}]},\"layout\":{\"autotypenumbers\":\"strict\",\"colorway\":[\"#636efa\",\"#EF553B\",\"#00cc96\",\"#ab63fa\",\"#FFA15A\",\"#19d3f3\",\"#FF6692\",\"#B6E880\",\"#FF97FF\",\"#FECB52\"],\"font\":{\"color\":\"#2a3f5f\"},\"hovermode\":\"closest\",\"hoverlabel\":{\"align\":\"left\"},\"paper_bgcolor\":\"white\",\"plot_bgcolor\":\"#E5ECF6\",\"polar\":{\"bgcolor\":\"#E5ECF6\",\"angularaxis\":{\"gridcolor\":\"white\",\"linecolor\":\"white\",\"ticks\":\"\"},\"radialaxis\":{\"gridcolor\":\"white\",\"linecolor\":\"white\",\"ticks\":\"\"}},\"ternary\":{\"bgcolor\":\"#E5ECF6\",\"aaxis\":{\"gridcolor\":\"white\",\"linecolor\":\"white\",\"ticks\":\"\"},\"baxis\":{\"gridcolor\":\"white\",\"linecolor\":\"white\",\"ticks\":\"\"},\"caxis\":{\"gridcolor\":\"white\",\"linecolor\":\"white\",\"ticks\":\"\"}},\"coloraxis\":{\"colorbar\":{\"outlinewidth\":0,\"ticks\":\"\"}},\"colorscale\":{\"sequential\":[[0.0,\"#0d0887\"],[0.1111111111111111,\"#46039f\"],[0.2222222222222222,\"#7201a8\"],[0.3333333333333333,\"#9c179e\"],[0.4444444444444444,\"#bd3786\"],[0.5555555555555556,\"#d8576b\"],[0.6666666666666666,\"#ed7953\"],[0.7777777777777778,\"#fb9f3a\"],[0.8888888888888888,\"#fdca26\"],[1.0,\"#f0f921\"]],\"sequentialminus\":[[0.0,\"#0d0887\"],[0.1111111111111111,\"#46039f\"],[0.2222222222222222,\"#7201a8\"],[0.3333333333333333,\"#9c179e\"],[0.4444444444444444,\"#bd3786\"],[0.5555555555555556,\"#d8576b\"],[0.6666666666666666,\"#ed7953\"],[0.7777777777777778,\"#fb9f3a\"],[0.8888888888888888,\"#fdca26\"],[1.0,\"#f0f921\"]],\"diverging\":[[0,\"#8e0152\"],[0.1,\"#c51b7d\"],[0.2,\"#de77ae\"],[0.3,\"#f1b6da\"],[0.4,\"#fde0ef\"],[0.5,\"#f7f7f7\"],[0.6,\"#e6f5d0\"],[0.7,\"#b8e186\"],[0.8,\"#7fbc41\"],[0.9,\"#4d9221\"],[1,\"#276419\"]]},\"xaxis\":{\"gridcolor\":\"white\",\"linecolor\":\"white\",\"ticks\":\"\",\"title\":{\"standoff\":15},\"zerolinecolor\":\"white\",\"automargin\":true,\"zerolinewidth\":2},\"yaxis\":{\"gridcolor\":\"white\",\"linecolor\":\"white\",\"ticks\":\"\",\"title\":{\"standoff\":15},\"zerolinecolor\":\"white\",\"automargin\":true,\"zerolinewidth\":2},\"scene\":{\"xaxis\":{\"backgroundcolor\":\"#E5ECF6\",\"gridcolor\":\"white\",\"linecolor\":\"white\",\"showbackground\":true,\"ticks\":\"\",\"zerolinecolor\":\"white\",\"gridwidth\":2},\"yaxis\":{\"backgroundcolor\":\"#E5ECF6\",\"gridcolor\":\"white\",\"linecolor\":\"white\",\"showbackground\":true,\"ticks\":\"\",\"zerolinecolor\":\"white\",\"gridwidth\":2},\"zaxis\":{\"backgroundcolor\":\"#E5ECF6\",\"gridcolor\":\"white\",\"linecolor\":\"white\",\"showbackground\":true,\"ticks\":\"\",\"zerolinecolor\":\"white\",\"gridwidth\":2}},\"shapedefaults\":{\"line\":{\"color\":\"#2a3f5f\"}},\"annotationdefaults\":{\"arrowcolor\":\"#2a3f5f\",\"arrowhead\":0,\"arrowwidth\":1},\"geo\":{\"bgcolor\":\"white\",\"landcolor\":\"#E5ECF6\",\"subunitcolor\":\"white\",\"showland\":true,\"showlakes\":true,\"lakecolor\":\"white\"},\"title\":{\"x\":0.05},\"mapbox\":{\"style\":\"light\"}}}},                        {\"responsive\": true}                    ).then(function(){\n",
       "                            \n",
       "var gd = document.getElementById('26b907c7-6272-440c-a939-a8cd923754ae');\n",
       "var x = new MutationObserver(function (mutations, observer) {{\n",
       "        var display = window.getComputedStyle(gd).display;\n",
       "        if (!display || display === 'none') {{\n",
       "            console.log([gd, 'removed!']);\n",
       "            Plotly.purge(gd);\n",
       "            observer.disconnect();\n",
       "        }}\n",
       "}});\n",
       "\n",
       "// Listen for the removal of the full notebook cells\n",
       "var notebookContainer = gd.closest('#notebook-container');\n",
       "if (notebookContainer) {{\n",
       "    x.observe(notebookContainer, {childList: true});\n",
       "}}\n",
       "\n",
       "// Listen for the clearing of the current output cell\n",
       "var outputEl = gd.closest('.output');\n",
       "if (outputEl) {{\n",
       "    x.observe(outputEl, {childList: true});\n",
       "}}\n",
       "\n",
       "                        })                };                });            </script>        </div>"
      ]
     },
     "metadata": {},
     "output_type": "display_data"
    }
   ],
   "source": [
    "# Create the bar chart for Median House Price\n",
    "bar_chart = go.Bar(x = combined_data_df[\"Year\"],     # x-axis\n",
    "                   y = combined_data_df[\"Median House Price\"],     # y-axis\n",
    "                   name = \"Median House Price\",     # bar_chart legend title\n",
    "                   marker = dict(color = \"lightgreen\")     # Changes the color of the bars\n",
    "                   )\n",
    "\n",
    "# Create the line chart for Median Household Income\n",
    "income_line_chart = go.Scatter(x = combined_data_df[\"Year\"],     # x-axis\n",
    "                               y = combined_data_df[\"Median Household Income\"],     # y-axis\n",
    "                               name = \"Median Household Income\",     # line_chart legend title\n",
    "                               mode = \"lines+markers\",     # Creates a line chart with markers at each data point\n",
    "                               marker = dict(color = \"blue\"),     # Changes the color of the line\n",
    "                               )\n",
    "\n",
    "# Create the line chart for Inflation Rate\n",
    "inflation_line_chart = go.Scatter(x = combined_data_df[\"Year\"],     # x-axis\n",
    "                                  y = combined_data_df[\"Inflation Rate\"],     # y-axis\n",
    "                                  name = \"Inflation Rate\",     # inflation line chart legend title\n",
    "                                  mode = \"lines+markers\",     # Creates a line chart with markers at each data point\n",
    "                                  marker = dict(color = \"red\"),     # Changes the color of the line\n",
    "                                  yaxis = \"y2\"  # Use a secondary y-axis for inflation\n",
    "                                  )\n",
    "\n",
    "# Create the layout with a secondary y-axis for Inflation Rate\n",
    "layout = go.Layout(title = \"Median House Price, Median Household Income, and Inflation Rate Comparison\",\n",
    "                   xaxis = dict(title = \"Year\", \n",
    "                                tickangle = -90,     # Rotate tick labels to vertical\n",
    "                                dtick = 1,     # Set the increment for x-axis ticks (1 year)\n",
    "                                range = [1983, 2024]),     # Set the beginning and end values for the x-axis range\n",
    "                   plot_bgcolor = \"white\",     # Set plot area background color\n",
    "                   title_x = 0.5,    # Center the title\n",
    "                   title_font = dict(size = 20, family = \"Arial, bold\"),     # Set the title font size and style\n",
    "                   width = 1200,\n",
    "                   height = 600,\n",
    "                   yaxis = dict(title = \"Median House Price & Household Income $\", side = \"left\", tickformat = \"$,.0f\"),     # Format for y-axis\n",
    "                   yaxis2 = dict(title = \"Inflation Rate\", overlaying = \"y\", side = \"right\", tickformat = \".2%\"),  # Secondary y-axis for Inflation Rate\n",
    "                   legend = dict(x = 0.5, y = 1.1,     # Position the legend\n",
    "                                 xanchor = \"center\",     # Center the legend horizontally\n",
    "                                 yanchor = \"top\",     # Anchor the legend to the bottom\n",
    "                                 orientation = \"h\",     # Horizontal orientation\n",
    "                                 bordercolor = \"Black\",     # Border color of the legend\n",
    "                                 borderwidth = 1  # Border width of the legend\n",
    "                                 )\n",
    "                  )\n",
    "\n",
    "# Create the figure with all three charts\n",
    "combo_fig = go.Figure(data = [bar_chart, income_line_chart, inflation_line_chart], layout = layout)\n",
    "\n",
    "# Show the figure\n",
    "combo_fig.show()"
   ]
  },
  {
   "cell_type": "markdown",
   "id": "1e8ebc23-0199-4bd2-a16d-6ee35499b8ef",
   "metadata": {},
   "source": [
    "Graph Analysis:"
   ]
  },
  {
   "cell_type": "markdown",
   "id": "d01cc617-3b3d-44d1-a319-33c408038ea9",
   "metadata": {
    "jp-MarkdownHeadingCollapsed": true
   },
   "source": [
    "### **Create a graph to compare the yearly Median House Price % Increase, vs the yearly Median Household Income % Increase, and the yearly Inflation Rate**"
   ]
  },
  {
   "cell_type": "code",
   "execution_count": 209,
   "id": "f6286b97-adf6-419b-8586-7ee192e48e78",
   "metadata": {},
   "outputs": [
    {
     "data": {
      "application/vnd.plotly.v1+json": {
       "config": {
        "plotlyServerURL": "https://plot.ly"
       },
       "data": [
        {
         "marker": {
          "color": "lightgreen"
         },
         "mode": "lines+markers",
         "name": "Median House Price % Change",
         "type": "scatter",
         "x": [
          1985,
          1986,
          1987,
          1988,
          1989,
          1990,
          1991,
          1992,
          1993,
          1994,
          1995,
          1996,
          1997,
          1998,
          1999,
          2000,
          2001,
          2002,
          2003,
          2004,
          2005,
          2006,
          2007,
          2008,
          2009,
          2010,
          2011,
          2012,
          2013,
          2014,
          2015,
          2016,
          2017,
          2018,
          2019,
          2020,
          2021,
          2022,
          2023
         ],
         "y": [
          0.07160493827160486,
          0.09447004608294929,
          0.17368421052631589,
          0.03139013452914807,
          0.08521739130434791,
          0.01602564102564097,
          -0.05362776025236593,
          0.050000000000000044,
          0.007936507936507908,
          0.03937007874015741,
          0.045454545454545414,
          0.04420289855072457,
          0.01179736294240108,
          0.04938271604938271,
          0.08039215686274503,
          0.04597701149425282,
          0.03528050896471946,
          0.06201117318435756,
          0.04576538663861118,
          0.15090543259557343,
          0.06468531468531458,
          0.016830870279146204,
          0.03916027452563586,
          -0.08585858585858586,
          -0.061198470038249075,
          0.015391579900407404,
          0.016941596076682996,
          0.10346339324857512,
          0.08700834326579265,
          0.09247076023391809,
          0.012044161927065922,
          0.02776859504132223,
          0.08684464458025087,
          -0.018052678307191483,
          -0.014165159734779942,
          0.03515744420666467,
          0.2226816302421737,
          0.06908212560386473,
          -0.016267510167193855
         ]
        },
        {
         "marker": {
          "color": "blue"
         },
         "mode": "lines+markers",
         "name": "Median Household Income % Change",
         "type": "scatter",
         "x": [
          1985,
          1986,
          1987,
          1988,
          1989,
          1990,
          1991,
          1992,
          1993,
          1994,
          1995,
          1996,
          1997,
          1998,
          1999,
          2000,
          2001,
          2002,
          2003,
          2004,
          2005,
          2006,
          2007,
          2008,
          2009,
          2010,
          2011,
          2012,
          2013,
          2014,
          2015,
          2016,
          2017,
          2018,
          2019,
          2020,
          2021,
          2022,
          2023
         ],
         "y": [
          0.01900559986424577,
          0.03713572023313905,
          0.012524084778420042,
          0.007453219156358992,
          0.016999842594050074,
          -0.012072434607645843,
          -0.029296569011436624,
          -0.008231116849580333,
          -0.004882017900732283,
          0.01062959934587071,
          0.03187702265372172,
          0.01474047357691699,
          0.02070777314170913,
          0.03663890991672969,
          0.025412589455235945,
          -0.0027061672126478253,
          -0.016423878891745236,
          -0.008131261797589606,
          0.0005855658029572108,
          -0.001463057790782707,
          0.01553113553113561,
          0.011109508007502544,
          0.016124429223744352,
          -0.03412442072742594,
          -0.006397208490840356,
          -0.023558677202224154,
          -0.014686048254158535,
          -0.0001520912547529063,
          0.03772436872528151,
          -0.01260627381999413,
          0.05403800475059373,
          0.03549295774647887,
          0.017546245919477732,
          0.013099852960834157,
          0.07151339226810927,
          -0.020317694865164437,
          -0.0037707390648566985,
          -0.021700731768862003,
          0.0395924684034048
         ]
        },
        {
         "marker": {
          "color": "red"
         },
         "mode": "lines+markers",
         "name": "Inflation Rate",
         "type": "scatter",
         "x": [
          1985,
          1986,
          1987,
          1988,
          1989,
          1990,
          1991,
          1992,
          1993,
          1994,
          1995,
          1996,
          1997,
          1998,
          1999,
          2000,
          2001,
          2002,
          2003,
          2004,
          2005,
          2006,
          2007,
          2008,
          2009,
          2010,
          2011,
          2012,
          2013,
          2014,
          2015,
          2016,
          2017,
          2018,
          2019,
          2020,
          2021,
          2022,
          2023
         ],
         "y": [
          0.038,
          0.011000000000000001,
          0.044000000000000004,
          0.044000000000000004,
          0.046,
          0.061,
          0.031,
          0.028999999999999998,
          0.027000000000000003,
          0.027000000000000003,
          0.025,
          0.033,
          0.017,
          0.016,
          0.027000000000000003,
          0.034,
          0.016,
          0.024,
          0.019,
          0.033,
          0.034,
          0.025,
          0.040999999999999995,
          0.001,
          0.027000000000000003,
          0.015,
          0.03,
          0.017,
          0.015,
          0.008,
          0.006999999999999999,
          0.021,
          0.021,
          0.019,
          0.023,
          0.013999999999999999,
          0.07,
          0.065,
          0.034
         ]
        }
       ],
       "layout": {
        "height": 600,
        "legend": {
         "bordercolor": "Black",
         "borderwidth": 1,
         "orientation": "h",
         "x": 0.5,
         "xanchor": "center",
         "y": 1.1,
         "yanchor": "top"
        },
        "plot_bgcolor": "white",
        "template": {
         "data": {
          "bar": [
           {
            "error_x": {
             "color": "#2a3f5f"
            },
            "error_y": {
             "color": "#2a3f5f"
            },
            "marker": {
             "line": {
              "color": "#E5ECF6",
              "width": 0.5
             },
             "pattern": {
              "fillmode": "overlay",
              "size": 10,
              "solidity": 0.2
             }
            },
            "type": "bar"
           }
          ],
          "barpolar": [
           {
            "marker": {
             "line": {
              "color": "#E5ECF6",
              "width": 0.5
             },
             "pattern": {
              "fillmode": "overlay",
              "size": 10,
              "solidity": 0.2
             }
            },
            "type": "barpolar"
           }
          ],
          "carpet": [
           {
            "aaxis": {
             "endlinecolor": "#2a3f5f",
             "gridcolor": "white",
             "linecolor": "white",
             "minorgridcolor": "white",
             "startlinecolor": "#2a3f5f"
            },
            "baxis": {
             "endlinecolor": "#2a3f5f",
             "gridcolor": "white",
             "linecolor": "white",
             "minorgridcolor": "white",
             "startlinecolor": "#2a3f5f"
            },
            "type": "carpet"
           }
          ],
          "choropleth": [
           {
            "colorbar": {
             "outlinewidth": 0,
             "ticks": ""
            },
            "type": "choropleth"
           }
          ],
          "contour": [
           {
            "colorbar": {
             "outlinewidth": 0,
             "ticks": ""
            },
            "colorscale": [
             [
              0,
              "#0d0887"
             ],
             [
              0.1111111111111111,
              "#46039f"
             ],
             [
              0.2222222222222222,
              "#7201a8"
             ],
             [
              0.3333333333333333,
              "#9c179e"
             ],
             [
              0.4444444444444444,
              "#bd3786"
             ],
             [
              0.5555555555555556,
              "#d8576b"
             ],
             [
              0.6666666666666666,
              "#ed7953"
             ],
             [
              0.7777777777777778,
              "#fb9f3a"
             ],
             [
              0.8888888888888888,
              "#fdca26"
             ],
             [
              1,
              "#f0f921"
             ]
            ],
            "type": "contour"
           }
          ],
          "contourcarpet": [
           {
            "colorbar": {
             "outlinewidth": 0,
             "ticks": ""
            },
            "type": "contourcarpet"
           }
          ],
          "heatmap": [
           {
            "colorbar": {
             "outlinewidth": 0,
             "ticks": ""
            },
            "colorscale": [
             [
              0,
              "#0d0887"
             ],
             [
              0.1111111111111111,
              "#46039f"
             ],
             [
              0.2222222222222222,
              "#7201a8"
             ],
             [
              0.3333333333333333,
              "#9c179e"
             ],
             [
              0.4444444444444444,
              "#bd3786"
             ],
             [
              0.5555555555555556,
              "#d8576b"
             ],
             [
              0.6666666666666666,
              "#ed7953"
             ],
             [
              0.7777777777777778,
              "#fb9f3a"
             ],
             [
              0.8888888888888888,
              "#fdca26"
             ],
             [
              1,
              "#f0f921"
             ]
            ],
            "type": "heatmap"
           }
          ],
          "heatmapgl": [
           {
            "colorbar": {
             "outlinewidth": 0,
             "ticks": ""
            },
            "colorscale": [
             [
              0,
              "#0d0887"
             ],
             [
              0.1111111111111111,
              "#46039f"
             ],
             [
              0.2222222222222222,
              "#7201a8"
             ],
             [
              0.3333333333333333,
              "#9c179e"
             ],
             [
              0.4444444444444444,
              "#bd3786"
             ],
             [
              0.5555555555555556,
              "#d8576b"
             ],
             [
              0.6666666666666666,
              "#ed7953"
             ],
             [
              0.7777777777777778,
              "#fb9f3a"
             ],
             [
              0.8888888888888888,
              "#fdca26"
             ],
             [
              1,
              "#f0f921"
             ]
            ],
            "type": "heatmapgl"
           }
          ],
          "histogram": [
           {
            "marker": {
             "pattern": {
              "fillmode": "overlay",
              "size": 10,
              "solidity": 0.2
             }
            },
            "type": "histogram"
           }
          ],
          "histogram2d": [
           {
            "colorbar": {
             "outlinewidth": 0,
             "ticks": ""
            },
            "colorscale": [
             [
              0,
              "#0d0887"
             ],
             [
              0.1111111111111111,
              "#46039f"
             ],
             [
              0.2222222222222222,
              "#7201a8"
             ],
             [
              0.3333333333333333,
              "#9c179e"
             ],
             [
              0.4444444444444444,
              "#bd3786"
             ],
             [
              0.5555555555555556,
              "#d8576b"
             ],
             [
              0.6666666666666666,
              "#ed7953"
             ],
             [
              0.7777777777777778,
              "#fb9f3a"
             ],
             [
              0.8888888888888888,
              "#fdca26"
             ],
             [
              1,
              "#f0f921"
             ]
            ],
            "type": "histogram2d"
           }
          ],
          "histogram2dcontour": [
           {
            "colorbar": {
             "outlinewidth": 0,
             "ticks": ""
            },
            "colorscale": [
             [
              0,
              "#0d0887"
             ],
             [
              0.1111111111111111,
              "#46039f"
             ],
             [
              0.2222222222222222,
              "#7201a8"
             ],
             [
              0.3333333333333333,
              "#9c179e"
             ],
             [
              0.4444444444444444,
              "#bd3786"
             ],
             [
              0.5555555555555556,
              "#d8576b"
             ],
             [
              0.6666666666666666,
              "#ed7953"
             ],
             [
              0.7777777777777778,
              "#fb9f3a"
             ],
             [
              0.8888888888888888,
              "#fdca26"
             ],
             [
              1,
              "#f0f921"
             ]
            ],
            "type": "histogram2dcontour"
           }
          ],
          "mesh3d": [
           {
            "colorbar": {
             "outlinewidth": 0,
             "ticks": ""
            },
            "type": "mesh3d"
           }
          ],
          "parcoords": [
           {
            "line": {
             "colorbar": {
              "outlinewidth": 0,
              "ticks": ""
             }
            },
            "type": "parcoords"
           }
          ],
          "pie": [
           {
            "automargin": true,
            "type": "pie"
           }
          ],
          "scatter": [
           {
            "fillpattern": {
             "fillmode": "overlay",
             "size": 10,
             "solidity": 0.2
            },
            "type": "scatter"
           }
          ],
          "scatter3d": [
           {
            "line": {
             "colorbar": {
              "outlinewidth": 0,
              "ticks": ""
             }
            },
            "marker": {
             "colorbar": {
              "outlinewidth": 0,
              "ticks": ""
             }
            },
            "type": "scatter3d"
           }
          ],
          "scattercarpet": [
           {
            "marker": {
             "colorbar": {
              "outlinewidth": 0,
              "ticks": ""
             }
            },
            "type": "scattercarpet"
           }
          ],
          "scattergeo": [
           {
            "marker": {
             "colorbar": {
              "outlinewidth": 0,
              "ticks": ""
             }
            },
            "type": "scattergeo"
           }
          ],
          "scattergl": [
           {
            "marker": {
             "colorbar": {
              "outlinewidth": 0,
              "ticks": ""
             }
            },
            "type": "scattergl"
           }
          ],
          "scattermapbox": [
           {
            "marker": {
             "colorbar": {
              "outlinewidth": 0,
              "ticks": ""
             }
            },
            "type": "scattermapbox"
           }
          ],
          "scatterpolar": [
           {
            "marker": {
             "colorbar": {
              "outlinewidth": 0,
              "ticks": ""
             }
            },
            "type": "scatterpolar"
           }
          ],
          "scatterpolargl": [
           {
            "marker": {
             "colorbar": {
              "outlinewidth": 0,
              "ticks": ""
             }
            },
            "type": "scatterpolargl"
           }
          ],
          "scatterternary": [
           {
            "marker": {
             "colorbar": {
              "outlinewidth": 0,
              "ticks": ""
             }
            },
            "type": "scatterternary"
           }
          ],
          "surface": [
           {
            "colorbar": {
             "outlinewidth": 0,
             "ticks": ""
            },
            "colorscale": [
             [
              0,
              "#0d0887"
             ],
             [
              0.1111111111111111,
              "#46039f"
             ],
             [
              0.2222222222222222,
              "#7201a8"
             ],
             [
              0.3333333333333333,
              "#9c179e"
             ],
             [
              0.4444444444444444,
              "#bd3786"
             ],
             [
              0.5555555555555556,
              "#d8576b"
             ],
             [
              0.6666666666666666,
              "#ed7953"
             ],
             [
              0.7777777777777778,
              "#fb9f3a"
             ],
             [
              0.8888888888888888,
              "#fdca26"
             ],
             [
              1,
              "#f0f921"
             ]
            ],
            "type": "surface"
           }
          ],
          "table": [
           {
            "cells": {
             "fill": {
              "color": "#EBF0F8"
             },
             "line": {
              "color": "white"
             }
            },
            "header": {
             "fill": {
              "color": "#C8D4E3"
             },
             "line": {
              "color": "white"
             }
            },
            "type": "table"
           }
          ]
         },
         "layout": {
          "annotationdefaults": {
           "arrowcolor": "#2a3f5f",
           "arrowhead": 0,
           "arrowwidth": 1
          },
          "autotypenumbers": "strict",
          "coloraxis": {
           "colorbar": {
            "outlinewidth": 0,
            "ticks": ""
           }
          },
          "colorscale": {
           "diverging": [
            [
             0,
             "#8e0152"
            ],
            [
             0.1,
             "#c51b7d"
            ],
            [
             0.2,
             "#de77ae"
            ],
            [
             0.3,
             "#f1b6da"
            ],
            [
             0.4,
             "#fde0ef"
            ],
            [
             0.5,
             "#f7f7f7"
            ],
            [
             0.6,
             "#e6f5d0"
            ],
            [
             0.7,
             "#b8e186"
            ],
            [
             0.8,
             "#7fbc41"
            ],
            [
             0.9,
             "#4d9221"
            ],
            [
             1,
             "#276419"
            ]
           ],
           "sequential": [
            [
             0,
             "#0d0887"
            ],
            [
             0.1111111111111111,
             "#46039f"
            ],
            [
             0.2222222222222222,
             "#7201a8"
            ],
            [
             0.3333333333333333,
             "#9c179e"
            ],
            [
             0.4444444444444444,
             "#bd3786"
            ],
            [
             0.5555555555555556,
             "#d8576b"
            ],
            [
             0.6666666666666666,
             "#ed7953"
            ],
            [
             0.7777777777777778,
             "#fb9f3a"
            ],
            [
             0.8888888888888888,
             "#fdca26"
            ],
            [
             1,
             "#f0f921"
            ]
           ],
           "sequentialminus": [
            [
             0,
             "#0d0887"
            ],
            [
             0.1111111111111111,
             "#46039f"
            ],
            [
             0.2222222222222222,
             "#7201a8"
            ],
            [
             0.3333333333333333,
             "#9c179e"
            ],
            [
             0.4444444444444444,
             "#bd3786"
            ],
            [
             0.5555555555555556,
             "#d8576b"
            ],
            [
             0.6666666666666666,
             "#ed7953"
            ],
            [
             0.7777777777777778,
             "#fb9f3a"
            ],
            [
             0.8888888888888888,
             "#fdca26"
            ],
            [
             1,
             "#f0f921"
            ]
           ]
          },
          "colorway": [
           "#636efa",
           "#EF553B",
           "#00cc96",
           "#ab63fa",
           "#FFA15A",
           "#19d3f3",
           "#FF6692",
           "#B6E880",
           "#FF97FF",
           "#FECB52"
          ],
          "font": {
           "color": "#2a3f5f"
          },
          "geo": {
           "bgcolor": "white",
           "lakecolor": "white",
           "landcolor": "#E5ECF6",
           "showlakes": true,
           "showland": true,
           "subunitcolor": "white"
          },
          "hoverlabel": {
           "align": "left"
          },
          "hovermode": "closest",
          "mapbox": {
           "style": "light"
          },
          "paper_bgcolor": "white",
          "plot_bgcolor": "#E5ECF6",
          "polar": {
           "angularaxis": {
            "gridcolor": "white",
            "linecolor": "white",
            "ticks": ""
           },
           "bgcolor": "#E5ECF6",
           "radialaxis": {
            "gridcolor": "white",
            "linecolor": "white",
            "ticks": ""
           }
          },
          "scene": {
           "xaxis": {
            "backgroundcolor": "#E5ECF6",
            "gridcolor": "white",
            "gridwidth": 2,
            "linecolor": "white",
            "showbackground": true,
            "ticks": "",
            "zerolinecolor": "white"
           },
           "yaxis": {
            "backgroundcolor": "#E5ECF6",
            "gridcolor": "white",
            "gridwidth": 2,
            "linecolor": "white",
            "showbackground": true,
            "ticks": "",
            "zerolinecolor": "white"
           },
           "zaxis": {
            "backgroundcolor": "#E5ECF6",
            "gridcolor": "white",
            "gridwidth": 2,
            "linecolor": "white",
            "showbackground": true,
            "ticks": "",
            "zerolinecolor": "white"
           }
          },
          "shapedefaults": {
           "line": {
            "color": "#2a3f5f"
           }
          },
          "ternary": {
           "aaxis": {
            "gridcolor": "white",
            "linecolor": "white",
            "ticks": ""
           },
           "baxis": {
            "gridcolor": "white",
            "linecolor": "white",
            "ticks": ""
           },
           "bgcolor": "#E5ECF6",
           "caxis": {
            "gridcolor": "white",
            "linecolor": "white",
            "ticks": ""
           }
          },
          "title": {
           "x": 0.05
          },
          "xaxis": {
           "automargin": true,
           "gridcolor": "white",
           "linecolor": "white",
           "ticks": "",
           "title": {
            "standoff": 15
           },
           "zerolinecolor": "white",
           "zerolinewidth": 2
          },
          "yaxis": {
           "automargin": true,
           "gridcolor": "white",
           "linecolor": "white",
           "ticks": "",
           "title": {
            "standoff": 15
           },
           "zerolinecolor": "white",
           "zerolinewidth": 2
          }
         }
        },
        "title": {
         "font": {
          "family": "Arial, bold",
          "size": 20
         },
         "text": "Median House Price % Change, Median Household Income % Change, and Inflation Rate Comparison",
         "x": 0.5
        },
        "width": 1200,
        "xaxis": {
         "dtick": 1,
         "range": [
          1983,
          2024
         ],
         "tickangle": -90,
         "title": {
          "text": "Year"
         },
         "type": "linear"
        },
        "yaxis": {
         "autorange": true,
         "range": [
          -0.10646957195438558,
          0.24329261633797342
         ],
         "side": "left",
         "tickformat": ".2%",
         "title": {
          "text": "%"
         },
         "type": "linear"
        }
       }
      },
      "image/png": "[encoded data removed]",
      "text/html": [
       "<div>                            <div id=\"87326d03-2248-4fe7-bbc8-6142177e21c0\" class=\"plotly-graph-div\" style=\"height:600px; width:1200px;\"></div>            <script type=\"text/javascript\">                require([\"plotly\"], function(Plotly) {                    window.PLOTLYENV=window.PLOTLYENV || {};                                    if (document.getElementById(\"87326d03-2248-4fe7-bbc8-6142177e21c0\")) {                    Plotly.newPlot(                        \"87326d03-2248-4fe7-bbc8-6142177e21c0\",                        [{\"marker\":{\"color\":\"lightgreen\"},\"mode\":\"lines+markers\",\"name\":\"Median House Price % Change\",\"x\":[1985,1986,1987,1988,1989,1990,1991,1992,1993,1994,1995,1996,1997,1998,1999,2000,2001,2002,2003,2004,2005,2006,2007,2008,2009,2010,2011,2012,2013,2014,2015,2016,2017,2018,2019,2020,2021,2022,2023],\"y\":[0.07160493827160486,0.09447004608294929,0.17368421052631589,0.03139013452914807,0.08521739130434791,0.01602564102564097,-0.05362776025236593,0.050000000000000044,0.007936507936507908,0.03937007874015741,0.045454545454545414,0.04420289855072457,0.01179736294240108,0.04938271604938271,0.08039215686274503,0.04597701149425282,0.03528050896471946,0.06201117318435756,0.04576538663861118,0.15090543259557343,0.06468531468531458,0.016830870279146204,0.03916027452563586,-0.08585858585858586,-0.061198470038249075,0.015391579900407404,0.016941596076682996,0.10346339324857512,0.08700834326579265,0.09247076023391809,0.012044161927065922,0.02776859504132223,0.08684464458025087,-0.018052678307191483,-0.014165159734779942,0.03515744420666467,0.2226816302421737,0.06908212560386473,-0.016267510167193855],\"type\":\"scatter\"},{\"marker\":{\"color\":\"blue\"},\"mode\":\"lines+markers\",\"name\":\"Median Household Income % Change\",\"x\":[1985,1986,1987,1988,1989,1990,1991,1992,1993,1994,1995,1996,1997,1998,1999,2000,2001,2002,2003,2004,2005,2006,2007,2008,2009,2010,2011,2012,2013,2014,2015,2016,2017,2018,2019,2020,2021,2022,2023],\"y\":[0.01900559986424577,0.03713572023313905,0.012524084778420042,0.007453219156358992,0.016999842594050074,-0.012072434607645843,-0.029296569011436624,-0.008231116849580333,-0.004882017900732283,0.01062959934587071,0.03187702265372172,0.01474047357691699,0.02070777314170913,0.03663890991672969,0.025412589455235945,-0.0027061672126478253,-0.016423878891745236,-0.008131261797589606,0.0005855658029572108,-0.001463057790782707,0.01553113553113561,0.011109508007502544,0.016124429223744352,-0.03412442072742594,-0.006397208490840356,-0.023558677202224154,-0.014686048254158535,-0.0001520912547529063,0.03772436872528151,-0.01260627381999413,0.05403800475059373,0.03549295774647887,0.017546245919477732,0.013099852960834157,0.07151339226810927,-0.020317694865164437,-0.0037707390648566985,-0.021700731768862003,0.0395924684034048],\"type\":\"scatter\"},{\"marker\":{\"color\":\"red\"},\"mode\":\"lines+markers\",\"name\":\"Inflation Rate\",\"x\":[1985,1986,1987,1988,1989,1990,1991,1992,1993,1994,1995,1996,1997,1998,1999,2000,2001,2002,2003,2004,2005,2006,2007,2008,2009,2010,2011,2012,2013,2014,2015,2016,2017,2018,2019,2020,2021,2022,2023],\"y\":[0.038,0.011000000000000001,0.044000000000000004,0.044000000000000004,0.046,0.061,0.031,0.028999999999999998,0.027000000000000003,0.027000000000000003,0.025,0.033,0.017,0.016,0.027000000000000003,0.034,0.016,0.024,0.019,0.033,0.034,0.025,0.040999999999999995,0.001,0.027000000000000003,0.015,0.03,0.017,0.015,0.008,0.006999999999999999,0.021,0.021,0.019,0.023,0.013999999999999999,0.07,0.065,0.034],\"type\":\"scatter\"}],                        {\"height\":600,\"legend\":{\"bordercolor\":\"Black\",\"borderwidth\":1,\"orientation\":\"h\",\"x\":0.5,\"xanchor\":\"center\",\"y\":1.1,\"yanchor\":\"top\"},\"plot_bgcolor\":\"white\",\"title\":{\"font\":{\"family\":\"Arial, bold\",\"size\":20},\"text\":\"Median House Price % Change, Median Household Income % Change, and Inflation Rate Comparison\",\"x\":0.5},\"width\":1200,\"xaxis\":{\"dtick\":1,\"range\":[1983,2024],\"tickangle\":-90,\"title\":{\"text\":\"Year\"}},\"yaxis\":{\"side\":\"left\",\"tickformat\":\".2%\",\"title\":{\"text\":\"%\"}},\"template\":{\"data\":{\"histogram2dcontour\":[{\"type\":\"histogram2dcontour\",\"colorbar\":{\"outlinewidth\":0,\"ticks\":\"\"},\"colorscale\":[[0.0,\"#0d0887\"],[0.1111111111111111,\"#46039f\"],[0.2222222222222222,\"#7201a8\"],[0.3333333333333333,\"#9c179e\"],[0.4444444444444444,\"#bd3786\"],[0.5555555555555556,\"#d8576b\"],[0.6666666666666666,\"#ed7953\"],[0.7777777777777778,\"#fb9f3a\"],[0.8888888888888888,\"#fdca26\"],[1.0,\"#f0f921\"]]}],\"choropleth\":[{\"type\":\"choropleth\",\"colorbar\":{\"outlinewidth\":0,\"ticks\":\"\"}}],\"histogram2d\":[{\"type\":\"histogram2d\",\"colorbar\":{\"outlinewidth\":0,\"ticks\":\"\"},\"colorscale\":[[0.0,\"#0d0887\"],[0.1111111111111111,\"#46039f\"],[0.2222222222222222,\"#7201a8\"],[0.3333333333333333,\"#9c179e\"],[0.4444444444444444,\"#bd3786\"],[0.5555555555555556,\"#d8576b\"],[0.6666666666666666,\"#ed7953\"],[0.7777777777777778,\"#fb9f3a\"],[0.8888888888888888,\"#fdca26\"],[1.0,\"#f0f921\"]]}],\"heatmap\":[{\"type\":\"heatmap\",\"colorbar\":{\"outlinewidth\":0,\"ticks\":\"\"},\"colorscale\":[[0.0,\"#0d0887\"],[0.1111111111111111,\"#46039f\"],[0.2222222222222222,\"#7201a8\"],[0.3333333333333333,\"#9c179e\"],[0.4444444444444444,\"#bd3786\"],[0.5555555555555556,\"#d8576b\"],[0.6666666666666666,\"#ed7953\"],[0.7777777777777778,\"#fb9f3a\"],[0.8888888888888888,\"#fdca26\"],[1.0,\"#f0f921\"]]}],\"heatmapgl\":[{\"type\":\"heatmapgl\",\"colorbar\":{\"outlinewidth\":0,\"ticks\":\"\"},\"colorscale\":[[0.0,\"#0d0887\"],[0.1111111111111111,\"#46039f\"],[0.2222222222222222,\"#7201a8\"],[0.3333333333333333,\"#9c179e\"],[0.4444444444444444,\"#bd3786\"],[0.5555555555555556,\"#d8576b\"],[0.6666666666666666,\"#ed7953\"],[0.7777777777777778,\"#fb9f3a\"],[0.8888888888888888,\"#fdca26\"],[1.0,\"#f0f921\"]]}],\"contourcarpet\":[{\"type\":\"contourcarpet\",\"colorbar\":{\"outlinewidth\":0,\"ticks\":\"\"}}],\"contour\":[{\"type\":\"contour\",\"colorbar\":{\"outlinewidth\":0,\"ticks\":\"\"},\"colorscale\":[[0.0,\"#0d0887\"],[0.1111111111111111,\"#46039f\"],[0.2222222222222222,\"#7201a8\"],[0.3333333333333333,\"#9c179e\"],[0.4444444444444444,\"#bd3786\"],[0.5555555555555556,\"#d8576b\"],[0.6666666666666666,\"#ed7953\"],[0.7777777777777778,\"#fb9f3a\"],[0.8888888888888888,\"#fdca26\"],[1.0,\"#f0f921\"]]}],\"surface\":[{\"type\":\"surface\",\"colorbar\":{\"outlinewidth\":0,\"ticks\":\"\"},\"colorscale\":[[0.0,\"#0d0887\"],[0.1111111111111111,\"#46039f\"],[0.2222222222222222,\"#7201a8\"],[0.3333333333333333,\"#9c179e\"],[0.4444444444444444,\"#bd3786\"],[0.5555555555555556,\"#d8576b\"],[0.6666666666666666,\"#ed7953\"],[0.7777777777777778,\"#fb9f3a\"],[0.8888888888888888,\"#fdca26\"],[1.0,\"#f0f921\"]]}],\"mesh3d\":[{\"type\":\"mesh3d\",\"colorbar\":{\"outlinewidth\":0,\"ticks\":\"\"}}],\"scatter\":[{\"fillpattern\":{\"fillmode\":\"overlay\",\"size\":10,\"solidity\":0.2},\"type\":\"scatter\"}],\"parcoords\":[{\"type\":\"parcoords\",\"line\":{\"colorbar\":{\"outlinewidth\":0,\"ticks\":\"\"}}}],\"scatterpolargl\":[{\"type\":\"scatterpolargl\",\"marker\":{\"colorbar\":{\"outlinewidth\":0,\"ticks\":\"\"}}}],\"bar\":[{\"error_x\":{\"color\":\"#2a3f5f\"},\"error_y\":{\"color\":\"#2a3f5f\"},\"marker\":{\"line\":{\"color\":\"#E5ECF6\",\"width\":0.5},\"pattern\":{\"fillmode\":\"overlay\",\"size\":10,\"solidity\":0.2}},\"type\":\"bar\"}],\"scattergeo\":[{\"type\":\"scattergeo\",\"marker\":{\"colorbar\":{\"outlinewidth\":0,\"ticks\":\"\"}}}],\"scatterpolar\":[{\"type\":\"scatterpolar\",\"marker\":{\"colorbar\":{\"outlinewidth\":0,\"ticks\":\"\"}}}],\"histogram\":[{\"marker\":{\"pattern\":{\"fillmode\":\"overlay\",\"size\":10,\"solidity\":0.2}},\"type\":\"histogram\"}],\"scattergl\":[{\"type\":\"scattergl\",\"marker\":{\"colorbar\":{\"outlinewidth\":0,\"ticks\":\"\"}}}],\"scatter3d\":[{\"type\":\"scatter3d\",\"line\":{\"colorbar\":{\"outlinewidth\":0,\"ticks\":\"\"}},\"marker\":{\"colorbar\":{\"outlinewidth\":0,\"ticks\":\"\"}}}],\"scattermapbox\":[{\"type\":\"scattermapbox\",\"marker\":{\"colorbar\":{\"outlinewidth\":0,\"ticks\":\"\"}}}],\"scatterternary\":[{\"type\":\"scatterternary\",\"marker\":{\"colorbar\":{\"outlinewidth\":0,\"ticks\":\"\"}}}],\"scattercarpet\":[{\"type\":\"scattercarpet\",\"marker\":{\"colorbar\":{\"outlinewidth\":0,\"ticks\":\"\"}}}],\"carpet\":[{\"aaxis\":{\"endlinecolor\":\"#2a3f5f\",\"gridcolor\":\"white\",\"linecolor\":\"white\",\"minorgridcolor\":\"white\",\"startlinecolor\":\"#2a3f5f\"},\"baxis\":{\"endlinecolor\":\"#2a3f5f\",\"gridcolor\":\"white\",\"linecolor\":\"white\",\"minorgridcolor\":\"white\",\"startlinecolor\":\"#2a3f5f\"},\"type\":\"carpet\"}],\"table\":[{\"cells\":{\"fill\":{\"color\":\"#EBF0F8\"},\"line\":{\"color\":\"white\"}},\"header\":{\"fill\":{\"color\":\"#C8D4E3\"},\"line\":{\"color\":\"white\"}},\"type\":\"table\"}],\"barpolar\":[{\"marker\":{\"line\":{\"color\":\"#E5ECF6\",\"width\":0.5},\"pattern\":{\"fillmode\":\"overlay\",\"size\":10,\"solidity\":0.2}},\"type\":\"barpolar\"}],\"pie\":[{\"automargin\":true,\"type\":\"pie\"}]},\"layout\":{\"autotypenumbers\":\"strict\",\"colorway\":[\"#636efa\",\"#EF553B\",\"#00cc96\",\"#ab63fa\",\"#FFA15A\",\"#19d3f3\",\"#FF6692\",\"#B6E880\",\"#FF97FF\",\"#FECB52\"],\"font\":{\"color\":\"#2a3f5f\"},\"hovermode\":\"closest\",\"hoverlabel\":{\"align\":\"left\"},\"paper_bgcolor\":\"white\",\"plot_bgcolor\":\"#E5ECF6\",\"polar\":{\"bgcolor\":\"#E5ECF6\",\"angularaxis\":{\"gridcolor\":\"white\",\"linecolor\":\"white\",\"ticks\":\"\"},\"radialaxis\":{\"gridcolor\":\"white\",\"linecolor\":\"white\",\"ticks\":\"\"}},\"ternary\":{\"bgcolor\":\"#E5ECF6\",\"aaxis\":{\"gridcolor\":\"white\",\"linecolor\":\"white\",\"ticks\":\"\"},\"baxis\":{\"gridcolor\":\"white\",\"linecolor\":\"white\",\"ticks\":\"\"},\"caxis\":{\"gridcolor\":\"white\",\"linecolor\":\"white\",\"ticks\":\"\"}},\"coloraxis\":{\"colorbar\":{\"outlinewidth\":0,\"ticks\":\"\"}},\"colorscale\":{\"sequential\":[[0.0,\"#0d0887\"],[0.1111111111111111,\"#46039f\"],[0.2222222222222222,\"#7201a8\"],[0.3333333333333333,\"#9c179e\"],[0.4444444444444444,\"#bd3786\"],[0.5555555555555556,\"#d8576b\"],[0.6666666666666666,\"#ed7953\"],[0.7777777777777778,\"#fb9f3a\"],[0.8888888888888888,\"#fdca26\"],[1.0,\"#f0f921\"]],\"sequentialminus\":[[0.0,\"#0d0887\"],[0.1111111111111111,\"#46039f\"],[0.2222222222222222,\"#7201a8\"],[0.3333333333333333,\"#9c179e\"],[0.4444444444444444,\"#bd3786\"],[0.5555555555555556,\"#d8576b\"],[0.6666666666666666,\"#ed7953\"],[0.7777777777777778,\"#fb9f3a\"],[0.8888888888888888,\"#fdca26\"],[1.0,\"#f0f921\"]],\"diverging\":[[0,\"#8e0152\"],[0.1,\"#c51b7d\"],[0.2,\"#de77ae\"],[0.3,\"#f1b6da\"],[0.4,\"#fde0ef\"],[0.5,\"#f7f7f7\"],[0.6,\"#e6f5d0\"],[0.7,\"#b8e186\"],[0.8,\"#7fbc41\"],[0.9,\"#4d9221\"],[1,\"#276419\"]]},\"xaxis\":{\"gridcolor\":\"white\",\"linecolor\":\"white\",\"ticks\":\"\",\"title\":{\"standoff\":15},\"zerolinecolor\":\"white\",\"automargin\":true,\"zerolinewidth\":2},\"yaxis\":{\"gridcolor\":\"white\",\"linecolor\":\"white\",\"ticks\":\"\",\"title\":{\"standoff\":15},\"zerolinecolor\":\"white\",\"automargin\":true,\"zerolinewidth\":2},\"scene\":{\"xaxis\":{\"backgroundcolor\":\"#E5ECF6\",\"gridcolor\":\"white\",\"linecolor\":\"white\",\"showbackground\":true,\"ticks\":\"\",\"zerolinecolor\":\"white\",\"gridwidth\":2},\"yaxis\":{\"backgroundcolor\":\"#E5ECF6\",\"gridcolor\":\"white\",\"linecolor\":\"white\",\"showbackground\":true,\"ticks\":\"\",\"zerolinecolor\":\"white\",\"gridwidth\":2},\"zaxis\":{\"backgroundcolor\":\"#E5ECF6\",\"gridcolor\":\"white\",\"linecolor\":\"white\",\"showbackground\":true,\"ticks\":\"\",\"zerolinecolor\":\"white\",\"gridwidth\":2}},\"shapedefaults\":{\"line\":{\"color\":\"#2a3f5f\"}},\"annotationdefaults\":{\"arrowcolor\":\"#2a3f5f\",\"arrowhead\":0,\"arrowwidth\":1},\"geo\":{\"bgcolor\":\"white\",\"landcolor\":\"#E5ECF6\",\"subunitcolor\":\"white\",\"showland\":true,\"showlakes\":true,\"lakecolor\":\"white\"},\"title\":{\"x\":0.05},\"mapbox\":{\"style\":\"light\"}}}},                        {\"responsive\": true}                    ).then(function(){\n",
       "                            \n",
       "var gd = document.getElementById('87326d03-2248-4fe7-bbc8-6142177e21c0');\n",
       "var x = new MutationObserver(function (mutations, observer) {{\n",
       "        var display = window.getComputedStyle(gd).display;\n",
       "        if (!display || display === 'none') {{\n",
       "            console.log([gd, 'removed!']);\n",
       "            Plotly.purge(gd);\n",
       "            observer.disconnect();\n",
       "        }}\n",
       "}});\n",
       "\n",
       "// Listen for the removal of the full notebook cells\n",
       "var notebookContainer = gd.closest('#notebook-container');\n",
       "if (notebookContainer) {{\n",
       "    x.observe(notebookContainer, {childList: true});\n",
       "}}\n",
       "\n",
       "// Listen for the clearing of the current output cell\n",
       "var outputEl = gd.closest('.output');\n",
       "if (outputEl) {{\n",
       "    x.observe(outputEl, {childList: true});\n",
       "}}\n",
       "\n",
       "                        })                };                });            </script>        </div>"
      ]
     },
     "metadata": {},
     "output_type": "display_data"
    }
   ],
   "source": [
    "# Create the line chart for the Median House Price % Increase\n",
    "price_line_chart = go.Scatter(x = combined_data_calculations_df[\"Year\"],     # x-axis\n",
    "                              y = combined_data_calculations_df[\"Median House Price % Change\"],     # y-axis\n",
    "                              name = \"Median House Price % Change\",     # line_chart legend title\n",
    "                              mode = \"lines+markers\",     # Creates a line chart with markers at each data point\n",
    "                              marker = dict(color = \"lightgreen\"),     # Changes the color of the line\n",
    "                              )\n",
    "\n",
    "# Create the line chart for Median Household Income % Increase\n",
    "income_line_chart = go.Scatter(x = combined_data_calculations_df[\"Year\"],     # x-axis\n",
    "                               y = combined_data_calculations_df[\"Median Household Income % Change\"],     # y-axis\n",
    "                               name = \"Median Household Income % Change\",     # line_chart legend title\n",
    "                               mode = \"lines+markers\",     # Creates a line chart with markers at each data point\n",
    "                               marker = dict(color = \"blue\"),     # Changes the color of the line\n",
    "                               )\n",
    "\n",
    "# Create the line chart for Inflation Rate\n",
    "inflation_line_chart = go.Scatter(x = combined_data_calculations_df[\"Year\"],     # x-axis\n",
    "                                  y = combined_data_calculations_df[\"Inflation Rate\"],     # y-axis\n",
    "                                  name = \"Inflation Rate\",     # inflation line chart legend title\n",
    "                                  mode = \"lines+markers\",     # Creates a line chart with markers at each data point\n",
    "                                  marker = dict(color = \"red\"),     # Changes the color of the line\n",
    "                                  )\n",
    "\n",
    "# Create the layout with a secondary y-axis for Inflation Rate\n",
    "layout = go.Layout(title = \"Median House Price % Change, Median Household Income % Change, and Inflation Rate Comparison\",\n",
    "                   xaxis = dict(title = \"Year\", \n",
    "                                tickangle = -90,     # Rotate tick labels to vertical\n",
    "                                dtick = 1,     # Set the increment for x-axis ticks (1 year)\n",
    "                                range = [1983, 2024]),     # Set the beginning and end values for the x-axis range\n",
    "                   plot_bgcolor = \"white\",     # Set plot area background color\n",
    "                   title_x = 0.5,    # Center the title\n",
    "                   title_font = dict(size = 20, family = \"Arial, bold\"),     # Set the title font size and style\n",
    "                   width = 1200,\n",
    "                   height = 600,\n",
    "                   yaxis = dict(title = \"%\", side = \"left\", tickformat = \".2%\"),     # Format for y-axis\n",
    "                   legend = dict(x = 0.5, y = 1.1,     # Position the legend\n",
    "                                 xanchor = \"center\",     # Center the legend horizontally\n",
    "                                 yanchor = \"top\",     # Anchor the legend to the bottom\n",
    "                                 orientation = \"h\",     # Horizontal orientation\n",
    "                                 bordercolor = \"Black\",     # Border color of the legend\n",
    "                                 borderwidth = 1  # Border width of the legend\n",
    "                                 )\n",
    "                  )\n",
    "\n",
    "# Create the figure with all three charts\n",
    "combo_fig = go.Figure(data = [price_line_chart, income_line_chart, inflation_line_chart], layout = layout)\n",
    "\n",
    "# Show the figure\n",
    "combo_fig.show()"
   ]
  },
  {
   "cell_type": "markdown",
   "id": "6ee7fffd-1a64-44c1-825e-fb808cfe86af",
   "metadata": {},
   "source": [
    "**Graph Analysis:**\n",
    "- Median House Price and Household Income % Change shows the change in house price and household income year to year\n",
    "- Median House Price flutuates quite a bit year to year"
   ]
  },
  {
   "cell_type": "markdown",
   "id": "24fdc500-e2c3-4df4-9808-b5526e6965d0",
   "metadata": {},
   "source": [
    "### **Statistical Analysis**"
   ]
  },
  {
   "cell_type": "code",
   "execution_count": 236,
   "id": "7a4eb413-7917-43d5-9dfa-d7fc798a3c55",
   "metadata": {
    "jupyter": {
     "source_hidden": true
    }
   },
   "outputs": [
    {
     "data": {
      "text/plain": [
       "min    1984\n",
       "max    2023\n",
       "Name: Year, dtype: int32"
      ]
     },
     "execution_count": 236,
     "metadata": {},
     "output_type": "execute_result"
    }
   ],
   "source": [
    "# Determine minimum and maximum dates in dataset\n",
    "date_aggregation = combined_data_df[\"Year\"].agg([\"min\", \"max\"])\n",
    "date_aggregation"
   ]
  },
  {
   "cell_type": "code",
   "execution_count": 292,
   "id": "81a691ac-1f9a-43a3-b7c1-eaa0963ec833",
   "metadata": {
    "jupyter": {
     "source_hidden": true
    }
   },
   "outputs": [
    {
     "name": "stdout",
     "output_type": "stream",
     "text": [
      "The minimum house price is $81,000.00 in the year 1984.\n",
      "The maximum house price is $442,600.00 in the year 2022.\n",
      "House price has increased $361,600.00 in 38 years.\n",
      "The average house price is $217,100.00.\n",
      "The house price variance is 9316332000.0.\n"
     ]
    }
   ],
   "source": [
    "# Determine minimum and maximum values for Median House Price for graph axis ranges\n",
    "house_price_aggregation = combined_data_df[\"Median House Price\"].agg([\"min\", \"max\"])\n",
    "\n",
    "# Calculate change from min and max house price\n",
    "house_price_change = house_price_aggregation[\"max\"] - house_price_aggregation[\"min\"]\n",
    "\n",
    "# Determine the mean house price\n",
    "house_price_average = np.mean(combined_data_df[\"Median House Price\"])\n",
    "\n",
    "# Determine the house price variance\n",
    "house_price_variance = np.var(combined_data_df[\"Median House Price\"])\n",
    "\n",
    "# Format to dollar amounts\n",
    "house_price_aggregation = house_price_aggregation.map(lambda x: \"${:,.2f}\".format(x))\n",
    "house_price_change = \"${:,.2f}\".format(house_price_change)\n",
    "house_price_average = \"${:,.2f}\".format(house_price_average)\n",
    "\n",
    "# Find the year for the minimum and maximum house price\n",
    "price_min_year = combined_data_df.loc[combined_data_df[\"Median House Price\"].idxmin(), \"Year\"]\n",
    "price_max_year = combined_data_df.loc[combined_data_df[\"Median House Price\"].idxmax(), \"Year\"]\n",
    "\n",
    "# Calculate change in years\n",
    "price_year_change = price_max_year - price_min_year\n",
    "\n",
    "# Display the results\n",
    "print(f'The minimum house price is {house_price_aggregation[\"min\"]} in the year {price_min_year}.')\n",
    "print(f'The maximum house price is {house_price_aggregation[\"max\"]} in the year {price_max_year}.')\n",
    "print(f'House price has increased {house_price_change} in {price_year_change} years.')\n",
    "print(f'The average house price is {house_price_average}.')\n",
    "print(f'The house price variance is {house_price_variance}.')"
   ]
  },
  {
   "cell_type": "code",
   "execution_count": 293,
   "id": "67e569e7-3f1c-4a14-be36-20d3531f95e4",
   "metadata": {
    "jupyter": {
     "source_hidden": true
    }
   },
   "outputs": [
    {
     "name": "stdout",
     "output_type": "stream",
     "text": [
      "The minimum household income is $58,930.00 in the year 1984.\n",
      "The maximum household income is $81,210.00 in the year 2019.\n",
      "Household income has only increased $22,280.00 in 35 years.\n",
      "The average household income is $68,362.00\n",
      "The household income variance is 32862256.0.\n"
     ]
    }
   ],
   "source": [
    "# Determine minimum and maximum values for Median Household Income for graph axis ranges\n",
    "household_income_aggregation = combined_data_df[\"Median Household Income\"].agg([\"min\", \"max\"])\n",
    "\n",
    "# Calculate change from min and max house price\n",
    "house_income_change = household_income_aggregation[\"max\"] - household_income_aggregation[\"min\"]\n",
    "\n",
    "# Determine the mean household income\n",
    "house_income_average = np.mean(combined_data_df[\"Median Household Income\"])\n",
    "\n",
    "# Determine the household income variance\n",
    "house_income_variance = np.var(combined_data_df[\"Median Household Income\"])\n",
    "\n",
    "# Format the min and max values as dollar amounts\n",
    "household_income_aggregation = household_income_aggregation.map(lambda x: \"${:,.2f}\".format(x))\n",
    "house_income_change = \"${:,.2f}\".format(house_income_change)\n",
    "house_income_average = \"${:,.2f}\".format(house_income_average)\n",
    "\n",
    "# Find the year for the minimum and maximum inflation rate\n",
    "income_min_year = combined_data_df.loc[combined_data_df[\"Median Household Income\"].idxmin(), \"Year\"]\n",
    "income_max_year = combined_data_df.loc[combined_data_df[\"Median Household Income\"].idxmax(), \"Year\"]\n",
    "\n",
    "# Calculate change in years\n",
    "income_year_change = income_max_year - income_min_year\n",
    "\n",
    "# Display the results\n",
    "print(f'The minimum household income is {household_income_aggregation[\"min\"]} in the year {income_min_year}.')\n",
    "print(f'The maximum household income is {household_income_aggregation[\"max\"]} in the year {income_max_year}.')\n",
    "print(f'Household income has only increased {house_income_change} in {income_year_change} years.')\n",
    "print(f'The average household income is {house_income_average}')\n",
    "print(f'The household income variance is {house_income_variance}.')"
   ]
  },
  {
   "cell_type": "code",
   "execution_count": 295,
   "id": "c96a217d-14e6-427a-b8fe-57ffb4a82d7c",
   "metadata": {
    "jupyter": {
     "source_hidden": true
    }
   },
   "outputs": [
    {
     "name": "stdout",
     "output_type": "stream",
     "text": [
      "The minimum inflation rate is 0.10% in the year 2008.\n",
      "The maximum inflation rate is 7.00% in the year 2021.\n",
      "The average inflation rate is 2.82%\n",
      "The inflation rate variance is 0.00022161000000000004.\n"
     ]
    }
   ],
   "source": [
    "# Determine minimum and maximum values for Inflation Rate\n",
    "inflation_rate_aggregation = combined_data_df[\"Inflation Rate\"].agg([\"min\", \"max\"])\n",
    "#inflation_rate_aggregation\n",
    "\n",
    "# Determine the mean inflation rate\n",
    "inflation_rate_average = np.mean(combined_data_df[\"Inflation Rate\"])\n",
    "\n",
    "# Determine the inflation rate variance\n",
    "inflation_rate_variance = np.var(combined_data_df[\"Inflation Rate\"])\n",
    "\n",
    "# Format the min and max values as percentages with two decimal places\n",
    "inflation_rate_aggregation = inflation_rate_aggregation.map(lambda x: \"{:.2f}%\".format(x * 100))\n",
    "inflation_rate_average = \"{:.2f}%\".format(inflation_rate_average * 100)\n",
    "\n",
    "# Find the year for the minimum and maximum inflation rate\n",
    "rate_min_year = combined_data_df.loc[combined_data_df[\"Inflation Rate\"].idxmin(), \"Year\"]\n",
    "rate_max_year = combined_data_df.loc[combined_data_df[\"Inflation Rate\"].idxmax(), \"Year\"]\n",
    "\n",
    "# Display the results\n",
    "print(f'The minimum inflation rate is {inflation_rate_aggregation[\"min\"]} in the year {rate_min_year}.')\n",
    "print(f'The maximum inflation rate is {inflation_rate_aggregation[\"max\"]} in the year {rate_max_year}.')\n",
    "print(f'The average inflation rate is {inflation_rate_average}')\n",
    "print(f'The inflation rate variance is {inflation_rate_variance}.')"
   ]
  },
  {
   "cell_type": "code",
   "execution_count": 298,
   "id": "eaaf1dab-758f-489f-83c9-a1031456819b",
   "metadata": {
    "jupyter": {
     "source_hidden": true
    }
   },
   "outputs": [
    {
     "name": "stdout",
     "output_type": "stream",
     "text": [
      "The minimum house price % change is -8.59% in the year 2008.\n",
      "The maximum house price % change is 22.27% in the year 2021.\n",
      "The average house price % change is 4.57%\n",
      "The house price % change variance is 0.0034051855125299944.\n"
     ]
    }
   ],
   "source": [
    "# Determine minimum and maximum values for Median House Price % Change\n",
    "price_change_aggregation = combined_data_calculations_df[\"Median House Price % Change\"].agg([\"min\", \"max\"])\n",
    "\n",
    "# Determine the mean house price change \n",
    "price_change_average = np.mean(combined_data_calculations_df[\"Median House Price % Change\"])\n",
    "\n",
    "# Determine the house price change variance\n",
    "price_change_variance = np.var(combined_data_calculations_df[\"Median House Price % Change\"])\n",
    "\n",
    "# Format the min and max values as percentages with two decimal places\n",
    "price_change_aggregation = price_change_aggregation.map(lambda x: \"{:.2f}%\".format(x * 100))\n",
    "price_change_average = \"{:.2f}%\".format(price_change_average * 100)\n",
    "\n",
    "# Find the year for the minimum and maximum median household income\n",
    "price_change_min_year = combined_data_calculations_df.loc[combined_data_calculations_df[\"Median House Price % Change\"].idxmin(), \"Year\"]\n",
    "price_change_max_year = combined_data_calculations_df.loc[combined_data_calculations_df[\"Median House Price % Change\"].idxmax(), \"Year\"]\n",
    "\n",
    "# Display the results\n",
    "print(f'The minimum house price % change is {price_change_aggregation[\"min\"]} in the year {price_change_min_year}.')\n",
    "print(f'The maximum house price % change is {price_change_aggregation[\"max\"]} in the year {price_change_max_year}.')\n",
    "print(f'The average house price % change is {price_change_average}')\n",
    "print(f'The house price % change variance is {price_change_variance}.')"
   ]
  },
  {
   "cell_type": "code",
   "execution_count": 296,
   "id": "2158cdd0-2988-433c-9060-2e2c31b9fd32",
   "metadata": {
    "jupyter": {
     "source_hidden": true
    }
   },
   "outputs": [
    {
     "name": "stdout",
     "output_type": "stream",
     "text": [
      "The minimum household income % change is -3.41% in the year 2008.\n",
      "The maximum household income % change is 7.15% in the year 2019.\n",
      "The average household income % change is 0.83%\n",
      "The household income % change variance is 0.0005425767706719782.\n"
     ]
    }
   ],
   "source": [
    "# Determine minimum and maximum values for Median House Price % Change\n",
    "income_change_aggregation = combined_data_calculations_df[\"Median Household Income % Change\"].agg([\"min\", \"max\"])\n",
    "\n",
    "# Determine the mean household income change \n",
    "income_change_average = np.mean(combined_data_calculations_df[\"Median Household Income % Change\"])\n",
    "\n",
    "# Determine the household income change variance\n",
    "income_change_variance = np.var(combined_data_calculations_df[\"Median Household Income % Change\"])\n",
    "\n",
    "# Format the min and max values as percentages with two decimal places\n",
    "income_change_aggregation = income_change_aggregation.map(lambda x: \"{:.2f}%\".format(x * 100))\n",
    "income_change_average = \"{:.2f}%\".format(income_change_average * 100)\n",
    "\n",
    "# Find the year for the minimum and maximum median household income\n",
    "income_change_min_year = combined_data_calculations_df.loc[combined_data_calculations_df[\"Median Household Income % Change\"].idxmin(), \"Year\"]\n",
    "income_change_max_year = combined_data_calculations_df.loc[combined_data_calculations_df[\"Median Household Income % Change\"].idxmax(), \"Year\"]\n",
    "\n",
    "# Display the results\n",
    "print(f'The minimum household income % change is {income_change_aggregation[\"min\"]} in the year {income_change_min_year}.')\n",
    "print(f'The maximum household income % change is {income_change_aggregation[\"max\"]} in the year {income_change_max_year}.')\n",
    "print(f'The average household income % change is {income_change_average}')\n",
    "print(f'The household income % change variance is {income_change_variance}.')"
   ]
  },
  {
   "cell_type": "code",
   "execution_count": 299,
   "id": "3fcaf4a5-44eb-48bf-9861-d343ddd75a03",
   "metadata": {
    "jupyter": {
     "source_hidden": true
    }
   },
   "outputs": [
    {
     "data": {
      "text/html": [
       "<div>\n",
       "<style scoped>\n",
       "    .dataframe tbody tr th:only-of-type {\n",
       "        vertical-align: middle;\n",
       "    }\n",
       "\n",
       "    .dataframe tbody tr th {\n",
       "        vertical-align: top;\n",
       "    }\n",
       "\n",
       "    .dataframe thead th {\n",
       "        text-align: right;\n",
       "    }\n",
       "</style>\n",
       "<table border=\"1\" class=\"dataframe\">\n",
       "  <thead>\n",
       "    <tr style=\"text-align: right;\">\n",
       "      <th></th>\n",
       "      <th>Type</th>\n",
       "      <th>Minimum</th>\n",
       "      <th>Maximum</th>\n",
       "      <th>Average</th>\n",
       "      <th>Variance</th>\n",
       "    </tr>\n",
       "  </thead>\n",
       "  <tbody>\n",
       "    <tr>\n",
       "      <th>0</th>\n",
       "      <td>Median House Price</td>\n",
       "      <td>$81,000.00</td>\n",
       "      <td>$442,600.00</td>\n",
       "      <td>$217,100.00</td>\n",
       "      <td>9.316332e+09</td>\n",
       "    </tr>\n",
       "    <tr>\n",
       "      <th>1</th>\n",
       "      <td>Median Household Income</td>\n",
       "      <td>$58,930.00</td>\n",
       "      <td>$81,210.00</td>\n",
       "      <td>$68,362.00</td>\n",
       "      <td>3.286226e+07</td>\n",
       "    </tr>\n",
       "    <tr>\n",
       "      <th>2</th>\n",
       "      <td>Inflation Rate</td>\n",
       "      <td>0.10%</td>\n",
       "      <td>7.00%</td>\n",
       "      <td>2.82%</td>\n",
       "      <td>2.216100e-04</td>\n",
       "    </tr>\n",
       "    <tr>\n",
       "      <th>3</th>\n",
       "      <td>Median House Price % Change</td>\n",
       "      <td>-8.59%</td>\n",
       "      <td>22.27%</td>\n",
       "      <td>4.57%</td>\n",
       "      <td>3.405186e-03</td>\n",
       "    </tr>\n",
       "    <tr>\n",
       "      <th>4</th>\n",
       "      <td>Median Household Income % Change</td>\n",
       "      <td>-3.41%</td>\n",
       "      <td>7.15%</td>\n",
       "      <td>0.83%</td>\n",
       "      <td>5.425768e-04</td>\n",
       "    </tr>\n",
       "  </tbody>\n",
       "</table>\n",
       "</div>"
      ],
      "text/plain": [
       "                               Type     Minimum      Maximum      Average  \\\n",
       "0                Median House Price  $81,000.00  $442,600.00  $217,100.00   \n",
       "1           Median Household Income  $58,930.00   $81,210.00   $68,362.00   \n",
       "2                    Inflation Rate       0.10%        7.00%        2.82%   \n",
       "3       Median House Price % Change      -8.59%       22.27%        4.57%   \n",
       "4  Median Household Income % Change      -3.41%        7.15%        0.83%   \n",
       "\n",
       "       Variance  \n",
       "0  9.316332e+09  \n",
       "1  3.286226e+07  \n",
       "2  2.216100e-04  \n",
       "3  3.405186e-03  \n",
       "4  5.425768e-04  "
      ]
     },
     "execution_count": 299,
     "metadata": {},
     "output_type": "execute_result"
    }
   ],
   "source": [
    "##### Create dataframe to show all aggregations #####\n",
    "\n",
    "# Create lists with data\n",
    "titles = [\"Median House Price\", \"Median Household Income\", \"Inflation Rate\", \"Median House Price % Change\", \"Median Household Income % Change\"]\n",
    "mins = [house_price_aggregation[\"min\"], household_income_aggregation[\"min\"], inflation_rate_aggregation[\"min\"], price_change_aggregation[\"min\"], income_change_aggregation[\"min\"]]\n",
    "maxs = [house_price_aggregation[\"max\"], household_income_aggregation[\"max\"], inflation_rate_aggregation[\"max\"], price_change_aggregation[\"max\"], income_change_aggregation[\"max\"]]\n",
    "means = [house_price_average, house_income_average, inflation_rate_average, price_change_average, income_change_average]\n",
    "variances = [house_price_variance, house_income_variance, inflation_rate_variance, price_change_variance, income_change_variance]\n",
    "\n",
    "# Put \n",
    "data = {\"Type\": titles,\n",
    "        \"Minimum\": mins,\n",
    "        \"Maximum\": maxs,\n",
    "        \"Average\": means,\n",
    "        \"Variance\": variances}\n",
    "\n",
    "statistic_aggregation_df = pd.DataFrame(data)\n",
    "\n",
    "statistic_aggregation_df"
   ]
  },
  {
   "cell_type": "code",
   "execution_count": 312,
   "id": "7e6eb4f9-9ae7-4017-bd84-6a756acefe5e",
   "metadata": {},
   "outputs": [
    {
     "data": {
      "text/html": [
       "<div>\n",
       "<style scoped>\n",
       "    .dataframe tbody tr th:only-of-type {\n",
       "        vertical-align: middle;\n",
       "    }\n",
       "\n",
       "    .dataframe tbody tr th {\n",
       "        vertical-align: top;\n",
       "    }\n",
       "\n",
       "    .dataframe thead th {\n",
       "        text-align: right;\n",
       "    }\n",
       "</style>\n",
       "<table border=\"1\" class=\"dataframe\">\n",
       "  <thead>\n",
       "    <tr style=\"text-align: right;\">\n",
       "      <th></th>\n",
       "      <th>Type</th>\n",
       "      <th>Lower Quartile</th>\n",
       "      <th>Upper Quartile</th>\n",
       "      <th>IQR</th>\n",
       "    </tr>\n",
       "  </thead>\n",
       "  <tbody>\n",
       "    <tr>\n",
       "      <th>0</th>\n",
       "      <td>Median House Price</td>\n",
       "      <td>$130,750.00</td>\n",
       "      <td>$279,925.00</td>\n",
       "      <td>$149,175.00</td>\n",
       "    </tr>\n",
       "    <tr>\n",
       "      <th>1</th>\n",
       "      <td>Median Household Income</td>\n",
       "      <td>$63,815.00</td>\n",
       "      <td>$70,407.50</td>\n",
       "      <td>$6,592.50</td>\n",
       "    </tr>\n",
       "  </tbody>\n",
       "</table>\n",
       "</div>"
      ],
      "text/plain": [
       "                      Type Lower Quartile Upper Quartile          IQR\n",
       "0       Median House Price    $130,750.00    $279,925.00  $149,175.00\n",
       "1  Median Household Income     $63,815.00     $70,407.50    $6,592.50"
      ]
     },
     "execution_count": 312,
     "metadata": {},
     "output_type": "execute_result"
    }
   ],
   "source": [
    "##### Analyze Outliers #####\n",
    "\n",
    "# Median House Price quartiles\n",
    "house_price_quartiles = combined_data_df[\"Median House Price\"].quantile([0.25, 0.5, 0.75])\n",
    "house_price_lower_quartile = house_price_quartiles[0.25]\n",
    "house_price_upper_quartile = house_price_quartiles[0.75]\n",
    "house_price_iqr = house_price_upper_quartile - house_price_lower_quartile\n",
    "\n",
    "# Median Household Income quartiles\n",
    "household_income_quartiles = combined_data_df[\"Median Household Income\"].quantile([0.25, 0.5, 0.75])\n",
    "household_income_lower_quartile = household_income_quartiles[0.25]\n",
    "household_income_upper_quartile = household_income_quartiles[0.75]\n",
    "household_income_iqr = household_income_upper_quartile - household_income_lower_quartile\n",
    "\n",
    "titles = [\"Median House Price\", \"Median Household Income\"]\n",
    "lower_quartiles = [house_price_lower_quartile, household_income_lower_quartile]\n",
    "upper_quartiles = [house_price_upper_quartile, household_income_upper_quartile]\n",
    "iqr = [house_price_iqr, household_income_iqr]\n",
    "\n",
    "data = {\"Type\": titles,\n",
    "        \"Lower Quartile\": lower_quartiles,\n",
    "        \"Upper Quartile\": upper_quartiles,\n",
    "        \"IQR\": iqr}\n",
    "\n",
    "quartile_df = pd.DataFrame(data)\n",
    "\n",
    "quartile_df[\"Lower Quartile\"] = quartile_df[\"Lower Quartile\"].map(\"${:,.2f}\".format)\n",
    "quartile_df[\"Upper Quartile\"] = quartile_df[\"Upper Quartile\"].map(\"${:,.2f}\".format)\n",
    "quartile_df[\"IQR\"] = quartile_df[\"IQR\"].map(\"${:,.2f}\".format)\n",
    "\n",
    "quartile_df"
   ]
  },
  {
   "cell_type": "code",
   "execution_count": 313,
   "id": "b0a556d9-fee1-449a-b8eb-1e71f2a9e630",
   "metadata": {},
   "outputs": [
    {
     "name": "stdout",
     "output_type": "stream",
     "text": [
      "Number of outliers in Median House Price: 0\n",
      "Number of outliers in Median Household Income: 2\n"
     ]
    }
   ],
   "source": [
    "# Calculate the lower and upper bounds for outliers\n",
    "house_price_lower_bound = house_price_lower_quartile - (1.5 * house_price_iqr)\n",
    "house_price_upper_bound = house_price_upper_quartile + (1.5 * house_price_iqr)\n",
    "\n",
    "household_income_lower_bound = household_income_lower_quartile - (1.5 * household_income_iqr)\n",
    "household_income_upper_bound = household_income_upper_quartile + (1.5 * household_income_iqr)\n",
    "\n",
    "# Count outliers for Median House Price\n",
    "house_price_outliers = combined_data_df[(combined_data_df[\"Median House Price\"] < house_price_lower_bound) | \n",
    "                                         (combined_data_df[\"Median House Price\"] > house_price_upper_bound)]\n",
    "house_price_outlier_count = house_price_outliers.shape[0]\n",
    "\n",
    "# Count outliers for Median Household Income\n",
    "household_income_outliers = combined_data_df[(combined_data_df[\"Median Household Income\"] < household_income_lower_bound) | \n",
    "                                             (combined_data_df[\"Median Household Income\"] > household_income_upper_bound)]\n",
    "household_income_outlier_count = household_income_outliers.shape[0]\n",
    "\n",
    "# Print the counts of outliers\n",
    "print(f\"Number of outliers in Median House Price: {house_price_outlier_count}\")\n",
    "print(f\"Number of outliers in Median Household Income: {household_income_outlier_count}\")"
   ]
  },
  {
   "cell_type": "code",
   "execution_count": null,
   "id": "0eca18fc-b96f-42c4-91dd-469dc0818f08",
   "metadata": {},
   "outputs": [],
   "source": []
  }
 ],
 "metadata": {
  "kernelspec": {
   "display_name": "Python 3 (ipykernel)",
   "language": "python",
   "name": "python3"
  },
  "language_info": {
   "codemirror_mode": {
    "name": "ipython",
    "version": 3
   },
   "file_extension": ".py",
   "mimetype": "text/x-python",
   "name": "python",
   "nbconvert_exporter": "python",
   "pygments_lexer": "ipython3",
   "version": "3.10.15"
  }
 },
 "nbformat": 4,
 "nbformat_minor": 5
}
